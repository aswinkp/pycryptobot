{
 "cells": [
  {
   "cell_type": "code",
   "execution_count": 1,
   "id": "3d9f2109",
   "metadata": {},
   "outputs": [],
   "source": [
    "import logging\n",
    "import os\n",
    "import sched\n",
    "import sys\n",
    "import time\n",
    "import pandas as pd\n",
    "from datetime import datetime\n",
    "from models.PyCryptoBot import PyCryptoBot\n",
    "from models.AppState import AppState\n",
    "from models.Trading import TechnicalAnalysis\n",
    "from models.TradingAccount import TradingAccount\n",
    "from models.helper.LogHelper import Logger\n",
    "\n",
    "app = PyCryptoBot()\n",
    "account = TradingAccount(app)\n",
    "technical_analysis = None\n",
    "state = AppState(app, account)\n",
    "state.initLastAction()\n",
    "\n",
    "config = {}\n",
    "trading_historical_data = {}\n",
    "dataframe_dict = []\n",
    "\n",
    "pd.set_option('display.max_columns', None)\n",
    "# Logger.configure(consoleloglevel=\"ERROR\")\n",
    "\n",
    "def getAction(now: datetime = datetime.today().strftime('%Y-%m-%d %H:%M:%S'), app: PyCryptoBot = None, price: float = 0,\n",
    "              df: pd.DataFrame = pd.DataFrame(), df_last: pd.DataFrame = pd.DataFrame(), last_action: str = 'WAIT') -> str:\n",
    "    ema12gtema26co = bool(df_last['ema12gtema26co'].values[0])\n",
    "    macdgtsignal = bool(df_last['macdgtsignal'].values[0])\n",
    "    goldencross = bool(df_last['goldencross'].values[0])\n",
    "    obv_pc = float(df_last['obv_pc'].values[0])\n",
    "    elder_ray_buy = bool(df_last['eri_buy'].values[0])\n",
    "    ema12gtema26 = bool(df_last['ema12gtema26'].values[0])\n",
    "    macdgtsignalco = bool(df_last['macdgtsignalco'].values[0])\n",
    "    ema12ltema26co = bool(df_last['ema12ltema26co'].values[0])\n",
    "    macdltsignal = bool(df_last['macdltsignal'].values[0])\n",
    "    rri_buy = bool(df_last['rri_buy'].values[0])\n",
    "    rsi = bool(df_last['rsi14'].values[0])\n",
    "\n",
    "    action = '' \n",
    "\n",
    "    # criteria for a buy signal\n",
    "    if ema12gtema26co is True \\\n",
    "            and (macdgtsignal is True or app.disableBuyMACD()) \\\n",
    "            and (goldencross is True or app.disableBullOnly()) \\\n",
    "            and (obv_pc > -5 or app.disableBuyOBV()) \\\n",
    "            and (elder_ray_buy is True or app.disableBuyElderRay()) \\\n",
    "            and last_action != 'BUY':\n",
    "\n",
    "        action = 'BUY'\n",
    "\n",
    "        Logger.debug('*** Buy Signal ***')\n",
    "        Logger.debug(f'ema12gtema26co: {ema12gtema26co}')\n",
    "\n",
    "        if not app.disableBuyMACD():\n",
    "            Logger.debug(f'macdgtsignal: {macdgtsignal}')\n",
    "\n",
    "        if not app.disableBullOnly():\n",
    "            Logger.debug(f'goldencross: {goldencross}')\n",
    "\n",
    "        if not app.disableBuyOBV():\n",
    "            Logger.debug(f'obv_pc: {obv_pc} > -5')\n",
    "\n",
    "        if not app.disableBuyElderRay():\n",
    "            Logger.debug(f'elder_ray_buy: {elder_ray_buy}')\n",
    "\n",
    "        Logger.debug(f'last_action: {last_action}')\n",
    "\n",
    "    elif ema12gtema26 is True \\\n",
    "            and macdgtsignalco is True \\\n",
    "            and (goldencross is True or app.disableBullOnly()) \\\n",
    "            and (obv_pc > -5 or app.disableBuyOBV()) \\\n",
    "            and (elder_ray_buy is True or app.disableBuyElderRay()) \\\n",
    "            and last_action != 'BUY':\n",
    "\n",
    "        action = 'BUY'\n",
    "\n",
    "        Logger.debug('*** Buy Signal ***')\n",
    "        Logger.debug(f'ema12gtema26: {ema12gtema26}')\n",
    "        Logger.debug(f'macdgtsignalco: {macdgtsignalco}')\n",
    "\n",
    "        if not app.disableBullOnly():\n",
    "            Logger.debug(f'goldencross: {goldencross}')\n",
    "\n",
    "        if not app.disableBuyOBV():\n",
    "            Logger.debug(f'obv_pc: {obv_pc} > -5')\n",
    "\n",
    "        if not app.disableBuyElderRay():\n",
    "            Logger.debug(f'elder_ray_buy: {elder_ray_buy}')\n",
    "\n",
    "        Logger.debug(f'last_action: {last_action}')\n",
    "\n",
    "    elif rri_buy is True and (goldencross is True or app.disableBullOnly()) \\\n",
    "            and (obv_pc > -5 or app.disableBuyOBV()) \\\n",
    "            and (elder_ray_buy is True or app.disableBuyElderRay()) \\\n",
    "            and last_action != 'BUY':\n",
    "\n",
    "        action = 'BUY'\n",
    "\n",
    "        Logger.debug('*** Buy Signal ***')\n",
    "        Logger.debug(f'rri_buy: {rri_buy}')\n",
    "\n",
    "    # criteria for a sell signal\n",
    "    elif ema12ltema26co is True \\\n",
    "            and (macdltsignal is True or app.disableBuyMACD()) \\\n",
    "            and last_action not in ['', 'SELL']:\n",
    "\n",
    "        action = 'SELL'\n",
    "\n",
    "        Logger.debug('*** Sell Signal ***')\n",
    "        Logger.debug(f'ema12ltema26co: {ema12ltema26co}')\n",
    "        Logger.debug(f'macdltsignal: {macdltsignal}')\n",
    "        Logger.debug(f'last_action: {last_action}')\n",
    "\n",
    "    # anything other than a buy or sell, just wait\n",
    "    else:\n",
    "        action = 'WAIT'\n",
    "\n",
    "    # if disabled, do not buy within 3% of the dataframe close high\n",
    "    if last_action == 'SELL' and app.disableBuyNearHigh() is True and (price > (df['close'].max() * 0.97)):\n",
    "        log_text = str(now) + ' | ' + app.getMarket() + ' | ' + \\\n",
    "            app.printGranularity() + ' | Ignoring Buy Signal (price ' + str(price) + ' within 3% of high ' + str(\n",
    "            df['close'].max()) + ')'\n",
    "        Logger.warning(log_text)\n",
    "\n",
    "        action = 'WAIT'\n",
    "\n",
    "    return action\n",
    "\n",
    "\n",
    "def getInterval(df: pd.DataFrame = pd.DataFrame(), app: PyCryptoBot = None, iterations: int = 0) -> pd.DataFrame:\n",
    "    \n",
    "    return df.iloc[iterations - 1:iterations]\n",
    "    \n",
    "\n",
    "def find_high_low_interval(df, start, next_x, price):\n",
    "    df_clipped = df.iloc[start:start+next_x]\n",
    "    high_pct = round(((df_clipped[\"high\"].max()/price) - 1) * 100, 2)\n",
    "    low_pct = round(((df_clipped[\"low\"].min()/price) - 1) * 100, 2)\n",
    "    return (high_pct, low_pct)"
   ]
  },
  {
   "cell_type": "code",
   "execution_count": 2,
   "id": "5a53098b",
   "metadata": {},
   "outputs": [],
   "source": [
    "def detect_historical_buys(coin_pair):\n",
    "    state.iterations = 0\n",
    "    print(\"calculating \", coin_pair)\n",
    "    if coin_pair not in trading_historical_data:\n",
    "        trading_historical_data[coin_pair] = app.getHistoricalData(coin_pair, 3600)\n",
    "    trading_data = trading_historical_data[coin_pair]\n",
    "    trading_dataCopy = trading_data.copy()\n",
    "    technical_analysis = TechnicalAnalysis(trading_dataCopy)\n",
    "    technical_analysis.addAll()\n",
    "    df = technical_analysis.getDataFrame()\n",
    "    while (state.iterations < 300):\n",
    "        state.iterations = state.iterations + 1\n",
    "        df_last = getInterval(df, app, state.iterations)\n",
    "        if len(df_last) > 0:\n",
    "            now = datetime.today().strftime('%Y-%m-%d %H:%M:%S')\n",
    "            price = float(df_last['close'].values[0])\n",
    "            if price < 0.0001:\n",
    "                continue\n",
    "                raise Exception(app.getMarket() + ' is unsuitable for trading, quote price is less than 0.0001!')\n",
    "\n",
    "            state.action = getAction(now, app, price, df, df_last, state.last_action)\n",
    "            if state.action==\"BUY\":\n",
    "                # technical indicators\n",
    "                ema12gtema26 = bool(df_last['ema12gtema26'].values[0])\n",
    "                ema12gtema26co = bool(df_last['ema12gtema26co'].values[0])\n",
    "                goldencross = bool(df_last['goldencross'].values[0])\n",
    "                macdgtsignal = bool(df_last['macdgtsignal'].values[0])\n",
    "                macdgtsignalco = bool(df_last['macdgtsignalco'].values[0])\n",
    "                ema12ltema26 = bool(df_last['ema12ltema26'].values[0])\n",
    "                ema12ltema26co = bool(df_last['ema12ltema26co'].values[0])\n",
    "                macdltsignal = bool(df_last['macdltsignal'].values[0])\n",
    "                macdltsignalco = bool(df_last['macdltsignalco'].values[0])\n",
    "                obv = float(df_last['obv'].values[0])\n",
    "                obv_pc = float(df_last['obv_pc'].values[0])\n",
    "                elder_ray_buy = bool(df_last['eri_buy'].values[0])\n",
    "                elder_ray_sell = bool(df_last['eri_sell'].values[0])\n",
    "                rri = df_last['rri'].values[0]\n",
    "                last_3_rri_buy = df_last['last_3_rri_buy'].values[0]\n",
    "                last_5_rri_buy = df_last['last_5_rri_buy'].values[0]\n",
    "                last_3_rri_sell = df_last['last_3_rri_sell'].values[0]\n",
    "                last_5_rri_sell = df_last['last_5_rri_sell'].values[0]\n",
    "                rri_buy = bool(df_last['rri_buy'].values[0])\n",
    "                rri_sell = df_last['rri_sell'].values[0]\n",
    "                rsi = df_last['rsi14'].values[0]\n",
    "                rsi_last = df_last['rsi_last'].values[0]\n",
    "                rsi_prev = df_last['rsi_prev'].values[0]\n",
    "                stochrsi14 = float(df_last['stochrsi14'].values[0])\n",
    "                williamsr14 = float(df_last['williamsr14'].values[0])\n",
    "\n",
    "                hammer = bool(df_last['hammer'].values[0])\n",
    "                inverted_hammer = bool(df_last['inverted_hammer'].values[0])\n",
    "                hanging_man = bool(df_last['hanging_man'].values[0])\n",
    "                shooting_star = bool(df_last['shooting_star'].values[0])\n",
    "                three_white_soldiers = bool(df_last['three_white_soldiers'].values[0])\n",
    "                three_black_crows = bool(df_last['three_black_crows'].values[0])\n",
    "                morning_star = bool(df_last['morning_star'].values[0])\n",
    "                evening_star = bool(df_last['evening_star'].values[0])\n",
    "                three_line_strike = bool(df_last['three_line_strike'].values[0])\n",
    "                abandoned_baby = bool(df_last['abandoned_baby'].values[0])\n",
    "                morning_doji_star = bool(df_last['morning_doji_star'].values[0])\n",
    "                evening_doji_star = bool(df_last['evening_doji_star'].values[0])\n",
    "                two_black_gapping = bool(df_last['two_black_gapping'].values[0])\n",
    "\n",
    "                # if simulation interations < 200 set goldencross to true\n",
    "                if app.isSimulation() and state.iterations < 200:\n",
    "                    goldencross = True\n",
    "                buy_score = 0\n",
    "                if ema12gtema26: buy_score += 3\n",
    "                if ema12gtema26co: buy_score += 3\n",
    "                if macdgtsignal: buy_score += 3\n",
    "                if goldencross: buy_score += 2\n",
    "                if macdgtsignalco: buy_score +=3\n",
    "                if obv_pc > -5: buy_score += 3\n",
    "                if elder_ray_buy: buy_score += 2\n",
    "                if not elder_ray_sell: buy_score += 2\n",
    "                if rri_buy and (ema12gtema26 or ema12gtema26co) and (ema12gtema26co or macdgtsignalco):\n",
    "                    buy_score += 10\n",
    "                elif rri_buy and (ema12gtema26 and macdgtsignal):\n",
    "                    buy_score += 8\n",
    "                elif rri_buy and (ema12gtema26 or macdgtsignal):\n",
    "                    buy_score += 6\n",
    "                elif rri_buy:\n",
    "                    buy_score += 4\n",
    "                candle_stick_score = 0\n",
    "                # weak up\n",
    "                if hammer is True: candle_stick_score += 1\n",
    "                if inverted_hammer is True: candle_stick_score += 1\n",
    "                # weak down\n",
    "                if shooting_star is True: candle_stick_score -= 1\n",
    "                if hanging_man is True: candle_stick_score -= 1\n",
    "                # strong up\n",
    "                if three_white_soldiers is True: candle_stick_score += 2\n",
    "                if morning_star is True: candle_stick_score += 2\n",
    "                # strong down\n",
    "                if three_black_crows is True: candle_stick_score -= 2\n",
    "                if evening_star is True: candle_stick_score -= 2\n",
    "                # reliable up\n",
    "                if three_line_strike is True: candle_stick_score += 3\n",
    "                if abandoned_baby is True: candle_stick_score += 3\n",
    "                if morning_doji_star is True: candle_stick_score += 3\n",
    "                # reliable down\n",
    "                if evening_doji_star is True: candle_stick_score -= 3\n",
    "                if two_black_gapping is True: candle_stick_score -= 3\n",
    "                sarima_1 = None\n",
    "                sarima_1_margin = None\n",
    "                sarima_1_dt = None\n",
    "                sarima_2 = None\n",
    "                sarima_2_margin = None\n",
    "                sarima_2_dt = None\n",
    "                sarima_3 = None\n",
    "                sarima_3_margin = None\n",
    "                sarima_3_dt = None\n",
    "                sarima_6 = None\n",
    "                sarima_6_margin = None\n",
    "                sarima_6_dt = None\n",
    "                splitted_df = df.iloc[0:state.iterations]\n",
    "                prediction_minutes = int(app.getGranularity() / 60)\n",
    "                if (prediction_minutes<len(splitted_df)):\n",
    "                    sarima = technical_analysis.customSARIMAPrediction(prediction_minutes,\n",
    "                                                                             splitted_df)\n",
    "                    sarima_1 = sarima[1]\n",
    "                    sarima_1_margin = ((sarima_1 / price) - 1) * 100\n",
    "                    sarima_1_dt = sarima[0]\n",
    "                if (prediction_minutes*2<len(splitted_df)):\n",
    "                    sarima = technical_analysis.customSARIMAPrediction(prediction_minutes*2,\n",
    "                                                                             splitted_df)\n",
    "                    sarima_2 = sarima[1]\n",
    "                    sarima_2_margin = ((sarima_2 / price) - 1) * 100\n",
    "                    sarima_2_dt = sarima[0]\n",
    "                if (prediction_minutes*3<len(splitted_df)):\n",
    "                    sarima = technical_analysis.customSARIMAPrediction(prediction_minutes*3,\n",
    "                                                                             splitted_df)\n",
    "                    sarima_3 = sarima[1]\n",
    "                    sarima_3_margin = ((sarima_3 / price) - 1) * 100\n",
    "                    sarima_3_dt = sarima[0]\n",
    "                if (prediction_minutes*6<len(splitted_df)):\n",
    "                    sarima = technical_analysis.customSARIMAPrediction(prediction_minutes*6,\n",
    "                                                                             splitted_df)\n",
    "                    sarima_6 = sarima[1]\n",
    "                    sarima_6_margin = ((sarima_6 / price) - 1) * 100\n",
    "                    sarima_6_dt = sarima[0]\n",
    "                \n",
    "                \n",
    "                one_hr_high, one_hr_low = find_high_low_interval(df, state.iterations, 1, price)\n",
    "                three_hr_high, three_hr_low = find_high_low_interval(df, state.iterations, 3, price)\n",
    "                six_hr_high, six_hr_low = find_high_low_interval(df, state.iterations, 6, price)\n",
    "                nine_hr_high, nine_hr_low = find_high_low_interval(df, state.iterations, 9, price)\n",
    "                twelve_hr_high, twelve_hr_low = find_high_low_interval(df, state.iterations, 12, price)\n",
    "                \n",
    "                three_six_high, three_six_low = find_high_low_interval(df, state.iterations+3, 6, price)\n",
    "                six_12_high, six_12_low = find_high_low_interval(df, state.iterations+6, 12, price)\n",
    "                dataframe_dict.append({\"action\": state.action,\n",
    "                                       \"coin_pair\": coin_pair,\n",
    "                                       \"timestamp\": df_last['date'][0].isoformat(),\n",
    "                                       \"buy_score\": buy_score, \n",
    "                                       \"candle_stick_score\":candle_stick_score,\n",
    "                                       \"granularity\": app.getGranularity(),\n",
    "                                       \"price\": price,\n",
    "                                       \"one_hr_high\": one_hr_high, \n",
    "                                       \"one_hr_low\": one_hr_low, \n",
    "                                       \"three_hr_high\": three_hr_high, \n",
    "                                       \"three_hr_low\": three_hr_low, \n",
    "                                       \"three_six_high\": three_six_high,\n",
    "                                       \"three_six_low\": three_six_low, \n",
    "                                       \"six_12_high\": six_12_high, \n",
    "                                       \"six_12_low\": six_12_low, \n",
    "                                       \"six_hr_high\": six_hr_high, \n",
    "                                       \"six_hr_low\": six_hr_low,\n",
    "                                       \"nine_hr_high\": nine_hr_high, \n",
    "                                       \"nine_hr_low\": nine_hr_low, \n",
    "                                       \"twelve_hr_high\": twelve_hr_high, \n",
    "                                       \"twelve_hr_low\": twelve_hr_low,\n",
    "                                       \"ema12gtema26\": ema12gtema26,\n",
    "                                       \"ema12gtema26co\": ema12gtema26co,\n",
    "                                       \"goldencross\": goldencross,\n",
    "                                       \"macdgtsignal\": macdgtsignal, \n",
    "                                       \"macdgtsignalco\": macdgtsignalco, \n",
    "                                       \"obv\": obv, \n",
    "                                       \"obv_pc\": obv_pc, \n",
    "                                       \"elder_ray_buy\": elder_ray_buy,\n",
    "                                       \"elder_ray_sell\": elder_ray_sell, \n",
    "                                       \"rri\": rri, \n",
    "                                       \"rri_buy\": rri_buy, \n",
    "                                       \"rri_sell\": rri_sell, \n",
    "                                       \"last_3_rri_buy\": last_3_rri_buy, \n",
    "                                       \"last_5_rri_buy\": last_5_rri_buy, \n",
    "                                       \"last_3_rri_sell\": last_3_rri_sell, \n",
    "                                       \"last_5_rri_sell\": last_5_rri_sell, \n",
    "                                       \"rsi\": rsi,\n",
    "                                       \"rsi_last\": rsi_last,\n",
    "                                       \"rsi_prev\": rsi_prev,\n",
    "                                       \"stochrsi14\": stochrsi14,\n",
    "                                       \"williamsr14\": williamsr14,\n",
    "                                       \"sarima_1\": sarima_1,\n",
    "                                       \"sarima_1_margin\": sarima_1_margin,\n",
    "                                       \"sarima_1_dt\": sarima_1_dt,\n",
    "                                       \"sarima_2\": sarima_2,\n",
    "                                       \"sarima_2_margin\": sarima_2_margin,\n",
    "                                       \"sarima_2_dt\": sarima_2_dt,\n",
    "                                       \"sarima_3\": sarima_3,\n",
    "                                       \"sarima_3_margin\": sarima_3_margin,\n",
    "                                       \"sarima_3_dt\": sarima_3_dt,\n",
    "                                       \"sarima_6\": sarima_3,\n",
    "                                       \"sarima_6_margin\": sarima_6_margin,\n",
    "                                       \"sarima_6_dt\": sarima_6_dt,\n",
    "                                      })\n",
    "    "
   ]
  },
  {
   "cell_type": "code",
   "execution_count": 3,
   "id": "f9ea5430",
   "metadata": {
    "scrolled": true
   },
   "outputs": [
    {
     "name": "stdout",
     "output_type": "stream",
     "text": [
      "calculating  WTCBNB\n",
      "calculating  BATBNB\n",
      "calculating  NEOBNB\n",
      "calculating  IOTABNB\n",
      "calculating  XLMBNB\n",
      "calculating  WABIBNB\n"
     ]
    },
    {
     "name": "stderr",
     "output_type": "stream",
     "text": [
      "/Users/aswin/projects/pycryptobot/venv/lib/python3.7/site-packages/statsmodels/tsa/statespace/sarimax.py:1009: UserWarning: Non-invertible starting seasonal moving average Using zeros as starting parameters.\n",
      "  warn('Non-invertible starting seasonal moving average'\n"
     ]
    },
    {
     "name": "stdout",
     "output_type": "stream",
     "text": [
      "calculating  LTCBNB\n",
      "calculating  WAVESBNB\n",
      "calculating  ICXBNB\n"
     ]
    },
    {
     "name": "stderr",
     "output_type": "stream",
     "text": [
      "/Users/aswin/projects/pycryptobot/venv/lib/python3.7/site-packages/statsmodels/tsa/statespace/sarimax.py:1009: UserWarning: Non-invertible starting seasonal moving average Using zeros as starting parameters.\n",
      "  warn('Non-invertible starting seasonal moving average'\n"
     ]
    },
    {
     "name": "stdout",
     "output_type": "stream",
     "text": [
      "calculating  BLZBNB\n",
      "calculating  ZILBNB\n"
     ]
    },
    {
     "name": "stderr",
     "output_type": "stream",
     "text": [
      "/Users/aswin/projects/pycryptobot/venv/lib/python3.7/site-packages/statsmodels/tsa/statespace/sarimax.py:1009: UserWarning: Non-invertible starting seasonal moving average Using zeros as starting parameters.\n",
      "  warn('Non-invertible starting seasonal moving average'\n"
     ]
    },
    {
     "name": "stdout",
     "output_type": "stream",
     "text": [
      "calculating  ONTBNB\n",
      "calculating  WANBNB\n",
      "calculating  ADABNB\n",
      "calculating  ZENBNB\n",
      "calculating  EOSBNB\n",
      "calculating  THETABNB\n",
      "calculating  XRPBNB\n",
      "calculating  ENJBNB\n",
      "calculating  TRXBNB\n"
     ]
    },
    {
     "name": "stderr",
     "output_type": "stream",
     "text": [
      "/Users/aswin/projects/pycryptobot/venv/lib/python3.7/site-packages/statsmodels/tsa/statespace/sarimax.py:1009: UserWarning: Non-invertible starting seasonal moving average Using zeros as starting parameters.\n",
      "  warn('Non-invertible starting seasonal moving average'\n"
     ]
    },
    {
     "name": "stdout",
     "output_type": "stream",
     "text": [
      "calculating  ETCBNB\n",
      "calculating  SCBNB\n",
      "calculating  MFTBNB\n",
      "calculating  VETBNB\n",
      "calculating  RVNBNB\n",
      "calculating  MITHBNB\n"
     ]
    },
    {
     "name": "stderr",
     "output_type": "stream",
     "text": [
      "/Users/aswin/projects/pycryptobot/venv/lib/python3.7/site-packages/statsmodels/tsa/statespace/sarimax.py:1009: UserWarning: Non-invertible starting seasonal moving average Using zeros as starting parameters.\n",
      "  warn('Non-invertible starting seasonal moving average'\n"
     ]
    },
    {
     "name": "stdout",
     "output_type": "stream",
     "text": [
      "calculating  BTTBNB\n",
      "calculating  HOTBNB\n",
      "calculating  FETBNB\n",
      "calculating  XMRBNB\n"
     ]
    },
    {
     "name": "stderr",
     "output_type": "stream",
     "text": [
      "/Users/aswin/projects/pycryptobot/venv/lib/python3.7/site-packages/statsmodels/tsa/statespace/sarimax.py:1009: UserWarning: Non-invertible starting seasonal moving average Using zeros as starting parameters.\n",
      "  warn('Non-invertible starting seasonal moving average'\n"
     ]
    },
    {
     "name": "stdout",
     "output_type": "stream",
     "text": [
      "calculating  ZECBNB\n",
      "calculating  IOSTBNB\n",
      "calculating  CELRBNB\n",
      "calculating  DASHBNB\n"
     ]
    },
    {
     "name": "stderr",
     "output_type": "stream",
     "text": [
      "/Users/aswin/projects/pycryptobot/venv/lib/python3.7/site-packages/statsmodels/tsa/statespace/sarimax.py:1009: UserWarning: Non-invertible starting seasonal moving average Using zeros as starting parameters.\n",
      "  warn('Non-invertible starting seasonal moving average'\n"
     ]
    },
    {
     "name": "stdout",
     "output_type": "stream",
     "text": [
      "calculating  MATICBNB\n",
      "calculating  ATOMBNB\n",
      "calculating  ONEBNB\n",
      "calculating  FTMBNB\n",
      "calculating  ALGOBNB\n"
     ]
    },
    {
     "name": "stderr",
     "output_type": "stream",
     "text": [
      "/Users/aswin/projects/pycryptobot/venv/lib/python3.7/site-packages/statsmodels/tsa/statespace/sarimax.py:1009: UserWarning: Non-invertible starting seasonal moving average Using zeros as starting parameters.\n",
      "  warn('Non-invertible starting seasonal moving average'\n"
     ]
    },
    {
     "name": "stdout",
     "output_type": "stream",
     "text": [
      "calculating  ANKRBNB\n"
     ]
    },
    {
     "name": "stderr",
     "output_type": "stream",
     "text": [
      "/Users/aswin/projects/pycryptobot/venv/lib/python3.7/site-packages/statsmodels/tsa/statespace/sarimax.py:1009: UserWarning: Non-invertible starting seasonal moving average Using zeros as starting parameters.\n",
      "  warn('Non-invertible starting seasonal moving average'\n"
     ]
    },
    {
     "name": "stdout",
     "output_type": "stream",
     "text": [
      "calculating  WINBNB\n",
      "calculating  COSBNB\n",
      "calculating  COCOSBNB\n",
      "calculating  PERLBNB\n"
     ]
    },
    {
     "name": "stderr",
     "output_type": "stream",
     "text": [
      "/Users/aswin/projects/pycryptobot/venv/lib/python3.7/site-packages/statsmodels/tsa/statespace/sarimax.py:1009: UserWarning: Non-invertible starting seasonal moving average Using zeros as starting parameters.\n",
      "  warn('Non-invertible starting seasonal moving average'\n",
      "/Users/aswin/projects/pycryptobot/venv/lib/python3.7/site-packages/statsmodels/tsa/statespace/sarimax.py:997: UserWarning: Non-stationary starting seasonal autoregressive Using zeros as starting parameters.\n",
      "  warn('Non-stationary starting seasonal autoregressive'\n"
     ]
    },
    {
     "name": "stdout",
     "output_type": "stream",
     "text": [
      "calculating  CHZBNB\n",
      "calculating  BANDBNB\n"
     ]
    },
    {
     "name": "stderr",
     "output_type": "stream",
     "text": [
      "/Users/aswin/projects/pycryptobot/venv/lib/python3.7/site-packages/statsmodels/tsa/statespace/sarimax.py:1009: UserWarning: Non-invertible starting seasonal moving average Using zeros as starting parameters.\n",
      "  warn('Non-invertible starting seasonal moving average'\n"
     ]
    },
    {
     "name": "stdout",
     "output_type": "stream",
     "text": [
      "calculating  XTZBNB\n"
     ]
    },
    {
     "name": "stderr",
     "output_type": "stream",
     "text": [
      "/Users/aswin/projects/pycryptobot/venv/lib/python3.7/site-packages/statsmodels/tsa/statespace/sarimax.py:1009: UserWarning: Non-invertible starting seasonal moving average Using zeros as starting parameters.\n",
      "  warn('Non-invertible starting seasonal moving average'\n"
     ]
    },
    {
     "name": "stdout",
     "output_type": "stream",
     "text": [
      "calculating  HBARBNB\n",
      "calculating  STXBNB\n"
     ]
    },
    {
     "name": "stderr",
     "output_type": "stream",
     "text": [
      "/Users/aswin/projects/pycryptobot/venv/lib/python3.7/site-packages/statsmodels/tsa/statespace/sarimax.py:1009: UserWarning: Non-invertible starting seasonal moving average Using zeros as starting parameters.\n",
      "  warn('Non-invertible starting seasonal moving average'\n"
     ]
    },
    {
     "name": "stdout",
     "output_type": "stream",
     "text": [
      "calculating  KAVABNB\n",
      "calculating  ARPABNB\n",
      "calculating  BCHBNB\n",
      "calculating  TROYBNB\n",
      "calculating  FTTBNB\n",
      "calculating  OGNBNB\n",
      "calculating  WRXBNB\n",
      "calculating  MBLBNB\n",
      "calculating  COTIBNB\n",
      "calculating  SOLBNB\n",
      "calculating  CTSIBNB\n",
      "calculating  CHRBNB\n"
     ]
    },
    {
     "name": "stderr",
     "output_type": "stream",
     "text": [
      "/Users/aswin/projects/pycryptobot/venv/lib/python3.7/site-packages/statsmodels/tsa/statespace/sarimax.py:1009: UserWarning: Non-invertible starting seasonal moving average Using zeros as starting parameters.\n",
      "  warn('Non-invertible starting seasonal moving average'\n"
     ]
    },
    {
     "name": "stdout",
     "output_type": "stream",
     "text": [
      "calculating  STMXBNB\n",
      "calculating  IQBNB\n",
      "calculating  DGBBNB\n"
     ]
    },
    {
     "name": "stderr",
     "output_type": "stream",
     "text": [
      "/Users/aswin/projects/pycryptobot/venv/lib/python3.7/site-packages/statsmodels/tsa/statespace/sarimax.py:1009: UserWarning: Non-invertible starting seasonal moving average Using zeros as starting parameters.\n",
      "  warn('Non-invertible starting seasonal moving average'\n"
     ]
    },
    {
     "name": "stdout",
     "output_type": "stream",
     "text": [
      "calculating  SXPBNB\n"
     ]
    },
    {
     "name": "stderr",
     "output_type": "stream",
     "text": [
      "/Users/aswin/projects/pycryptobot/venv/lib/python3.7/site-packages/statsmodels/tsa/statespace/sarimax.py:1009: UserWarning: Non-invertible starting seasonal moving average Using zeros as starting parameters.\n",
      "  warn('Non-invertible starting seasonal moving average'\n"
     ]
    },
    {
     "name": "stdout",
     "output_type": "stream",
     "text": [
      "calculating  SNXBNB\n",
      "calculating  VTHOBNB\n",
      "calculating  MKRBNB\n"
     ]
    },
    {
     "name": "stderr",
     "output_type": "stream",
     "text": [
      "/Users/aswin/projects/pycryptobot/venv/lib/python3.7/site-packages/statsmodels/tsa/statespace/sarimax.py:997: UserWarning: Non-stationary starting seasonal autoregressive Using zeros as starting parameters.\n",
      "  warn('Non-stationary starting seasonal autoregressive'\n"
     ]
    },
    {
     "name": "stdout",
     "output_type": "stream",
     "text": [
      "calculating  RUNEBNB\n",
      "calculating  FIOBNB\n"
     ]
    },
    {
     "name": "stderr",
     "output_type": "stream",
     "text": [
      "/Users/aswin/projects/pycryptobot/venv/lib/python3.7/site-packages/statsmodels/tsa/statespace/sarimax.py:1009: UserWarning: Non-invertible starting seasonal moving average Using zeros as starting parameters.\n",
      "  warn('Non-invertible starting seasonal moving average'\n"
     ]
    },
    {
     "name": "stdout",
     "output_type": "stream",
     "text": [
      "calculating  AVABNB\n",
      "calculating  YFIBNB\n",
      "calculating  SRMBNB\n"
     ]
    },
    {
     "name": "stderr",
     "output_type": "stream",
     "text": [
      "/Users/aswin/projects/pycryptobot/venv/lib/python3.7/site-packages/statsmodels/tsa/statespace/sarimax.py:1009: UserWarning: Non-invertible starting seasonal moving average Using zeros as starting parameters.\n",
      "  warn('Non-invertible starting seasonal moving average'\n"
     ]
    },
    {
     "name": "stdout",
     "output_type": "stream",
     "text": [
      "calculating  ANTBNB\n"
     ]
    },
    {
     "name": "stderr",
     "output_type": "stream",
     "text": [
      "/Users/aswin/projects/pycryptobot/venv/lib/python3.7/site-packages/statsmodels/tsa/statespace/sarimax.py:1009: UserWarning: Non-invertible starting seasonal moving average Using zeros as starting parameters.\n",
      "  warn('Non-invertible starting seasonal moving average'\n"
     ]
    },
    {
     "name": "stdout",
     "output_type": "stream",
     "text": [
      "calculating  CRVBNB\n"
     ]
    },
    {
     "name": "stderr",
     "output_type": "stream",
     "text": [
      "/Users/aswin/projects/pycryptobot/venv/lib/python3.7/site-packages/statsmodels/tsa/statespace/sarimax.py:1009: UserWarning: Non-invertible starting seasonal moving average Using zeros as starting parameters.\n",
      "  warn('Non-invertible starting seasonal moving average'\n"
     ]
    },
    {
     "name": "stdout",
     "output_type": "stream",
     "text": [
      "calculating  SANDBNB\n",
      "calculating  OCEANBNB\n"
     ]
    },
    {
     "name": "stderr",
     "output_type": "stream",
     "text": [
      "/Users/aswin/projects/pycryptobot/venv/lib/python3.7/site-packages/statsmodels/tsa/statespace/sarimax.py:1009: UserWarning: Non-invertible starting seasonal moving average Using zeros as starting parameters.\n",
      "  warn('Non-invertible starting seasonal moving average'\n"
     ]
    },
    {
     "name": "stdout",
     "output_type": "stream",
     "text": [
      "calculating  NMRBNB\n"
     ]
    },
    {
     "name": "stderr",
     "output_type": "stream",
     "text": [
      "/Users/aswin/projects/pycryptobot/venv/lib/python3.7/site-packages/statsmodels/tsa/statespace/sarimax.py:1009: UserWarning: Non-invertible starting seasonal moving average Using zeros as starting parameters.\n",
      "  warn('Non-invertible starting seasonal moving average'\n"
     ]
    },
    {
     "name": "stdout",
     "output_type": "stream",
     "text": [
      "calculating  DOTBNB\n",
      "calculating  LUNABNB\n",
      "calculating  RSRBNB\n",
      "calculating  PAXGBNB\n"
     ]
    },
    {
     "name": "stderr",
     "output_type": "stream",
     "text": [
      "/Users/aswin/projects/pycryptobot/venv/lib/python3.7/site-packages/statsmodels/tsa/statespace/sarimax.py:997: UserWarning: Non-stationary starting seasonal autoregressive Using zeros as starting parameters.\n",
      "  warn('Non-stationary starting seasonal autoregressive'\n"
     ]
    },
    {
     "name": "stdout",
     "output_type": "stream",
     "text": [
      "calculating  WNXMBNB\n"
     ]
    },
    {
     "name": "stderr",
     "output_type": "stream",
     "text": [
      "/Users/aswin/projects/pycryptobot/venv/lib/python3.7/site-packages/statsmodels/tsa/statespace/sarimax.py:1009: UserWarning: Non-invertible starting seasonal moving average Using zeros as starting parameters.\n",
      "  warn('Non-invertible starting seasonal moving average'\n"
     ]
    },
    {
     "name": "stdout",
     "output_type": "stream",
     "text": [
      "calculating  SUSHIBNB\n",
      "calculating  YFIIBNB\n",
      "calculating  KSMBNB\n"
     ]
    },
    {
     "name": "stderr",
     "output_type": "stream",
     "text": [
      "/Users/aswin/projects/pycryptobot/venv/lib/python3.7/site-packages/statsmodels/tsa/statespace/sarimax.py:1009: UserWarning: Non-invertible starting seasonal moving average Using zeros as starting parameters.\n",
      "  warn('Non-invertible starting seasonal moving average'\n"
     ]
    },
    {
     "name": "stdout",
     "output_type": "stream",
     "text": [
      "calculating  EGLDBNB\n",
      "calculating  DIABNB\n"
     ]
    },
    {
     "name": "stderr",
     "output_type": "stream",
     "text": [
      "/Users/aswin/projects/pycryptobot/venv/lib/python3.7/site-packages/statsmodels/tsa/statespace/sarimax.py:1009: UserWarning: Non-invertible starting seasonal moving average Using zeros as starting parameters.\n",
      "  warn('Non-invertible starting seasonal moving average'\n"
     ]
    },
    {
     "name": "stdout",
     "output_type": "stream",
     "text": [
      "calculating  BELBNB\n",
      "calculating  WINGBNB\n",
      "calculating  SWRVBNB\n"
     ]
    },
    {
     "name": "stderr",
     "output_type": "stream",
     "text": [
      "/Users/aswin/projects/pycryptobot/venv/lib/python3.7/site-packages/statsmodels/tsa/statespace/sarimax.py:1009: UserWarning: Non-invertible starting seasonal moving average Using zeros as starting parameters.\n",
      "  warn('Non-invertible starting seasonal moving average'\n"
     ]
    },
    {
     "name": "stdout",
     "output_type": "stream",
     "text": [
      "calculating  CREAMBNB\n"
     ]
    },
    {
     "name": "stderr",
     "output_type": "stream",
     "text": [
      "/Users/aswin/projects/pycryptobot/venv/lib/python3.7/site-packages/statsmodels/tsa/statespace/sarimax.py:1009: UserWarning: Non-invertible starting seasonal moving average Using zeros as starting parameters.\n",
      "  warn('Non-invertible starting seasonal moving average'\n"
     ]
    },
    {
     "name": "stdout",
     "output_type": "stream",
     "text": [
      "calculating  UNIBNB\n",
      "calculating  AVAXBNB\n",
      "calculating  BAKEBNB\n",
      "calculating  BURGERBNB\n",
      "calculating  CAKEBNB\n",
      "calculating  SPARTABNB\n",
      "calculating  XVSBNB\n",
      "calculating  ALPHABNB\n"
     ]
    },
    {
     "name": "stderr",
     "output_type": "stream",
     "text": [
      "/Users/aswin/projects/pycryptobot/venv/lib/python3.7/site-packages/statsmodels/tsa/statespace/sarimax.py:1009: UserWarning: Non-invertible starting seasonal moving average Using zeros as starting parameters.\n",
      "  warn('Non-invertible starting seasonal moving average'\n"
     ]
    },
    {
     "name": "stdout",
     "output_type": "stream",
     "text": [
      "calculating  AAVEBNB\n",
      "calculating  NEARBNB\n",
      "calculating  FILBNB\n",
      "calculating  INJBNB\n",
      "calculating  CTKBNB\n",
      "calculating  KP3RBNB\n"
     ]
    },
    {
     "name": "stderr",
     "output_type": "stream",
     "text": [
      "/Users/aswin/projects/pycryptobot/venv/lib/python3.7/site-packages/statsmodels/tsa/statespace/sarimax.py:1009: UserWarning: Non-invertible starting seasonal moving average Using zeros as starting parameters.\n",
      "  warn('Non-invertible starting seasonal moving average'\n"
     ]
    },
    {
     "name": "stdout",
     "output_type": "stream",
     "text": [
      "calculating  AXSBNB\n",
      "calculating  HARDBNB\n",
      "calculating  UNFIBNB\n"
     ]
    },
    {
     "name": "stderr",
     "output_type": "stream",
     "text": [
      "/Users/aswin/projects/pycryptobot/venv/lib/python3.7/site-packages/statsmodels/tsa/statespace/sarimax.py:1009: UserWarning: Non-invertible starting seasonal moving average Using zeros as starting parameters.\n",
      "  warn('Non-invertible starting seasonal moving average'\n"
     ]
    },
    {
     "name": "stdout",
     "output_type": "stream",
     "text": [
      "calculating  PROMBNB\n",
      "calculating  BIFIBNB\n",
      "calculating  ICPBNB\n"
     ]
    },
    {
     "name": "stderr",
     "output_type": "stream",
     "text": [
      "/Users/aswin/projects/pycryptobot/venv/lib/python3.7/site-packages/statsmodels/tsa/statespace/sarimax.py:1009: UserWarning: Non-invertible starting seasonal moving average Using zeros as starting parameters.\n",
      "  warn('Non-invertible starting seasonal moving average'\n"
     ]
    },
    {
     "name": "stdout",
     "output_type": "stream",
     "text": [
      "calculating  BTCUSDT\n",
      "calculating  ETHUSDT\n",
      "calculating  BCCUSDT\n",
      "Data range too small.\n",
      "calculating  NEOUSDT\n",
      "calculating  LTCUSDT\n"
     ]
    },
    {
     "name": "stderr",
     "output_type": "stream",
     "text": [
      "/Users/aswin/projects/pycryptobot/venv/lib/python3.7/site-packages/statsmodels/tsa/statespace/sarimax.py:1009: UserWarning: Non-invertible starting seasonal moving average Using zeros as starting parameters.\n",
      "  warn('Non-invertible starting seasonal moving average'\n"
     ]
    },
    {
     "name": "stdout",
     "output_type": "stream",
     "text": [
      "calculating  QTUMUSDT\n",
      "calculating  ADAUSDT\n",
      "calculating  XRPUSDT\n",
      "calculating  EOSUSDT\n",
      "calculating  IOTAUSDT\n"
     ]
    },
    {
     "name": "stderr",
     "output_type": "stream",
     "text": [
      "/Users/aswin/projects/pycryptobot/venv/lib/python3.7/site-packages/statsmodels/tsa/statespace/sarimax.py:1009: UserWarning: Non-invertible starting seasonal moving average Using zeros as starting parameters.\n",
      "  warn('Non-invertible starting seasonal moving average'\n"
     ]
    },
    {
     "name": "stdout",
     "output_type": "stream",
     "text": [
      "calculating  XLMUSDT\n",
      "calculating  ONTUSDT\n",
      "calculating  TRXUSDT\n",
      "calculating  ETCUSDT\n",
      "calculating  ICXUSDT\n"
     ]
    },
    {
     "name": "stderr",
     "output_type": "stream",
     "text": [
      "/Users/aswin/projects/pycryptobot/venv/lib/python3.7/site-packages/statsmodels/tsa/statespace/sarimax.py:1009: UserWarning: Non-invertible starting seasonal moving average Using zeros as starting parameters.\n",
      "  warn('Non-invertible starting seasonal moving average'\n"
     ]
    },
    {
     "name": "stdout",
     "output_type": "stream",
     "text": [
      "calculating  VENUSDT\n",
      "Data range too small.\n",
      "calculating  NULSUSDT\n",
      "calculating  VETUSDT\n",
      "calculating  BCHABCUSDT\n",
      "Data range too small.\n",
      "calculating  BCHSVUSDT\n",
      "Data range too small.\n",
      "calculating  LINKUSDT\n",
      "calculating  WAVESUSDT\n",
      "calculating  BTTUSDT\n",
      "calculating  USDSUSDT\n",
      "Data range too small.\n",
      "calculating  ONGUSDT\n",
      "calculating  HOTUSDT\n",
      "calculating  ZILUSDT\n",
      "calculating  ZRXUSDT\n",
      "calculating  FETUSDT\n",
      "calculating  BATUSDT\n",
      "calculating  XMRUSDT\n",
      "calculating  ZECUSDT\n",
      "calculating  IOSTUSDT\n",
      "calculating  CELRUSDT\n",
      "calculating  DASHUSDT\n",
      "calculating  NANOUSDT\n",
      "calculating  OMGUSDT\n",
      "calculating  THETAUSDT\n",
      "calculating  ENJUSDT\n",
      "calculating  MITHUSDT\n",
      "calculating  MATICUSDT\n",
      "calculating  ATOMUSDT\n",
      "calculating  TFUELUSDT\n",
      "calculating  ONEUSDT\n",
      "calculating  FTMUSDT\n"
     ]
    },
    {
     "name": "stderr",
     "output_type": "stream",
     "text": [
      "/Users/aswin/projects/pycryptobot/venv/lib/python3.7/site-packages/statsmodels/tsa/statespace/sarimax.py:1009: UserWarning: Non-invertible starting seasonal moving average Using zeros as starting parameters.\n",
      "  warn('Non-invertible starting seasonal moving average'\n"
     ]
    },
    {
     "name": "stdout",
     "output_type": "stream",
     "text": [
      "calculating  ALGOUSDT\n",
      "calculating  USDSBUSDT\n",
      "Data range too small.\n",
      "calculating  GTOUSDT\n"
     ]
    },
    {
     "name": "stderr",
     "output_type": "stream",
     "text": [
      "/Users/aswin/projects/pycryptobot/venv/lib/python3.7/site-packages/statsmodels/tsa/statespace/sarimax.py:997: UserWarning: Non-stationary starting seasonal autoregressive Using zeros as starting parameters.\n",
      "  warn('Non-stationary starting seasonal autoregressive'\n"
     ]
    },
    {
     "name": "stdout",
     "output_type": "stream",
     "text": [
      "calculating  ERDUSDT\n",
      "Data range too small.\n",
      "calculating  DOGEUSDT\n"
     ]
    },
    {
     "name": "stderr",
     "output_type": "stream",
     "text": [
      "/Users/aswin/projects/pycryptobot/venv/lib/python3.7/site-packages/statsmodels/tsa/statespace/sarimax.py:1009: UserWarning: Non-invertible starting seasonal moving average Using zeros as starting parameters.\n",
      "  warn('Non-invertible starting seasonal moving average'\n"
     ]
    },
    {
     "name": "stdout",
     "output_type": "stream",
     "text": [
      "calculating  DUSKUSDT\n"
     ]
    },
    {
     "name": "stderr",
     "output_type": "stream",
     "text": [
      "/Users/aswin/projects/pycryptobot/venv/lib/python3.7/site-packages/statsmodels/tsa/statespace/sarimax.py:997: UserWarning: Non-stationary starting seasonal autoregressive Using zeros as starting parameters.\n",
      "  warn('Non-stationary starting seasonal autoregressive'\n",
      "/Users/aswin/projects/pycryptobot/venv/lib/python3.7/site-packages/statsmodels/tsa/statespace/sarimax.py:1009: UserWarning: Non-invertible starting seasonal moving average Using zeros as starting parameters.\n",
      "  warn('Non-invertible starting seasonal moving average'\n"
     ]
    },
    {
     "name": "stdout",
     "output_type": "stream",
     "text": [
      "calculating  ANKRUSDT\n",
      "calculating  WINUSDT\n"
     ]
    },
    {
     "name": "stderr",
     "output_type": "stream",
     "text": [
      "/Users/aswin/projects/pycryptobot/venv/lib/python3.7/site-packages/statsmodels/tsa/statespace/sarimax.py:1009: UserWarning: Non-invertible starting seasonal moving average Using zeros as starting parameters.\n",
      "  warn('Non-invertible starting seasonal moving average'\n"
     ]
    },
    {
     "name": "stdout",
     "output_type": "stream",
     "text": [
      "calculating  COSUSDT\n",
      "calculating  NPXSUSDT\n",
      "Data range too small.\n",
      "calculating  COCOSUSDT\n",
      "calculating  MTLUSDT\n",
      "calculating  TOMOUSDT\n",
      "calculating  PERLUSDT\n",
      "calculating  DENTUSDT\n",
      "calculating  MFTUSDT\n",
      "calculating  KEYUSDT\n"
     ]
    },
    {
     "name": "stderr",
     "output_type": "stream",
     "text": [
      "/Users/aswin/projects/pycryptobot/venv/lib/python3.7/site-packages/statsmodels/tsa/statespace/sarimax.py:1009: UserWarning: Non-invertible starting seasonal moving average Using zeros as starting parameters.\n",
      "  warn('Non-invertible starting seasonal moving average'\n"
     ]
    },
    {
     "name": "stdout",
     "output_type": "stream",
     "text": [
      "calculating  STORMUSDT\n",
      "Data range too small.\n",
      "calculating  DOCKUSDT\n",
      "calculating  WANUSDT\n",
      "calculating  FUNUSDT\n",
      "calculating  CVCUSDT\n"
     ]
    },
    {
     "name": "stderr",
     "output_type": "stream",
     "text": [
      "/Users/aswin/projects/pycryptobot/venv/lib/python3.7/site-packages/statsmodels/tsa/statespace/sarimax.py:1009: UserWarning: Non-invertible starting seasonal moving average Using zeros as starting parameters.\n",
      "  warn('Non-invertible starting seasonal moving average'\n"
     ]
    },
    {
     "name": "stdout",
     "output_type": "stream",
     "text": [
      "calculating  CHZUSDT\n",
      "calculating  BANDUSDT\n"
     ]
    },
    {
     "name": "stderr",
     "output_type": "stream",
     "text": [
      "/Users/aswin/projects/pycryptobot/venv/lib/python3.7/site-packages/statsmodels/tsa/statespace/sarimax.py:1009: UserWarning: Non-invertible starting seasonal moving average Using zeros as starting parameters.\n",
      "  warn('Non-invertible starting seasonal moving average'\n"
     ]
    },
    {
     "name": "stdout",
     "output_type": "stream",
     "text": [
      "calculating  BEAMUSDT\n",
      "calculating  XTZUSDT\n",
      "calculating  RENUSDT\n",
      "calculating  RVNUSDT\n",
      "calculating  HCUSDT\n",
      "Data range too small.\n",
      "calculating  HBARUSDT\n",
      "calculating  NKNUSDT\n",
      "calculating  STXUSDT\n"
     ]
    },
    {
     "name": "stderr",
     "output_type": "stream",
     "text": [
      "/Users/aswin/projects/pycryptobot/venv/lib/python3.7/site-packages/statsmodels/tsa/statespace/sarimax.py:1009: UserWarning: Non-invertible starting seasonal moving average Using zeros as starting parameters.\n",
      "  warn('Non-invertible starting seasonal moving average'\n"
     ]
    },
    {
     "name": "stdout",
     "output_type": "stream",
     "text": [
      "calculating  KAVAUSDT\n",
      "calculating  ARPAUSDT\n",
      "calculating  IOTXUSDT\n"
     ]
    },
    {
     "name": "stderr",
     "output_type": "stream",
     "text": [
      "/Users/aswin/projects/pycryptobot/venv/lib/python3.7/site-packages/statsmodels/tsa/statespace/sarimax.py:1009: UserWarning: Non-invertible starting seasonal moving average Using zeros as starting parameters.\n",
      "  warn('Non-invertible starting seasonal moving average'\n"
     ]
    },
    {
     "name": "stdout",
     "output_type": "stream",
     "text": [
      "calculating  RLCUSDT\n",
      "calculating  MCOUSDT\n",
      "Data range too small.\n",
      "calculating  CTXCUSDT\n"
     ]
    },
    {
     "name": "stderr",
     "output_type": "stream",
     "text": [
      "/Users/aswin/projects/pycryptobot/venv/lib/python3.7/site-packages/statsmodels/tsa/statespace/sarimax.py:997: UserWarning: Non-stationary starting seasonal autoregressive Using zeros as starting parameters.\n",
      "  warn('Non-stationary starting seasonal autoregressive'\n"
     ]
    },
    {
     "name": "stdout",
     "output_type": "stream",
     "text": [
      "calculating  BCHUSDT\n",
      "calculating  TROYUSDT\n",
      "calculating  VITEUSDT\n",
      "calculating  FTTUSDT\n"
     ]
    },
    {
     "name": "stderr",
     "output_type": "stream",
     "text": [
      "/Users/aswin/projects/pycryptobot/venv/lib/python3.7/site-packages/statsmodels/tsa/statespace/sarimax.py:1009: UserWarning: Non-invertible starting seasonal moving average Using zeros as starting parameters.\n",
      "  warn('Non-invertible starting seasonal moving average'\n"
     ]
    },
    {
     "name": "stdout",
     "output_type": "stream",
     "text": [
      "calculating  OGNUSDT\n",
      "calculating  DREPUSDT\n",
      "calculating  BULLUSDT\n",
      "Data range too small.\n",
      "calculating  BEARUSDT\n",
      "Data range too small.\n",
      "calculating  ETHBULLUSDT\n",
      "Data range too small.\n",
      "calculating  ETHBEARUSDT\n",
      "Data range too small.\n",
      "calculating  TCTUSDT\n",
      "calculating  WRXUSDT\n",
      "calculating  BTSUSDT\n",
      "calculating  LSKUSDT\n",
      "calculating  BNTUSDT\n",
      "calculating  LTOUSDT\n",
      "calculating  EOSBULLUSDT\n",
      "Data range too small.\n",
      "calculating  EOSBEARUSDT\n",
      "Data range too small.\n",
      "calculating  XRPBULLUSDT\n",
      "Data range too small.\n",
      "calculating  XRPBEARUSDT\n",
      "Data range too small.\n",
      "calculating  STRATUSDT\n",
      "Data range too small.\n",
      "calculating  AIONUSDT\n"
     ]
    },
    {
     "name": "stderr",
     "output_type": "stream",
     "text": [
      "/Users/aswin/projects/pycryptobot/venv/lib/python3.7/site-packages/statsmodels/tsa/statespace/sarimax.py:1009: UserWarning: Non-invertible starting seasonal moving average Using zeros as starting parameters.\n",
      "  warn('Non-invertible starting seasonal moving average'\n"
     ]
    },
    {
     "name": "stdout",
     "output_type": "stream",
     "text": [
      "calculating  MBLUSDT\n",
      "calculating  COTIUSDT\n",
      "calculating  STPTUSDT\n",
      "calculating  WTCUSDT\n"
     ]
    },
    {
     "name": "stderr",
     "output_type": "stream",
     "text": [
      "/Users/aswin/projects/pycryptobot/venv/lib/python3.7/site-packages/statsmodels/tsa/statespace/sarimax.py:1009: UserWarning: Non-invertible starting seasonal moving average Using zeros as starting parameters.\n",
      "  warn('Non-invertible starting seasonal moving average'\n"
     ]
    },
    {
     "name": "stdout",
     "output_type": "stream",
     "text": [
      "calculating  DATAUSDT\n",
      "calculating  XZCUSDT\n",
      "Data range too small.\n",
      "calculating  SOLUSDT\n",
      "calculating  CTSIUSDT\n"
     ]
    },
    {
     "name": "stderr",
     "output_type": "stream",
     "text": [
      "/Users/aswin/projects/pycryptobot/venv/lib/python3.7/site-packages/statsmodels/tsa/statespace/sarimax.py:1009: UserWarning: Non-invertible starting seasonal moving average Using zeros as starting parameters.\n",
      "  warn('Non-invertible starting seasonal moving average'\n"
     ]
    },
    {
     "name": "stdout",
     "output_type": "stream",
     "text": [
      "calculating  HIVEUSDT\n"
     ]
    },
    {
     "name": "stderr",
     "output_type": "stream",
     "text": [
      "/Users/aswin/projects/pycryptobot/venv/lib/python3.7/site-packages/statsmodels/tsa/statespace/sarimax.py:1009: UserWarning: Non-invertible starting seasonal moving average Using zeros as starting parameters.\n",
      "  warn('Non-invertible starting seasonal moving average'\n"
     ]
    },
    {
     "name": "stdout",
     "output_type": "stream",
     "text": [
      "calculating  CHRUSDT\n",
      "calculating  GXSUSDT\n",
      "calculating  ARDRUSDT\n",
      "calculating  LENDUSDT\n",
      "Data range too small.\n",
      "calculating  MDTUSDT\n",
      "calculating  STMXUSDT\n",
      "calculating  KNCUSDT\n",
      "calculating  REPUSDT\n"
     ]
    },
    {
     "name": "stderr",
     "output_type": "stream",
     "text": [
      "/Users/aswin/projects/pycryptobot/venv/lib/python3.7/site-packages/statsmodels/tsa/statespace/sarimax.py:1009: UserWarning: Non-invertible starting seasonal moving average Using zeros as starting parameters.\n",
      "  warn('Non-invertible starting seasonal moving average'\n"
     ]
    },
    {
     "name": "stdout",
     "output_type": "stream",
     "text": [
      "calculating  LRCUSDT\n",
      "calculating  PNTUSDT\n",
      "calculating  COMPUSDT\n"
     ]
    },
    {
     "name": "stderr",
     "output_type": "stream",
     "text": [
      "/Users/aswin/projects/pycryptobot/venv/lib/python3.7/site-packages/statsmodels/tsa/statespace/sarimax.py:1009: UserWarning: Non-invertible starting seasonal moving average Using zeros as starting parameters.\n",
      "  warn('Non-invertible starting seasonal moving average'\n"
     ]
    },
    {
     "name": "stdout",
     "output_type": "stream",
     "text": [
      "calculating  BKRWUSDT\n",
      "Data range too small.\n",
      "calculating  SCUSDT\n",
      "calculating  ZENUSDT\n",
      "calculating  SNXUSDT\n",
      "calculating  VTHOUSDT\n",
      "calculating  DGBUSDT\n",
      "calculating  GBPUSDT\n",
      "calculating  SXPUSDT\n",
      "calculating  MKRUSDT\n"
     ]
    },
    {
     "name": "stderr",
     "output_type": "stream",
     "text": [
      "/Users/aswin/projects/pycryptobot/venv/lib/python3.7/site-packages/statsmodels/tsa/statespace/sarimax.py:1009: UserWarning: Non-invertible starting seasonal moving average Using zeros as starting parameters.\n",
      "  warn('Non-invertible starting seasonal moving average'\n"
     ]
    },
    {
     "name": "stdout",
     "output_type": "stream",
     "text": [
      "calculating  DCRUSDT\n"
     ]
    },
    {
     "name": "stderr",
     "output_type": "stream",
     "text": [
      "/Users/aswin/projects/pycryptobot/venv/lib/python3.7/site-packages/statsmodels/tsa/statespace/sarimax.py:997: UserWarning: Non-stationary starting seasonal autoregressive Using zeros as starting parameters.\n",
      "  warn('Non-stationary starting seasonal autoregressive'\n",
      "/Users/aswin/projects/pycryptobot/venv/lib/python3.7/site-packages/statsmodels/tsa/statespace/sarimax.py:1009: UserWarning: Non-invertible starting seasonal moving average Using zeros as starting parameters.\n",
      "  warn('Non-invertible starting seasonal moving average'\n"
     ]
    },
    {
     "name": "stdout",
     "output_type": "stream",
     "text": [
      "calculating  STORJUSDT\n",
      "calculating  MANAUSDT\n",
      "calculating  YFIUSDT\n",
      "calculating  BALUSDT\n",
      "calculating  BLZUSDT\n",
      "calculating  IRISUSDT\n"
     ]
    },
    {
     "name": "stderr",
     "output_type": "stream",
     "text": [
      "/Users/aswin/projects/pycryptobot/venv/lib/python3.7/site-packages/statsmodels/tsa/statespace/sarimax.py:1009: UserWarning: Non-invertible starting seasonal moving average Using zeros as starting parameters.\n",
      "  warn('Non-invertible starting seasonal moving average'\n",
      "/Users/aswin/projects/pycryptobot/venv/lib/python3.7/site-packages/statsmodels/tsa/statespace/sarimax.py:997: UserWarning: Non-stationary starting seasonal autoregressive Using zeros as starting parameters.\n",
      "  warn('Non-stationary starting seasonal autoregressive'\n"
     ]
    },
    {
     "name": "stdout",
     "output_type": "stream",
     "text": [
      "calculating  KMDUSDT\n",
      "calculating  SRMUSDT\n",
      "calculating  ANTUSDT\n"
     ]
    },
    {
     "name": "stderr",
     "output_type": "stream",
     "text": [
      "/Users/aswin/projects/pycryptobot/venv/lib/python3.7/site-packages/statsmodels/tsa/statespace/sarimax.py:1009: UserWarning: Non-invertible starting seasonal moving average Using zeros as starting parameters.\n",
      "  warn('Non-invertible starting seasonal moving average'\n"
     ]
    },
    {
     "name": "stdout",
     "output_type": "stream",
     "text": [
      "calculating  CRVUSDT\n",
      "calculating  SANDUSDT\n",
      "calculating  OCEANUSDT\n"
     ]
    },
    {
     "name": "stderr",
     "output_type": "stream",
     "text": [
      "/Users/aswin/projects/pycryptobot/venv/lib/python3.7/site-packages/statsmodels/tsa/statespace/sarimax.py:1009: UserWarning: Non-invertible starting seasonal moving average Using zeros as starting parameters.\n",
      "  warn('Non-invertible starting seasonal moving average'\n"
     ]
    },
    {
     "name": "stdout",
     "output_type": "stream",
     "text": [
      "calculating  NMRUSDT\n",
      "calculating  DOTUSDT\n",
      "calculating  LUNAUSDT\n",
      "calculating  RSRUSDT\n"
     ]
    },
    {
     "name": "stderr",
     "output_type": "stream",
     "text": [
      "/Users/aswin/projects/pycryptobot/venv/lib/python3.7/site-packages/statsmodels/tsa/statespace/sarimax.py:1009: UserWarning: Non-invertible starting seasonal moving average Using zeros as starting parameters.\n",
      "  warn('Non-invertible starting seasonal moving average'\n"
     ]
    },
    {
     "name": "stdout",
     "output_type": "stream",
     "text": [
      "calculating  WNXMUSDT\n",
      "calculating  TRBUSDT\n",
      "calculating  BZRXUSDT\n"
     ]
    },
    {
     "name": "stderr",
     "output_type": "stream",
     "text": [
      "/Users/aswin/projects/pycryptobot/venv/lib/python3.7/site-packages/statsmodels/tsa/statespace/sarimax.py:1009: UserWarning: Non-invertible starting seasonal moving average Using zeros as starting parameters.\n",
      "  warn('Non-invertible starting seasonal moving average'\n"
     ]
    },
    {
     "name": "stdout",
     "output_type": "stream",
     "text": [
      "calculating  SUSHIUSDT\n",
      "calculating  YFIIUSDT\n",
      "calculating  KSMUSDT\n",
      "calculating  EGLDUSDT\n"
     ]
    },
    {
     "name": "stderr",
     "output_type": "stream",
     "text": [
      "/Users/aswin/projects/pycryptobot/venv/lib/python3.7/site-packages/statsmodels/tsa/statespace/sarimax.py:1009: UserWarning: Non-invertible starting seasonal moving average Using zeros as starting parameters.\n",
      "  warn('Non-invertible starting seasonal moving average'\n"
     ]
    },
    {
     "name": "stdout",
     "output_type": "stream",
     "text": [
      "calculating  DIAUSDT\n"
     ]
    },
    {
     "name": "stderr",
     "output_type": "stream",
     "text": [
      "/Users/aswin/projects/pycryptobot/venv/lib/python3.7/site-packages/statsmodels/tsa/statespace/sarimax.py:997: UserWarning: Non-stationary starting seasonal autoregressive Using zeros as starting parameters.\n",
      "  warn('Non-stationary starting seasonal autoregressive'\n",
      "/Users/aswin/projects/pycryptobot/venv/lib/python3.7/site-packages/statsmodels/tsa/statespace/sarimax.py:1009: UserWarning: Non-invertible starting seasonal moving average Using zeros as starting parameters.\n",
      "  warn('Non-invertible starting seasonal moving average'\n"
     ]
    },
    {
     "name": "stdout",
     "output_type": "stream",
     "text": [
      "calculating  RUNEUSDT\n",
      "calculating  FIOUSDT\n"
     ]
    },
    {
     "name": "stderr",
     "output_type": "stream",
     "text": [
      "/Users/aswin/projects/pycryptobot/venv/lib/python3.7/site-packages/statsmodels/tsa/statespace/sarimax.py:1009: UserWarning: Non-invertible starting seasonal moving average Using zeros as starting parameters.\n",
      "  warn('Non-invertible starting seasonal moving average'\n"
     ]
    },
    {
     "name": "stdout",
     "output_type": "stream",
     "text": [
      "calculating  UMAUSDT\n",
      "calculating  BELUSDT\n",
      "calculating  WINGUSDT\n",
      "calculating  UNIUSDT\n",
      "calculating  NBSUSDT\n"
     ]
    },
    {
     "name": "stderr",
     "output_type": "stream",
     "text": [
      "/Users/aswin/projects/pycryptobot/venv/lib/python3.7/site-packages/statsmodels/tsa/statespace/sarimax.py:997: UserWarning: Non-stationary starting seasonal autoregressive Using zeros as starting parameters.\n",
      "  warn('Non-stationary starting seasonal autoregressive'\n"
     ]
    },
    {
     "name": "stdout",
     "output_type": "stream",
     "text": [
      "calculating  OXTUSDT\n",
      "calculating  SUNUSDT\n",
      "calculating  AVAXUSDT\n",
      "calculating  HNTUSDT\n",
      "calculating  FLMUSDT\n"
     ]
    },
    {
     "name": "stderr",
     "output_type": "stream",
     "text": [
      "/Users/aswin/projects/pycryptobot/venv/lib/python3.7/site-packages/statsmodels/tsa/statespace/sarimax.py:1009: UserWarning: Non-invertible starting seasonal moving average Using zeros as starting parameters.\n",
      "  warn('Non-invertible starting seasonal moving average'\n"
     ]
    },
    {
     "name": "stdout",
     "output_type": "stream",
     "text": [
      "calculating  ORNUSDT\n",
      "calculating  UTKUSDT\n",
      "calculating  XVSUSDT\n",
      "calculating  ALPHAUSDT\n",
      "calculating  AAVEUSDT\n",
      "calculating  NEARUSDT\n",
      "calculating  FILUSDT\n",
      "calculating  INJUSDT\n"
     ]
    },
    {
     "name": "stderr",
     "output_type": "stream",
     "text": [
      "/Users/aswin/projects/pycryptobot/venv/lib/python3.7/site-packages/statsmodels/tsa/statespace/sarimax.py:1009: UserWarning: Non-invertible starting seasonal moving average Using zeros as starting parameters.\n",
      "  warn('Non-invertible starting seasonal moving average'\n"
     ]
    },
    {
     "name": "stdout",
     "output_type": "stream",
     "text": [
      "calculating  AUDIOUSDT\n",
      "calculating  CTKUSDT\n"
     ]
    },
    {
     "name": "stderr",
     "output_type": "stream",
     "text": [
      "/Users/aswin/projects/pycryptobot/venv/lib/python3.7/site-packages/statsmodels/tsa/statespace/sarimax.py:1009: UserWarning: Non-invertible starting seasonal moving average Using zeros as starting parameters.\n",
      "  warn('Non-invertible starting seasonal moving average'\n"
     ]
    },
    {
     "name": "stdout",
     "output_type": "stream",
     "text": [
      "calculating  AKROUSDT\n",
      "calculating  AXSUSDT\n",
      "calculating  HARDUSDT\n",
      "calculating  DNTUSDT\n",
      "calculating  STRAXUSDT\n",
      "calculating  UNFIUSDT\n",
      "calculating  ROSEUSDT\n",
      "calculating  AVAUSDT\n",
      "calculating  XEMUSDT\n",
      "calculating  SKLUSDT\n"
     ]
    },
    {
     "name": "stderr",
     "output_type": "stream",
     "text": [
      "/Users/aswin/projects/pycryptobot/venv/lib/python3.7/site-packages/statsmodels/tsa/statespace/sarimax.py:1009: UserWarning: Non-invertible starting seasonal moving average Using zeros as starting parameters.\n",
      "  warn('Non-invertible starting seasonal moving average'\n"
     ]
    },
    {
     "name": "stdout",
     "output_type": "stream",
     "text": [
      "calculating  SUSDUSDT\n",
      "calculating  GRTUSDT\n",
      "calculating  JUVUSDT\n",
      "calculating  PSGUSDT\n",
      "calculating  1INCHUSDT\n",
      "calculating  REEFUSDT\n"
     ]
    },
    {
     "name": "stderr",
     "output_type": "stream",
     "text": [
      "/Users/aswin/projects/pycryptobot/venv/lib/python3.7/site-packages/statsmodels/tsa/statespace/sarimax.py:1009: UserWarning: Non-invertible starting seasonal moving average Using zeros as starting parameters.\n",
      "  warn('Non-invertible starting seasonal moving average'\n"
     ]
    },
    {
     "name": "stdout",
     "output_type": "stream",
     "text": [
      "calculating  OGUSDT\n",
      "calculating  ATMUSDT\n",
      "calculating  ASRUSDT\n",
      "calculating  CELOUSDT\n",
      "calculating  RIFUSDT\n",
      "calculating  BTCSTUSDT\n"
     ]
    },
    {
     "name": "stderr",
     "output_type": "stream",
     "text": [
      "/Users/aswin/projects/pycryptobot/venv/lib/python3.7/site-packages/statsmodels/tsa/statespace/sarimax.py:997: UserWarning: Non-stationary starting seasonal autoregressive Using zeros as starting parameters.\n",
      "  warn('Non-stationary starting seasonal autoregressive'\n"
     ]
    },
    {
     "name": "stdout",
     "output_type": "stream",
     "text": [
      "calculating  TRUUSDT\n",
      "calculating  CKBUSDT\n",
      "calculating  TWTUSDT\n",
      "calculating  FIROUSDT\n",
      "calculating  LITUSDT\n",
      "calculating  SFPUSDT\n"
     ]
    },
    {
     "name": "stderr",
     "output_type": "stream",
     "text": [
      "/Users/aswin/projects/pycryptobot/venv/lib/python3.7/site-packages/statsmodels/tsa/statespace/sarimax.py:1009: UserWarning: Non-invertible starting seasonal moving average Using zeros as starting parameters.\n",
      "  warn('Non-invertible starting seasonal moving average'\n"
     ]
    },
    {
     "name": "stdout",
     "output_type": "stream",
     "text": [
      "calculating  DODOUSDT\n",
      "calculating  CAKEUSDT\n"
     ]
    },
    {
     "name": "stderr",
     "output_type": "stream",
     "text": [
      "/Users/aswin/projects/pycryptobot/venv/lib/python3.7/site-packages/statsmodels/tsa/statespace/sarimax.py:1009: UserWarning: Non-invertible starting seasonal moving average Using zeros as starting parameters.\n",
      "  warn('Non-invertible starting seasonal moving average'\n"
     ]
    },
    {
     "name": "stdout",
     "output_type": "stream",
     "text": [
      "calculating  ACMUSDT\n",
      "calculating  BADGERUSDT\n",
      "calculating  FISUSDT\n",
      "calculating  OMUSDT\n",
      "calculating  PONDUSDT\n",
      "calculating  DEGOUSDT\n",
      "calculating  ALICEUSDT\n",
      "calculating  LINAUSDT\n",
      "calculating  PERPUSDT\n",
      "calculating  RAMPUSDT\n",
      "calculating  SUPERUSDT\n",
      "calculating  CFXUSDT\n",
      "calculating  EPSUSDT\n"
     ]
    },
    {
     "name": "stderr",
     "output_type": "stream",
     "text": [
      "/Users/aswin/projects/pycryptobot/venv/lib/python3.7/site-packages/statsmodels/tsa/statespace/sarimax.py:1009: UserWarning: Non-invertible starting seasonal moving average Using zeros as starting parameters.\n",
      "  warn('Non-invertible starting seasonal moving average'\n"
     ]
    },
    {
     "name": "stdout",
     "output_type": "stream",
     "text": [
      "calculating  AUTOUSDT\n"
     ]
    },
    {
     "name": "stderr",
     "output_type": "stream",
     "text": [
      "/Users/aswin/projects/pycryptobot/venv/lib/python3.7/site-packages/statsmodels/tsa/statespace/sarimax.py:1009: UserWarning: Non-invertible starting seasonal moving average Using zeros as starting parameters.\n",
      "  warn('Non-invertible starting seasonal moving average'\n"
     ]
    },
    {
     "name": "stdout",
     "output_type": "stream",
     "text": [
      "calculating  TKOUSDT\n",
      "calculating  PUNDIXUSDT\n",
      "calculating  TLMUSDT\n"
     ]
    },
    {
     "name": "stderr",
     "output_type": "stream",
     "text": [
      "/Users/aswin/projects/pycryptobot/venv/lib/python3.7/site-packages/statsmodels/tsa/statespace/sarimax.py:1009: UserWarning: Non-invertible starting seasonal moving average Using zeros as starting parameters.\n",
      "  warn('Non-invertible starting seasonal moving average'\n"
     ]
    },
    {
     "name": "stdout",
     "output_type": "stream",
     "text": [
      "calculating  BTGUSDT\n",
      "calculating  MIRUSDT\n"
     ]
    },
    {
     "name": "stderr",
     "output_type": "stream",
     "text": [
      "/Users/aswin/projects/pycryptobot/venv/lib/python3.7/site-packages/statsmodels/tsa/statespace/sarimax.py:1009: UserWarning: Non-invertible starting seasonal moving average Using zeros as starting parameters.\n",
      "  warn('Non-invertible starting seasonal moving average'\n"
     ]
    },
    {
     "name": "stdout",
     "output_type": "stream",
     "text": [
      "calculating  BARUSDT\n",
      "calculating  FORTHUSDT\n",
      "calculating  BAKEUSDT\n"
     ]
    },
    {
     "name": "stderr",
     "output_type": "stream",
     "text": [
      "/Users/aswin/projects/pycryptobot/venv/lib/python3.7/site-packages/statsmodels/tsa/statespace/sarimax.py:1009: UserWarning: Non-invertible starting seasonal moving average Using zeros as starting parameters.\n",
      "  warn('Non-invertible starting seasonal moving average'\n"
     ]
    },
    {
     "name": "stdout",
     "output_type": "stream",
     "text": [
      "calculating  BURGERUSDT\n",
      "calculating  SLPUSDT\n",
      "calculating  SHIBUSDT\n",
      "calculating  ICPUSDT\n",
      "calculating  ARUSDT\n",
      "calculating  POLSUSDT\n"
     ]
    },
    {
     "name": "stderr",
     "output_type": "stream",
     "text": [
      "/Users/aswin/projects/pycryptobot/venv/lib/python3.7/site-packages/statsmodels/tsa/statespace/sarimax.py:1009: UserWarning: Non-invertible starting seasonal moving average Using zeros as starting parameters.\n",
      "  warn('Non-invertible starting seasonal moving average'\n"
     ]
    },
    {
     "name": "stdout",
     "output_type": "stream",
     "text": [
      "calculating  MDXUSDT\n"
     ]
    },
    {
     "name": "stderr",
     "output_type": "stream",
     "text": [
      "/Users/aswin/projects/pycryptobot/venv/lib/python3.7/site-packages/statsmodels/tsa/statespace/sarimax.py:997: UserWarning: Non-stationary starting seasonal autoregressive Using zeros as starting parameters.\n",
      "  warn('Non-stationary starting seasonal autoregressive'\n",
      "/Users/aswin/projects/pycryptobot/venv/lib/python3.7/site-packages/statsmodels/tsa/statespace/sarimax.py:1009: UserWarning: Non-invertible starting seasonal moving average Using zeros as starting parameters.\n",
      "  warn('Non-invertible starting seasonal moving average'\n"
     ]
    },
    {
     "name": "stdout",
     "output_type": "stream",
     "text": [
      "calculating  MASKUSDT\n",
      "calculating  BTCBUSD\n",
      "calculating  XRPBUSD\n",
      "calculating  ETHBUSD\n",
      "calculating  LTCBUSD\n"
     ]
    },
    {
     "name": "stderr",
     "output_type": "stream",
     "text": [
      "/Users/aswin/projects/pycryptobot/venv/lib/python3.7/site-packages/statsmodels/tsa/statespace/sarimax.py:1009: UserWarning: Non-invertible starting seasonal moving average Using zeros as starting parameters.\n",
      "  warn('Non-invertible starting seasonal moving average'\n"
     ]
    },
    {
     "name": "stdout",
     "output_type": "stream",
     "text": [
      "calculating  LINKBUSD\n",
      "calculating  ETCBUSD\n",
      "calculating  TRXBUSD\n",
      "calculating  EOSBUSD\n",
      "calculating  XLMBUSD\n"
     ]
    },
    {
     "name": "stderr",
     "output_type": "stream",
     "text": [
      "/Users/aswin/projects/pycryptobot/venv/lib/python3.7/site-packages/statsmodels/tsa/statespace/sarimax.py:997: UserWarning: Non-stationary starting seasonal autoregressive Using zeros as starting parameters.\n",
      "  warn('Non-stationary starting seasonal autoregressive'\n"
     ]
    },
    {
     "name": "stdout",
     "output_type": "stream",
     "text": [
      "calculating  ADABUSD\n",
      "calculating  BCHBUSD\n",
      "calculating  QTUMBUSD\n",
      "calculating  VETBUSD\n",
      "calculating  ICXBUSD\n",
      "calculating  BNTBUSD\n",
      "calculating  ATOMBUSD\n",
      "calculating  DASHBUSD\n",
      "calculating  NEOBUSD\n",
      "calculating  WAVESBUSD\n",
      "calculating  XTZBUSD\n",
      "calculating  BATBUSD\n",
      "calculating  ENJBUSD\n",
      "calculating  NANOBUSD\n",
      "calculating  ONTBUSD\n",
      "calculating  RVNBUSD\n",
      "calculating  ALGOBUSD\n",
      "calculating  BTTBUSD\n",
      "calculating  TOMOBUSD\n",
      "calculating  XMRBUSD\n"
     ]
    },
    {
     "name": "stderr",
     "output_type": "stream",
     "text": [
      "/Users/aswin/projects/pycryptobot/venv/lib/python3.7/site-packages/statsmodels/tsa/statespace/sarimax.py:997: UserWarning: Non-stationary starting seasonal autoregressive Using zeros as starting parameters.\n",
      "  warn('Non-stationary starting seasonal autoregressive'\n",
      "/Users/aswin/projects/pycryptobot/venv/lib/python3.7/site-packages/statsmodels/tsa/statespace/sarimax.py:1009: UserWarning: Non-invertible starting seasonal moving average Using zeros as starting parameters.\n",
      "  warn('Non-invertible starting seasonal moving average'\n"
     ]
    },
    {
     "name": "stdout",
     "output_type": "stream",
     "text": [
      "calculating  ZECBUSD\n",
      "calculating  DATABUSD\n",
      "calculating  SOLBUSD\n",
      "calculating  CTSIBUSD\n"
     ]
    },
    {
     "name": "stderr",
     "output_type": "stream",
     "text": [
      "/Users/aswin/projects/pycryptobot/venv/lib/python3.7/site-packages/statsmodels/tsa/statespace/sarimax.py:1009: UserWarning: Non-invertible starting seasonal moving average Using zeros as starting parameters.\n",
      "  warn('Non-invertible starting seasonal moving average'\n"
     ]
    },
    {
     "name": "stdout",
     "output_type": "stream",
     "text": [
      "calculating  HBARBUSD\n",
      "calculating  MATICBUSD\n",
      "calculating  WRXBUSD\n",
      "calculating  ZILBUSD\n",
      "calculating  KNCBUSD\n",
      "calculating  LRCBUSD\n",
      "calculating  IQBUSD\n"
     ]
    },
    {
     "name": "stderr",
     "output_type": "stream",
     "text": [
      "/Users/aswin/projects/pycryptobot/venv/lib/python3.7/site-packages/statsmodels/tsa/statespace/sarimax.py:1009: UserWarning: Non-invertible starting seasonal moving average Using zeros as starting parameters.\n",
      "  warn('Non-invertible starting seasonal moving average'\n",
      "/Users/aswin/projects/pycryptobot/venv/lib/python3.7/site-packages/statsmodels/tsa/statespace/sarimax.py:997: UserWarning: Non-stationary starting seasonal autoregressive Using zeros as starting parameters.\n",
      "  warn('Non-stationary starting seasonal autoregressive'\n"
     ]
    },
    {
     "name": "stdout",
     "output_type": "stream",
     "text": [
      "calculating  GBPBUSD\n"
     ]
    },
    {
     "name": "stderr",
     "output_type": "stream",
     "text": [
      "/Users/aswin/projects/pycryptobot/venv/lib/python3.7/site-packages/statsmodels/tsa/statespace/sarimax.py:1009: UserWarning: Non-invertible starting seasonal moving average Using zeros as starting parameters.\n",
      "  warn('Non-invertible starting seasonal moving average'\n"
     ]
    },
    {
     "name": "stdout",
     "output_type": "stream",
     "text": [
      "calculating  DGBBUSD\n",
      "calculating  COMPBUSD\n",
      "calculating  SXPBUSD\n",
      "calculating  SNXBUSD\n",
      "calculating  MKRBUSD\n"
     ]
    },
    {
     "name": "stderr",
     "output_type": "stream",
     "text": [
      "/Users/aswin/projects/pycryptobot/venv/lib/python3.7/site-packages/statsmodels/tsa/statespace/sarimax.py:1009: UserWarning: Non-invertible starting seasonal moving average Using zeros as starting parameters.\n",
      "  warn('Non-invertible starting seasonal moving average'\n"
     ]
    },
    {
     "name": "stdout",
     "output_type": "stream",
     "text": [
      "calculating  RUNEBUSD\n",
      "calculating  MANABUSD\n"
     ]
    },
    {
     "name": "stderr",
     "output_type": "stream",
     "text": [
      "/Users/aswin/projects/pycryptobot/venv/lib/python3.7/site-packages/statsmodels/tsa/statespace/sarimax.py:1009: UserWarning: Non-invertible starting seasonal moving average Using zeros as starting parameters.\n",
      "  warn('Non-invertible starting seasonal moving average'\n"
     ]
    },
    {
     "name": "stdout",
     "output_type": "stream",
     "text": [
      "calculating  DOGEBUSD\n",
      "calculating  ZRXBUSD\n",
      "calculating  FIOBUSD\n",
      "calculating  AVABUSD\n",
      "calculating  IOTABUSD\n",
      "calculating  BALBUSD\n",
      "calculating  YFIBUSD\n",
      "calculating  SRMBUSD\n",
      "calculating  ANTBUSD\n",
      "calculating  CRVBUSD\n",
      "calculating  SANDBUSD\n",
      "calculating  OCEANBUSD\n",
      "calculating  NMRBUSD\n",
      "calculating  DOTBUSD\n",
      "calculating  LUNABUSD\n",
      "calculating  IDEXBUSD\n",
      "calculating  RSRBUSD\n",
      "calculating  TRBBUSD\n",
      "calculating  BZRXBUSD\n"
     ]
    },
    {
     "name": "stderr",
     "output_type": "stream",
     "text": [
      "/Users/aswin/projects/pycryptobot/venv/lib/python3.7/site-packages/statsmodels/tsa/statespace/sarimax.py:1009: UserWarning: Non-invertible starting seasonal moving average Using zeros as starting parameters.\n",
      "  warn('Non-invertible starting seasonal moving average'\n"
     ]
    },
    {
     "name": "stdout",
     "output_type": "stream",
     "text": [
      "calculating  SUSHIBUSD\n",
      "calculating  YFIIBUSD\n",
      "calculating  KSMBUSD\n",
      "calculating  EGLDBUSD\n",
      "calculating  DIABUSD\n"
     ]
    },
    {
     "name": "stderr",
     "output_type": "stream",
     "text": [
      "/Users/aswin/projects/pycryptobot/venv/lib/python3.7/site-packages/statsmodels/tsa/statespace/sarimax.py:1009: UserWarning: Non-invertible starting seasonal moving average Using zeros as starting parameters.\n",
      "  warn('Non-invertible starting seasonal moving average'\n"
     ]
    },
    {
     "name": "stdout",
     "output_type": "stream",
     "text": [
      "calculating  BELBUSD\n",
      "calculating  SWRVBUSD\n",
      "calculating  WINGBUSD\n",
      "calculating  CREAMBUSD\n"
     ]
    },
    {
     "name": "stderr",
     "output_type": "stream",
     "text": [
      "/Users/aswin/projects/pycryptobot/venv/lib/python3.7/site-packages/statsmodels/tsa/statespace/sarimax.py:1009: UserWarning: Non-invertible starting seasonal moving average Using zeros as starting parameters.\n",
      "  warn('Non-invertible starting seasonal moving average'\n"
     ]
    },
    {
     "name": "stdout",
     "output_type": "stream",
     "text": [
      "calculating  UNIBUSD\n",
      "calculating  AVAXBUSD\n",
      "calculating  FLMBUSD\n"
     ]
    },
    {
     "name": "stderr",
     "output_type": "stream",
     "text": [
      "/Users/aswin/projects/pycryptobot/venv/lib/python3.7/site-packages/statsmodels/tsa/statespace/sarimax.py:997: UserWarning: Non-stationary starting seasonal autoregressive Using zeros as starting parameters.\n",
      "  warn('Non-stationary starting seasonal autoregressive'\n",
      "/Users/aswin/projects/pycryptobot/venv/lib/python3.7/site-packages/statsmodels/tsa/statespace/sarimax.py:1009: UserWarning: Non-invertible starting seasonal moving average Using zeros as starting parameters.\n",
      "  warn('Non-invertible starting seasonal moving average'\n"
     ]
    },
    {
     "name": "stdout",
     "output_type": "stream",
     "text": [
      "calculating  CAKEBUSD\n"
     ]
    },
    {
     "name": "stderr",
     "output_type": "stream",
     "text": [
      "/Users/aswin/projects/pycryptobot/venv/lib/python3.7/site-packages/statsmodels/tsa/statespace/sarimax.py:1009: UserWarning: Non-invertible starting seasonal moving average Using zeros as starting parameters.\n",
      "  warn('Non-invertible starting seasonal moving average'\n"
     ]
    },
    {
     "name": "stdout",
     "output_type": "stream",
     "text": [
      "calculating  XVSBUSD\n",
      "calculating  ALPHABUSD\n",
      "calculating  VIDTBUSD\n",
      "calculating  AAVEBUSD\n",
      "calculating  NEARBUSD\n",
      "calculating  FILBUSD\n",
      "calculating  INJBUSD\n"
     ]
    },
    {
     "name": "stderr",
     "output_type": "stream",
     "text": [
      "/Users/aswin/projects/pycryptobot/venv/lib/python3.7/site-packages/statsmodels/tsa/statespace/sarimax.py:1009: UserWarning: Non-invertible starting seasonal moving average Using zeros as starting parameters.\n",
      "  warn('Non-invertible starting seasonal moving average'\n"
     ]
    },
    {
     "name": "stdout",
     "output_type": "stream",
     "text": [
      "calculating  AERGOBUSD\n"
     ]
    },
    {
     "name": "stderr",
     "output_type": "stream",
     "text": [
      "/Users/aswin/projects/pycryptobot/venv/lib/python3.7/site-packages/statsmodels/tsa/statespace/sarimax.py:997: UserWarning: Non-stationary starting seasonal autoregressive Using zeros as starting parameters.\n",
      "  warn('Non-stationary starting seasonal autoregressive'\n",
      "/Users/aswin/projects/pycryptobot/venv/lib/python3.7/site-packages/statsmodels/tsa/statespace/sarimax.py:1009: UserWarning: Non-invertible starting seasonal moving average Using zeros as starting parameters.\n",
      "  warn('Non-invertible starting seasonal moving average'\n"
     ]
    },
    {
     "name": "stdout",
     "output_type": "stream",
     "text": [
      "calculating  ONEBUSD\n",
      "calculating  AUDIOBUSD\n",
      "calculating  CTKBUSD\n"
     ]
    },
    {
     "name": "stderr",
     "output_type": "stream",
     "text": [
      "/Users/aswin/projects/pycryptobot/venv/lib/python3.7/site-packages/statsmodels/tsa/statespace/sarimax.py:1009: UserWarning: Non-invertible starting seasonal moving average Using zeros as starting parameters.\n",
      "  warn('Non-invertible starting seasonal moving average'\n"
     ]
    },
    {
     "name": "stdout",
     "output_type": "stream",
     "text": [
      "calculating  KP3RBUSD\n",
      "calculating  AXSBUSD\n",
      "calculating  HARDBUSD\n"
     ]
    },
    {
     "name": "stderr",
     "output_type": "stream",
     "text": [
      "/Users/aswin/projects/pycryptobot/venv/lib/python3.7/site-packages/statsmodels/tsa/statespace/sarimax.py:1009: UserWarning: Non-invertible starting seasonal moving average Using zeros as starting parameters.\n",
      "  warn('Non-invertible starting seasonal moving average'\n"
     ]
    },
    {
     "name": "stdout",
     "output_type": "stream",
     "text": [
      "calculating  DNTBUSD\n",
      "calculating  CVPBUSD\n",
      "calculating  STRAXBUSD\n",
      "calculating  FORBUSD\n"
     ]
    },
    {
     "name": "stderr",
     "output_type": "stream",
     "text": [
      "/Users/aswin/projects/pycryptobot/venv/lib/python3.7/site-packages/statsmodels/tsa/statespace/sarimax.py:1009: UserWarning: Non-invertible starting seasonal moving average Using zeros as starting parameters.\n",
      "  warn('Non-invertible starting seasonal moving average'\n"
     ]
    },
    {
     "name": "stdout",
     "output_type": "stream",
     "text": [
      "calculating  UNFIBUSD\n",
      "calculating  FRONTBUSD\n"
     ]
    },
    {
     "name": "stderr",
     "output_type": "stream",
     "text": [
      "/Users/aswin/projects/pycryptobot/venv/lib/python3.7/site-packages/statsmodels/tsa/statespace/sarimax.py:1009: UserWarning: Non-invertible starting seasonal moving average Using zeros as starting parameters.\n",
      "  warn('Non-invertible starting seasonal moving average'\n"
     ]
    },
    {
     "name": "stdout",
     "output_type": "stream",
     "text": [
      "calculating  BCHABUSD\n",
      "calculating  ROSEBUSD\n",
      "calculating  SYSBUSD\n"
     ]
    },
    {
     "name": "stderr",
     "output_type": "stream",
     "text": [
      "/Users/aswin/projects/pycryptobot/venv/lib/python3.7/site-packages/statsmodels/tsa/statespace/sarimax.py:997: UserWarning: Non-stationary starting seasonal autoregressive Using zeros as starting parameters.\n",
      "  warn('Non-stationary starting seasonal autoregressive'\n",
      "/Users/aswin/projects/pycryptobot/venv/lib/python3.7/site-packages/statsmodels/tsa/statespace/sarimax.py:1009: UserWarning: Non-invertible starting seasonal moving average Using zeros as starting parameters.\n",
      "  warn('Non-invertible starting seasonal moving average'\n"
     ]
    },
    {
     "name": "stdout",
     "output_type": "stream",
     "text": [
      "calculating  HEGICBUSD\n",
      "calculating  PROMBUSD\n",
      "calculating  SKLBUSD\n",
      "calculating  COVERBUSD\n",
      "calculating  GHSTBUSD\n",
      "calculating  DFBUSD\n"
     ]
    },
    {
     "name": "stderr",
     "output_type": "stream",
     "text": [
      "/Users/aswin/projects/pycryptobot/venv/lib/python3.7/site-packages/statsmodels/tsa/statespace/sarimax.py:1009: UserWarning: Non-invertible starting seasonal moving average Using zeros as starting parameters.\n",
      "  warn('Non-invertible starting seasonal moving average'\n"
     ]
    },
    {
     "name": "stdout",
     "output_type": "stream",
     "text": [
      "calculating  JUVBUSD\n",
      "calculating  PSGBUSD\n",
      "calculating  BTCSTBUSD\n"
     ]
    },
    {
     "name": "stderr",
     "output_type": "stream",
     "text": [
      "/Users/aswin/projects/pycryptobot/venv/lib/python3.7/site-packages/statsmodels/tsa/statespace/sarimax.py:997: UserWarning: Non-stationary starting seasonal autoregressive Using zeros as starting parameters.\n",
      "  warn('Non-stationary starting seasonal autoregressive'\n"
     ]
    },
    {
     "name": "stdout",
     "output_type": "stream",
     "text": [
      "calculating  TRUBUSD\n",
      "calculating  DEXEBUSD\n",
      "calculating  CKBBUSD\n"
     ]
    },
    {
     "name": "stderr",
     "output_type": "stream",
     "text": [
      "/Users/aswin/projects/pycryptobot/venv/lib/python3.7/site-packages/statsmodels/tsa/statespace/sarimax.py:1009: UserWarning: Non-invertible starting seasonal moving average Using zeros as starting parameters.\n",
      "  warn('Non-invertible starting seasonal moving average'\n"
     ]
    },
    {
     "name": "stdout",
     "output_type": "stream",
     "text": [
      "calculating  TWTBUSD\n",
      "calculating  LITBUSD\n",
      "calculating  SFPBUSD\n"
     ]
    },
    {
     "name": "stderr",
     "output_type": "stream",
     "text": [
      "/Users/aswin/projects/pycryptobot/venv/lib/python3.7/site-packages/statsmodels/tsa/statespace/sarimax.py:1009: UserWarning: Non-invertible starting seasonal moving average Using zeros as starting parameters.\n",
      "  warn('Non-invertible starting seasonal moving average'\n"
     ]
    },
    {
     "name": "stdout",
     "output_type": "stream",
     "text": [
      "calculating  FXSBUSD\n",
      "calculating  DODOBUSD\n",
      "calculating  BAKEBUSD\n",
      "calculating  UFTBUSD\n",
      "calculating  1INCHBUSD\n",
      "calculating  BANDBUSD\n",
      "calculating  GRTBUSD\n",
      "calculating  IOSTBUSD\n"
     ]
    },
    {
     "name": "stderr",
     "output_type": "stream",
     "text": [
      "/Users/aswin/projects/pycryptobot/venv/lib/python3.7/site-packages/statsmodels/tsa/statespace/sarimax.py:1009: UserWarning: Non-invertible starting seasonal moving average Using zeros as starting parameters.\n",
      "  warn('Non-invertible starting seasonal moving average'\n"
     ]
    },
    {
     "name": "stdout",
     "output_type": "stream",
     "text": [
      "calculating  OMGBUSD\n"
     ]
    },
    {
     "name": "stderr",
     "output_type": "stream",
     "text": [
      "/Users/aswin/projects/pycryptobot/venv/lib/python3.7/site-packages/statsmodels/tsa/statespace/sarimax.py:1009: UserWarning: Non-invertible starting seasonal moving average Using zeros as starting parameters.\n",
      "  warn('Non-invertible starting seasonal moving average'\n"
     ]
    },
    {
     "name": "stdout",
     "output_type": "stream",
     "text": [
      "calculating  REEFBUSD\n",
      "calculating  ACMBUSD\n",
      "calculating  AUCTIONBUSD\n"
     ]
    },
    {
     "name": "stderr",
     "output_type": "stream",
     "text": [
      "/Users/aswin/projects/pycryptobot/venv/lib/python3.7/site-packages/statsmodels/tsa/statespace/sarimax.py:1009: UserWarning: Non-invertible starting seasonal moving average Using zeros as starting parameters.\n",
      "  warn('Non-invertible starting seasonal moving average'\n"
     ]
    },
    {
     "name": "stdout",
     "output_type": "stream",
     "text": [
      "calculating  PHABUSD\n"
     ]
    },
    {
     "name": "stderr",
     "output_type": "stream",
     "text": [
      "/Users/aswin/projects/pycryptobot/venv/lib/python3.7/site-packages/statsmodels/tsa/statespace/sarimax.py:1009: UserWarning: Non-invertible starting seasonal moving average Using zeros as starting parameters.\n",
      "  warn('Non-invertible starting seasonal moving average'\n"
     ]
    },
    {
     "name": "stdout",
     "output_type": "stream",
     "text": [
      "calculating  TVKBUSD\n",
      "calculating  BADGERBUSD\n"
     ]
    },
    {
     "name": "stderr",
     "output_type": "stream",
     "text": [
      "/Users/aswin/projects/pycryptobot/venv/lib/python3.7/site-packages/statsmodels/tsa/statespace/sarimax.py:1009: UserWarning: Non-invertible starting seasonal moving average Using zeros as starting parameters.\n",
      "  warn('Non-invertible starting seasonal moving average'\n"
     ]
    },
    {
     "name": "stdout",
     "output_type": "stream",
     "text": [
      "calculating  FISBUSD\n",
      "calculating  OMBUSD\n",
      "calculating  PONDBUSD\n",
      "calculating  DEGOBUSD\n",
      "calculating  ALICEBUSD\n",
      "calculating  CHZBUSD\n",
      "calculating  BIFIBUSD\n",
      "calculating  LINABUSD\n",
      "calculating  PERPBUSD\n",
      "calculating  RAMPBUSD\n",
      "calculating  SUPERBUSD\n",
      "calculating  CFXBUSD\n",
      "calculating  XVGBUSD\n",
      "calculating  EPSBUSD\n"
     ]
    },
    {
     "name": "stderr",
     "output_type": "stream",
     "text": [
      "/Users/aswin/projects/pycryptobot/venv/lib/python3.7/site-packages/statsmodels/tsa/statespace/sarimax.py:1009: UserWarning: Non-invertible starting seasonal moving average Using zeros as starting parameters.\n",
      "  warn('Non-invertible starting seasonal moving average'\n"
     ]
    },
    {
     "name": "stdout",
     "output_type": "stream",
     "text": [
      "calculating  AUTOBUSD\n"
     ]
    },
    {
     "name": "stderr",
     "output_type": "stream",
     "text": [
      "/Users/aswin/projects/pycryptobot/venv/lib/python3.7/site-packages/statsmodels/tsa/statespace/sarimax.py:1009: UserWarning: Non-invertible starting seasonal moving average Using zeros as starting parameters.\n",
      "  warn('Non-invertible starting seasonal moving average'\n"
     ]
    },
    {
     "name": "stdout",
     "output_type": "stream",
     "text": [
      "calculating  TKOBUSD\n",
      "calculating  TLMBUSD\n"
     ]
    },
    {
     "name": "stderr",
     "output_type": "stream",
     "text": [
      "/Users/aswin/projects/pycryptobot/venv/lib/python3.7/site-packages/statsmodels/tsa/statespace/sarimax.py:1009: UserWarning: Non-invertible starting seasonal moving average Using zeros as starting parameters.\n",
      "  warn('Non-invertible starting seasonal moving average'\n"
     ]
    },
    {
     "name": "stdout",
     "output_type": "stream",
     "text": [
      "calculating  BTGBUSD\n",
      "calculating  HOTBUSD\n"
     ]
    },
    {
     "name": "stderr",
     "output_type": "stream",
     "text": [
      "/Users/aswin/projects/pycryptobot/venv/lib/python3.7/site-packages/statsmodels/tsa/statespace/sarimax.py:1009: UserWarning: Non-invertible starting seasonal moving average Using zeros as starting parameters.\n",
      "  warn('Non-invertible starting seasonal moving average'\n"
     ]
    },
    {
     "name": "stdout",
     "output_type": "stream",
     "text": [
      "calculating  MIRBUSD\n"
     ]
    },
    {
     "name": "stderr",
     "output_type": "stream",
     "text": [
      "/Users/aswin/projects/pycryptobot/venv/lib/python3.7/site-packages/statsmodels/tsa/statespace/sarimax.py:997: UserWarning: Non-stationary starting seasonal autoregressive Using zeros as starting parameters.\n",
      "  warn('Non-stationary starting seasonal autoregressive'\n",
      "/Users/aswin/projects/pycryptobot/venv/lib/python3.7/site-packages/statsmodels/tsa/statespace/sarimax.py:1009: UserWarning: Non-invertible starting seasonal moving average Using zeros as starting parameters.\n",
      "  warn('Non-invertible starting seasonal moving average'\n"
     ]
    },
    {
     "name": "stdout",
     "output_type": "stream",
     "text": [
      "calculating  BARBUSD\n"
     ]
    },
    {
     "name": "stderr",
     "output_type": "stream",
     "text": [
      "/Users/aswin/projects/pycryptobot/venv/lib/python3.7/site-packages/statsmodels/tsa/statespace/sarimax.py:1009: UserWarning: Non-invertible starting seasonal moving average Using zeros as starting parameters.\n",
      "  warn('Non-invertible starting seasonal moving average'\n"
     ]
    },
    {
     "name": "stdout",
     "output_type": "stream",
     "text": [
      "calculating  FORTHBUSD\n"
     ]
    },
    {
     "name": "stderr",
     "output_type": "stream",
     "text": [
      "/Users/aswin/projects/pycryptobot/venv/lib/python3.7/site-packages/statsmodels/tsa/statespace/sarimax.py:1009: UserWarning: Non-invertible starting seasonal moving average Using zeros as starting parameters.\n",
      "  warn('Non-invertible starting seasonal moving average'\n"
     ]
    },
    {
     "name": "stdout",
     "output_type": "stream",
     "text": [
      "calculating  BURGERBUSD\n",
      "calculating  SLPBUSD\n",
      "calculating  SHIBBUSD\n",
      "calculating  ICPBUSD\n",
      "calculating  ARBUSD\n",
      "calculating  POLSBUSD\n"
     ]
    },
    {
     "name": "stderr",
     "output_type": "stream",
     "text": [
      "/Users/aswin/projects/pycryptobot/venv/lib/python3.7/site-packages/statsmodels/tsa/statespace/sarimax.py:1009: UserWarning: Non-invertible starting seasonal moving average Using zeros as starting parameters.\n",
      "  warn('Non-invertible starting seasonal moving average'\n"
     ]
    },
    {
     "name": "stdout",
     "output_type": "stream",
     "text": [
      "calculating  MDXBUSD\n",
      "calculating  MASKBUSD\n"
     ]
    },
    {
     "name": "stderr",
     "output_type": "stream",
     "text": [
      "/Users/aswin/projects/pycryptobot/venv/lib/python3.7/site-packages/statsmodels/tsa/statespace/sarimax.py:1009: UserWarning: Non-invertible starting seasonal moving average Using zeros as starting parameters.\n",
      "  warn('Non-invertible starting seasonal moving average'\n"
     ]
    },
    {
     "name": "stdout",
     "output_type": "stream",
     "text": [
      "CPU times: user 21h 26min 55s, sys: 3h 48min 6s, total: 1d 1h 15min 2s\n",
      "Wall time: 4h 23min 47s\n"
     ]
    }
   ],
   "source": [
    "%%time\n",
    "binance_coin_pairs = ['WTCBNB', 'BATBNB', 'NEOBNB', 'IOTABNB', 'XLMBNB', 'WABIBNB', 'LTCBNB', 'WAVESBNB', 'ICXBNB',\n",
    "                          'BLZBNB', 'ZILBNB', 'ONTBNB', 'WANBNB', 'ADABNB', 'ZENBNB', 'EOSBNB', 'THETABNB', 'XRPBNB',\n",
    "                          'ENJBNB', 'TRXBNB', 'ETCBNB', 'SCBNB', 'MFTBNB', 'VETBNB', 'RVNBNB', 'MITHBNB', 'BTTBNB',\n",
    "                          'HOTBNB', 'FETBNB', 'XMRBNB', 'ZECBNB', 'IOSTBNB', 'CELRBNB', 'DASHBNB', 'MATICBNB',\n",
    "                          'ATOMBNB', 'ONEBNB', 'FTMBNB', 'ALGOBNB', 'ANKRBNB', 'WINBNB', 'COSBNB', 'COCOSBNB',\n",
    "                          'PERLBNB', 'CHZBNB', 'BANDBNB', 'XTZBNB', 'HBARBNB', 'STXBNB', 'KAVABNB', 'ARPABNB', 'BCHBNB',\n",
    "                          'TROYBNB', 'FTTBNB', 'OGNBNB', 'WRXBNB', 'MBLBNB', 'COTIBNB', 'SOLBNB', 'CTSIBNB', 'CHRBNB',\n",
    "                          'STMXBNB', 'IQBNB', 'DGBBNB', 'SXPBNB', 'SNXBNB', 'VTHOBNB', 'MKRBNB', 'RUNEBNB', 'FIOBNB',\n",
    "                          'AVABNB', 'YFIBNB', 'SRMBNB', 'ANTBNB', 'CRVBNB', 'SANDBNB', 'OCEANBNB', 'NMRBNB',\n",
    "                          'DOTBNB', 'LUNABNB', 'RSRBNB', 'PAXGBNB', 'WNXMBNB', 'SUSHIBNB', 'YFIIBNB', 'KSMBNB',\n",
    "                          'EGLDBNB', 'DIABNB', 'BELBNB', 'WINGBNB', 'SWRVBNB', 'CREAMBNB', 'UNIBNB', 'AVAXBNB',\n",
    "                          'BAKEBNB', 'BURGERBNB', 'CAKEBNB', 'SPARTABNB', 'XVSBNB', 'ALPHABNB', 'AAVEBNB', 'NEARBNB',\n",
    "                          'FILBNB', 'INJBNB', 'CTKBNB', 'KP3RBNB', 'AXSBNB', 'HARDBNB', 'UNFIBNB', 'PROMBNB', 'BIFIBNB',\n",
    "                          'ICPBNB', 'BTCUSDT', 'ETHUSDT', 'BCCUSDT', 'NEOUSDT', 'LTCUSDT', 'QTUMUSDT', 'ADAUSDT',\n",
    "                       'XRPUSDT', 'EOSUSDT', 'IOTAUSDT', 'XLMUSDT', 'ONTUSDT', 'TRXUSDT', 'ETCUSDT',\n",
    "                       'ICXUSDT', 'VENUSDT', 'NULSUSDT', 'VETUSDT', 'BCHABCUSDT', 'BCHSVUSDT',\n",
    "                       'LINKUSDT', 'WAVESUSDT', 'BTTUSDT', 'USDSUSDT', 'ONGUSDT', 'HOTUSDT', 'ZILUSDT', 'ZRXUSDT',\n",
    "                       'FETUSDT', 'BATUSDT', 'XMRUSDT', 'ZECUSDT', 'IOSTUSDT', 'CELRUSDT', 'DASHUSDT', 'NANOUSDT',\n",
    "                       'OMGUSDT', 'THETAUSDT', 'ENJUSDT', 'MITHUSDT', 'MATICUSDT', 'ATOMUSDT', 'TFUELUSDT', 'ONEUSDT',\n",
    "                       'FTMUSDT', 'ALGOUSDT', 'USDSBUSDT', 'GTOUSDT', 'ERDUSDT', 'DOGEUSDT', 'DUSKUSDT', 'ANKRUSDT',\n",
    "                       'WINUSDT', 'COSUSDT', 'NPXSUSDT', 'COCOSUSDT', 'MTLUSDT', 'TOMOUSDT', 'PERLUSDT', 'DENTUSDT',\n",
    "                       'MFTUSDT', 'KEYUSDT', 'STORMUSDT', 'DOCKUSDT', 'WANUSDT', 'FUNUSDT', 'CVCUSDT', 'CHZUSDT',\n",
    "                       'BANDUSDT', 'BEAMUSDT', 'XTZUSDT', 'RENUSDT', 'RVNUSDT', 'HCUSDT', 'HBARUSDT', 'NKNUSDT',\n",
    "                       'STXUSDT', 'KAVAUSDT', 'ARPAUSDT', 'IOTXUSDT', 'RLCUSDT', 'MCOUSDT', 'CTXCUSDT', 'BCHUSDT',\n",
    "                       'TROYUSDT', 'VITEUSDT', 'FTTUSDT', 'OGNUSDT', 'DREPUSDT', 'BULLUSDT', 'BEARUSDT',\n",
    "                       'ETHBULLUSDT', 'ETHBEARUSDT', 'TCTUSDT', 'WRXUSDT', 'BTSUSDT', 'LSKUSDT', 'BNTUSDT', 'LTOUSDT',\n",
    "                       'EOSBULLUSDT', 'EOSBEARUSDT', 'XRPBULLUSDT', 'XRPBEARUSDT', 'STRATUSDT', 'AIONUSDT', 'MBLUSDT',\n",
    "                       'COTIUSDT', 'STPTUSDT', 'WTCUSDT', 'DATAUSDT', 'XZCUSDT',\n",
    "                       'SOLUSDT', 'CTSIUSDT', 'HIVEUSDT', 'CHRUSDT', 'GXSUSDT', 'ARDRUSDT',\n",
    "                       'LENDUSDT', 'MDTUSDT', 'STMXUSDT', 'KNCUSDT', 'REPUSDT', 'LRCUSDT', 'PNTUSDT', 'COMPUSDT',\n",
    "                       'BKRWUSDT', 'SCUSDT', 'ZENUSDT', 'SNXUSDT', 'VTHOUSDT', 'DGBUSDT', 'GBPUSDT', 'SXPUSDT',\n",
    "                       'MKRUSDT', 'DCRUSDT', 'STORJUSDT', 'MANAUSDT', 'YFIUSDT', 'BALUSDT', 'BLZUSDT', 'IRISUSDT', 'KMDUSDT',\n",
    "                       'SRMUSDT', 'ANTUSDT', 'CRVUSDT', 'SANDUSDT', 'OCEANUSDT', 'NMRUSDT', 'DOTUSDT',\n",
    "                       'LUNAUSDT', 'RSRUSDT', 'WNXMUSDT', 'TRBUSDT', 'BZRXUSDT', 'SUSHIUSDT', 'YFIIUSDT',\n",
    "                       'KSMUSDT', 'EGLDUSDT', 'DIAUSDT', 'RUNEUSDT', 'FIOUSDT', 'UMAUSDT', 'BELUSDT',\n",
    "                       'WINGUSDT', 'UNIUSDT', 'NBSUSDT', 'OXTUSDT', 'SUNUSDT', 'AVAXUSDT',\n",
    "                       'HNTUSDT', 'FLMUSDT', 'ORNUSDT', 'UTKUSDT', 'XVSUSDT', 'ALPHAUSDT',\n",
    "                       'AAVEUSDT', 'NEARUSDT', 'FILUSDT',\n",
    "                        'INJUSDT', 'AUDIOUSDT', 'CTKUSDT',\n",
    "                       'AKROUSDT', 'AXSUSDT', 'HARDUSDT', 'DNTUSDT', 'STRAXUSDT', 'UNFIUSDT', 'ROSEUSDT', 'AVAUSDT',\n",
    "                       'XEMUSDT', 'SKLUSDT', 'SUSDUSDT',\n",
    "                        'GRTUSDT', 'JUVUSDT', 'PSGUSDT', '1INCHUSDT', 'REEFUSDT', 'OGUSDT',\n",
    "                       'ATMUSDT', 'ASRUSDT', 'CELOUSDT', 'RIFUSDT', 'BTCSTUSDT', 'TRUUSDT', 'CKBUSDT', 'TWTUSDT',\n",
    "                       'FIROUSDT', 'LITUSDT', 'SFPUSDT', 'DODOUSDT', 'CAKEUSDT', 'ACMUSDT', 'BADGERUSDT', 'FISUSDT',\n",
    "                       'OMUSDT', 'PONDUSDT', 'DEGOUSDT', 'ALICEUSDT', 'LINAUSDT', 'PERPUSDT', 'RAMPUSDT', 'SUPERUSDT',\n",
    "                       'CFXUSDT', 'EPSUSDT', 'AUTOUSDT', 'TKOUSDT', 'PUNDIXUSDT', 'TLMUSDT', 'BTGUSDT', 'MIRUSDT', 'BARUSDT', 'FORTHUSDT', 'BAKEUSDT', 'BURGERUSDT',\n",
    "                       'SLPUSDT', 'SHIBUSDT', 'ICPUSDT', 'ARUSDT', 'POLSUSDT', 'MDXUSDT', 'MASKUSDT', 'BTCBUSD', 'XRPBUSD', 'ETHBUSD', 'LTCBUSD', 'LINKBUSD', 'ETCBUSD', 'TRXBUSD',\n",
    "                       'EOSBUSD', 'XLMBUSD', 'ADABUSD', 'BCHBUSD', 'QTUMBUSD', 'VETBUSD', 'ICXBUSD',\n",
    "                       'BNTBUSD', 'ATOMBUSD', 'DASHBUSD', 'NEOBUSD', 'WAVESBUSD', 'XTZBUSD', 'BATBUSD', 'ENJBUSD',\n",
    "                       'NANOBUSD', 'ONTBUSD', 'RVNBUSD', 'ALGOBUSD', 'BTTBUSD', 'TOMOBUSD', 'XMRBUSD', 'ZECBUSD',\n",
    "                       'DATABUSD', 'SOLBUSD', 'CTSIBUSD', 'HBARBUSD', 'MATICBUSD', 'WRXBUSD', 'ZILBUSD', 'KNCBUSD',\n",
    "                       'LRCBUSD', 'IQBUSD', 'GBPBUSD', 'DGBBUSD', 'COMPBUSD', 'SXPBUSD', 'SNXBUSD', 'MKRBUSD',\n",
    "                       'RUNEBUSD', 'MANABUSD', 'DOGEBUSD', 'ZRXBUSD', 'FIOBUSD', 'AVABUSD', 'IOTABUSD',\n",
    "                       'BALBUSD', 'YFIBUSD', 'SRMBUSD', 'ANTBUSD', 'CRVBUSD', 'SANDBUSD', 'OCEANBUSD',\n",
    "                       'NMRBUSD', 'DOTBUSD', 'LUNABUSD', 'IDEXBUSD', 'RSRBUSD', 'TRBBUSD', 'BZRXBUSD', 'SUSHIBUSD',\n",
    "                       'YFIIBUSD', 'KSMBUSD', 'EGLDBUSD', 'DIABUSD', 'BELBUSD', 'SWRVBUSD', 'WINGBUSD', 'CREAMBUSD',\n",
    "                       'UNIBUSD', 'AVAXBUSD', 'FLMBUSD', 'CAKEBUSD', 'XVSBUSD', 'ALPHABUSD', 'VIDTBUSD', 'AAVEBUSD',\n",
    "                       'NEARBUSD', 'FILBUSD', 'INJBUSD', 'AERGOBUSD', 'ONEBUSD', 'AUDIOBUSD', 'CTKBUSD', 'KP3RBUSD',\n",
    "                       'AXSBUSD', 'HARDBUSD', 'DNTBUSD', 'CVPBUSD', 'STRAXBUSD', 'FORBUSD', 'UNFIBUSD', 'FRONTBUSD',\n",
    "                       'BCHABUSD', 'ROSEBUSD', 'SYSBUSD', 'HEGICBUSD', 'PROMBUSD', 'SKLBUSD', 'COVERBUSD', 'GHSTBUSD',\n",
    "                       'DFBUSD', 'JUVBUSD', 'PSGBUSD', 'BTCSTBUSD', 'TRUBUSD', 'DEXEBUSD',\n",
    "                       'CKBBUSD', 'TWTBUSD', 'LITBUSD', 'SFPBUSD', 'FXSBUSD', 'DODOBUSD', 'BAKEBUSD',\n",
    "                       'UFTBUSD', '1INCHBUSD', 'BANDBUSD', 'GRTBUSD', 'IOSTBUSD', 'OMGBUSD', 'REEFBUSD', 'ACMBUSD',\n",
    "                       'AUCTIONBUSD', 'PHABUSD', 'TVKBUSD', 'BADGERBUSD', 'FISBUSD', 'OMBUSD', 'PONDBUSD', 'DEGOBUSD',\n",
    "                       'ALICEBUSD', 'CHZBUSD', 'BIFIBUSD', 'LINABUSD', 'PERPBUSD', 'RAMPBUSD', 'SUPERBUSD', 'CFXBUSD',\n",
    "                       'XVGBUSD', 'EPSBUSD', 'AUTOBUSD', 'TKOBUSD', 'TLMBUSD', 'BTGBUSD', 'HOTBUSD', 'MIRBUSD',\n",
    "                       'BARBUSD', 'FORTHBUSD', 'BURGERBUSD', 'SLPBUSD', 'SHIBBUSD', 'ICPBUSD', 'ARBUSD', 'POLSBUSD',\n",
    "                       'MDXBUSD', 'MASKBUSD']\n",
    "# binance_coin_pairs = ['WTCBNB', 'BATBNB', 'NEOBNB', 'IOTABNB']\n",
    "dataframe_dict = []\n",
    "for coin_pair in binance_coin_pairs:\n",
    "    try:\n",
    "        detect_historical_buys(coin_pair)\n",
    "    except Exception as e:\n",
    "        print(e)\n",
    "buy_dataframe = pd.DataFrame(dataframe_dict)\n"
   ]
  },
  {
   "cell_type": "code",
   "execution_count": 4,
   "id": "6797f140",
   "metadata": {
    "scrolled": true
   },
   "outputs": [
    {
     "data": {
      "text/html": [
       "<div>\n",
       "<style scoped>\n",
       "    .dataframe tbody tr th:only-of-type {\n",
       "        vertical-align: middle;\n",
       "    }\n",
       "\n",
       "    .dataframe tbody tr th {\n",
       "        vertical-align: top;\n",
       "    }\n",
       "\n",
       "    .dataframe thead th {\n",
       "        text-align: right;\n",
       "    }\n",
       "</style>\n",
       "<table border=\"1\" class=\"dataframe\">\n",
       "  <thead>\n",
       "    <tr style=\"text-align: right;\">\n",
       "      <th></th>\n",
       "      <th>action</th>\n",
       "      <th>coin_pair</th>\n",
       "      <th>timestamp</th>\n",
       "      <th>buy_score</th>\n",
       "      <th>candle_stick_score</th>\n",
       "      <th>granularity</th>\n",
       "      <th>price</th>\n",
       "      <th>one_hr_high</th>\n",
       "      <th>one_hr_low</th>\n",
       "      <th>three_hr_high</th>\n",
       "      <th>three_hr_low</th>\n",
       "      <th>three_six_high</th>\n",
       "      <th>three_six_low</th>\n",
       "      <th>six_12_high</th>\n",
       "      <th>six_12_low</th>\n",
       "      <th>six_hr_high</th>\n",
       "      <th>six_hr_low</th>\n",
       "      <th>nine_hr_high</th>\n",
       "      <th>nine_hr_low</th>\n",
       "      <th>twelve_hr_high</th>\n",
       "      <th>twelve_hr_low</th>\n",
       "      <th>ema12gtema26</th>\n",
       "      <th>ema12gtema26co</th>\n",
       "      <th>goldencross</th>\n",
       "      <th>macdgtsignal</th>\n",
       "      <th>macdgtsignalco</th>\n",
       "      <th>obv</th>\n",
       "      <th>obv_pc</th>\n",
       "      <th>elder_ray_buy</th>\n",
       "      <th>elder_ray_sell</th>\n",
       "      <th>rri</th>\n",
       "      <th>rri_buy</th>\n",
       "      <th>rri_sell</th>\n",
       "      <th>last_3_rri_buy</th>\n",
       "      <th>last_5_rri_buy</th>\n",
       "      <th>last_3_rri_sell</th>\n",
       "      <th>last_5_rri_sell</th>\n",
       "      <th>rsi</th>\n",
       "      <th>rsi_last</th>\n",
       "      <th>rsi_prev</th>\n",
       "      <th>stochrsi14</th>\n",
       "      <th>williamsr14</th>\n",
       "      <th>sarima_1</th>\n",
       "      <th>sarima_1_margin</th>\n",
       "      <th>sarima_1_dt</th>\n",
       "      <th>sarima_2</th>\n",
       "      <th>sarima_2_margin</th>\n",
       "      <th>sarima_2_dt</th>\n",
       "      <th>sarima_3</th>\n",
       "      <th>sarima_3_margin</th>\n",
       "      <th>sarima_3_dt</th>\n",
       "    </tr>\n",
       "  </thead>\n",
       "  <tbody>\n",
       "    <tr>\n",
       "      <th>0</th>\n",
       "      <td>BUY</td>\n",
       "      <td>WTCBNB</td>\n",
       "      <td>2021-06-02T13:00:00</td>\n",
       "      <td>11</td>\n",
       "      <td>0</td>\n",
       "      <td>3600</td>\n",
       "      <td>0.002120</td>\n",
       "      <td>2.88</td>\n",
       "      <td>0.52</td>\n",
       "      <td>2.88</td>\n",
       "      <td>-1.42</td>\n",
       "      <td>5.42</td>\n",
       "      <td>-0.66</td>\n",
       "      <td>7.12</td>\n",
       "      <td>1.60</td>\n",
       "      <td>5.42</td>\n",
       "      <td>-1.42</td>\n",
       "      <td>5.42</td>\n",
       "      <td>-1.42</td>\n",
       "      <td>5.85</td>\n",
       "      <td>-1.42</td>\n",
       "      <td>False</td>\n",
       "      <td>False</td>\n",
       "      <td>False</td>\n",
       "      <td>False</td>\n",
       "      <td>False</td>\n",
       "      <td>-17359.00</td>\n",
       "      <td>10.03</td>\n",
       "      <td>True</td>\n",
       "      <td>False</td>\n",
       "      <td>-0.852459</td>\n",
       "      <td>True</td>\n",
       "      <td>False</td>\n",
       "      <td>True</td>\n",
       "      <td>True</td>\n",
       "      <td>False</td>\n",
       "      <td>False</td>\n",
       "      <td>50.000000</td>\n",
       "      <td>50.000000</td>\n",
       "      <td>50.000000</td>\n",
       "      <td>0.500000</td>\n",
       "      <td>-50.000000</td>\n",
       "      <td>NaN</td>\n",
       "      <td>NaN</td>\n",
       "      <td>None</td>\n",
       "      <td>NaN</td>\n",
       "      <td>NaN</td>\n",
       "      <td>None</td>\n",
       "      <td>NaN</td>\n",
       "      <td>NaN</td>\n",
       "      <td>None</td>\n",
       "    </tr>\n",
       "    <tr>\n",
       "      <th>1</th>\n",
       "      <td>BUY</td>\n",
       "      <td>WTCBNB</td>\n",
       "      <td>2021-06-02T19:00:00</td>\n",
       "      <td>12</td>\n",
       "      <td>0</td>\n",
       "      <td>3600</td>\n",
       "      <td>0.002165</td>\n",
       "      <td>2.49</td>\n",
       "      <td>-0.46</td>\n",
       "      <td>2.49</td>\n",
       "      <td>-0.46</td>\n",
       "      <td>4.90</td>\n",
       "      <td>0.60</td>\n",
       "      <td>4.90</td>\n",
       "      <td>-2.68</td>\n",
       "      <td>3.65</td>\n",
       "      <td>-0.46</td>\n",
       "      <td>4.90</td>\n",
       "      <td>-0.46</td>\n",
       "      <td>4.90</td>\n",
       "      <td>-0.51</td>\n",
       "      <td>False</td>\n",
       "      <td>False</td>\n",
       "      <td>False</td>\n",
       "      <td>True</td>\n",
       "      <td>True</td>\n",
       "      <td>19300.30</td>\n",
       "      <td>-23.69</td>\n",
       "      <td>False</td>\n",
       "      <td>True</td>\n",
       "      <td>-1.000000</td>\n",
       "      <td>True</td>\n",
       "      <td>False</td>\n",
       "      <td>True</td>\n",
       "      <td>True</td>\n",
       "      <td>False</td>\n",
       "      <td>False</td>\n",
       "      <td>44.683392</td>\n",
       "      <td>50.000000</td>\n",
       "      <td>50.000000</td>\n",
       "      <td>0.000000</td>\n",
       "      <td>0.568966</td>\n",
       "      <td>NaN</td>\n",
       "      <td>NaN</td>\n",
       "      <td>None</td>\n",
       "      <td>NaN</td>\n",
       "      <td>NaN</td>\n",
       "      <td>None</td>\n",
       "      <td>NaN</td>\n",
       "      <td>NaN</td>\n",
       "      <td>None</td>\n",
       "    </tr>\n",
       "    <tr>\n",
       "      <th>2</th>\n",
       "      <td>BUY</td>\n",
       "      <td>WTCBNB</td>\n",
       "      <td>2021-06-02T21:00:00</td>\n",
       "      <td>12</td>\n",
       "      <td>0</td>\n",
       "      <td>3600</td>\n",
       "      <td>0.002184</td>\n",
       "      <td>0.05</td>\n",
       "      <td>-1.33</td>\n",
       "      <td>2.75</td>\n",
       "      <td>-1.33</td>\n",
       "      <td>3.98</td>\n",
       "      <td>-1.37</td>\n",
       "      <td>2.01</td>\n",
       "      <td>-3.57</td>\n",
       "      <td>3.98</td>\n",
       "      <td>-1.33</td>\n",
       "      <td>3.98</td>\n",
       "      <td>-1.37</td>\n",
       "      <td>3.98</td>\n",
       "      <td>-1.37</td>\n",
       "      <td>False</td>\n",
       "      <td>False</td>\n",
       "      <td>False</td>\n",
       "      <td>True</td>\n",
       "      <td>False</td>\n",
       "      <td>25717.80</td>\n",
       "      <td>-1.14</td>\n",
       "      <td>False</td>\n",
       "      <td>True</td>\n",
       "      <td>-0.833333</td>\n",
       "      <td>True</td>\n",
       "      <td>False</td>\n",
       "      <td>True</td>\n",
       "      <td>True</td>\n",
       "      <td>False</td>\n",
       "      <td>False</td>\n",
       "      <td>48.961119</td>\n",
       "      <td>53.632353</td>\n",
       "      <td>44.683392</td>\n",
       "      <td>0.478014</td>\n",
       "      <td>0.351724</td>\n",
       "      <td>NaN</td>\n",
       "      <td>NaN</td>\n",
       "      <td>None</td>\n",
       "      <td>NaN</td>\n",
       "      <td>NaN</td>\n",
       "      <td>None</td>\n",
       "      <td>NaN</td>\n",
       "      <td>NaN</td>\n",
       "      <td>None</td>\n",
       "    </tr>\n",
       "    <tr>\n",
       "      <th>3</th>\n",
       "      <td>BUY</td>\n",
       "      <td>WTCBNB</td>\n",
       "      <td>2021-06-03T02:00:00</td>\n",
       "      <td>16</td>\n",
       "      <td>0</td>\n",
       "      <td>3600</td>\n",
       "      <td>0.002237</td>\n",
       "      <td>-0.31</td>\n",
       "      <td>-2.10</td>\n",
       "      <td>-0.31</td>\n",
       "      <td>-3.71</td>\n",
       "      <td>-0.40</td>\n",
       "      <td>-5.81</td>\n",
       "      <td>-1.70</td>\n",
       "      <td>-5.86</td>\n",
       "      <td>-0.31</td>\n",
       "      <td>-3.71</td>\n",
       "      <td>-0.31</td>\n",
       "      <td>-5.81</td>\n",
       "      <td>-0.31</td>\n",
       "      <td>-5.81</td>\n",
       "      <td>True</td>\n",
       "      <td>True</td>\n",
       "      <td>False</td>\n",
       "      <td>True</td>\n",
       "      <td>False</td>\n",
       "      <td>29270.60</td>\n",
       "      <td>13.20</td>\n",
       "      <td>True</td>\n",
       "      <td>False</td>\n",
       "      <td>-0.181818</td>\n",
       "      <td>False</td>\n",
       "      <td>False</td>\n",
       "      <td>False</td>\n",
       "      <td>False</td>\n",
       "      <td>False</td>\n",
       "      <td>True</td>\n",
       "      <td>57.793028</td>\n",
       "      <td>51.274015</td>\n",
       "      <td>55.350505</td>\n",
       "      <td>1.000000</td>\n",
       "      <td>0.187845</td>\n",
       "      <td>NaN</td>\n",
       "      <td>NaN</td>\n",
       "      <td>None</td>\n",
       "      <td>NaN</td>\n",
       "      <td>NaN</td>\n",
       "      <td>None</td>\n",
       "      <td>NaN</td>\n",
       "      <td>NaN</td>\n",
       "      <td>None</td>\n",
       "    </tr>\n",
       "    <tr>\n",
       "      <th>4</th>\n",
       "      <td>BUY</td>\n",
       "      <td>WTCBNB</td>\n",
       "      <td>2021-06-03T03:00:00</td>\n",
       "      <td>9</td>\n",
       "      <td>0</td>\n",
       "      <td>3600</td>\n",
       "      <td>0.002190</td>\n",
       "      <td>1.46</td>\n",
       "      <td>-0.55</td>\n",
       "      <td>1.46</td>\n",
       "      <td>-1.64</td>\n",
       "      <td>1.74</td>\n",
       "      <td>-3.79</td>\n",
       "      <td>0.00</td>\n",
       "      <td>-3.84</td>\n",
       "      <td>1.74</td>\n",
       "      <td>-1.64</td>\n",
       "      <td>1.74</td>\n",
       "      <td>-3.79</td>\n",
       "      <td>1.74</td>\n",
       "      <td>-3.84</td>\n",
       "      <td>False</td>\n",
       "      <td>False</td>\n",
       "      <td>False</td>\n",
       "      <td>True</td>\n",
       "      <td>False</td>\n",
       "      <td>27679.10</td>\n",
       "      <td>-5.44</td>\n",
       "      <td>False</td>\n",
       "      <td>True</td>\n",
       "      <td>-1.000000</td>\n",
       "      <td>True</td>\n",
       "      <td>False</td>\n",
       "      <td>True</td>\n",
       "      <td>True</td>\n",
       "      <td>False</td>\n",
       "      <td>True</td>\n",
       "      <td>48.852053</td>\n",
       "      <td>57.793028</td>\n",
       "      <td>51.274015</td>\n",
       "      <td>0.317985</td>\n",
       "      <td>0.447514</td>\n",
       "      <td>NaN</td>\n",
       "      <td>NaN</td>\n",
       "      <td>None</td>\n",
       "      <td>NaN</td>\n",
       "      <td>NaN</td>\n",
       "      <td>None</td>\n",
       "      <td>NaN</td>\n",
       "      <td>NaN</td>\n",
       "      <td>None</td>\n",
       "    </tr>\n",
       "    <tr>\n",
       "      <th>...</th>\n",
       "      <td>...</td>\n",
       "      <td>...</td>\n",
       "      <td>...</td>\n",
       "      <td>...</td>\n",
       "      <td>...</td>\n",
       "      <td>...</td>\n",
       "      <td>...</td>\n",
       "      <td>...</td>\n",
       "      <td>...</td>\n",
       "      <td>...</td>\n",
       "      <td>...</td>\n",
       "      <td>...</td>\n",
       "      <td>...</td>\n",
       "      <td>...</td>\n",
       "      <td>...</td>\n",
       "      <td>...</td>\n",
       "      <td>...</td>\n",
       "      <td>...</td>\n",
       "      <td>...</td>\n",
       "      <td>...</td>\n",
       "      <td>...</td>\n",
       "      <td>...</td>\n",
       "      <td>...</td>\n",
       "      <td>...</td>\n",
       "      <td>...</td>\n",
       "      <td>...</td>\n",
       "      <td>...</td>\n",
       "      <td>...</td>\n",
       "      <td>...</td>\n",
       "      <td>...</td>\n",
       "      <td>...</td>\n",
       "      <td>...</td>\n",
       "      <td>...</td>\n",
       "      <td>...</td>\n",
       "      <td>...</td>\n",
       "      <td>...</td>\n",
       "      <td>...</td>\n",
       "      <td>...</td>\n",
       "      <td>...</td>\n",
       "      <td>...</td>\n",
       "      <td>...</td>\n",
       "      <td>...</td>\n",
       "      <td>...</td>\n",
       "      <td>...</td>\n",
       "      <td>...</td>\n",
       "      <td>...</td>\n",
       "      <td>...</td>\n",
       "      <td>...</td>\n",
       "      <td>...</td>\n",
       "      <td>...</td>\n",
       "      <td>...</td>\n",
       "    </tr>\n",
       "    <tr>\n",
       "      <th>15938</th>\n",
       "      <td>BUY</td>\n",
       "      <td>MASKBUSD</td>\n",
       "      <td>2021-06-13T02:00:00</td>\n",
       "      <td>16</td>\n",
       "      <td>0</td>\n",
       "      <td>3600</td>\n",
       "      <td>4.379000</td>\n",
       "      <td>-0.16</td>\n",
       "      <td>-2.83</td>\n",
       "      <td>-0.16</td>\n",
       "      <td>-2.83</td>\n",
       "      <td>1.26</td>\n",
       "      <td>-2.83</td>\n",
       "      <td>5.05</td>\n",
       "      <td>-2.35</td>\n",
       "      <td>-0.16</td>\n",
       "      <td>-2.83</td>\n",
       "      <td>1.26</td>\n",
       "      <td>-2.83</td>\n",
       "      <td>1.26</td>\n",
       "      <td>-2.83</td>\n",
       "      <td>False</td>\n",
       "      <td>False</td>\n",
       "      <td>False</td>\n",
       "      <td>True</td>\n",
       "      <td>False</td>\n",
       "      <td>-76653.31</td>\n",
       "      <td>1.10</td>\n",
       "      <td>True</td>\n",
       "      <td>False</td>\n",
       "      <td>-0.969697</td>\n",
       "      <td>True</td>\n",
       "      <td>False</td>\n",
       "      <td>True</td>\n",
       "      <td>True</td>\n",
       "      <td>False</td>\n",
       "      <td>False</td>\n",
       "      <td>35.031988</td>\n",
       "      <td>36.466493</td>\n",
       "      <td>37.457281</td>\n",
       "      <td>0.000000</td>\n",
       "      <td>0.981203</td>\n",
       "      <td>4.399786</td>\n",
       "      <td>0.474671</td>\n",
       "      <td>2021-06-13 03:00:00</td>\n",
       "      <td>4.381730</td>\n",
       "      <td>0.062342</td>\n",
       "      <td>2021-06-13 04:00:00</td>\n",
       "      <td>4.390593</td>\n",
       "      <td>0.264751</td>\n",
       "      <td>2021-06-13 05:00:00</td>\n",
       "    </tr>\n",
       "    <tr>\n",
       "      <th>15939</th>\n",
       "      <td>BUY</td>\n",
       "      <td>MASKBUSD</td>\n",
       "      <td>2021-06-13T12:00:00</td>\n",
       "      <td>12</td>\n",
       "      <td>0</td>\n",
       "      <td>3600</td>\n",
       "      <td>4.313000</td>\n",
       "      <td>0.19</td>\n",
       "      <td>-0.65</td>\n",
       "      <td>0.77</td>\n",
       "      <td>-0.86</td>\n",
       "      <td>6.65</td>\n",
       "      <td>0.02</td>\n",
       "      <td>7.72</td>\n",
       "      <td>2.62</td>\n",
       "      <td>3.32</td>\n",
       "      <td>-0.86</td>\n",
       "      <td>6.65</td>\n",
       "      <td>-0.86</td>\n",
       "      <td>7.19</td>\n",
       "      <td>-0.86</td>\n",
       "      <td>False</td>\n",
       "      <td>False</td>\n",
       "      <td>False</td>\n",
       "      <td>True</td>\n",
       "      <td>False</td>\n",
       "      <td>-71817.99</td>\n",
       "      <td>1.37</td>\n",
       "      <td>False</td>\n",
       "      <td>True</td>\n",
       "      <td>-0.928571</td>\n",
       "      <td>True</td>\n",
       "      <td>False</td>\n",
       "      <td>True</td>\n",
       "      <td>True</td>\n",
       "      <td>False</td>\n",
       "      <td>False</td>\n",
       "      <td>38.376306</td>\n",
       "      <td>39.519095</td>\n",
       "      <td>41.314297</td>\n",
       "      <td>0.770394</td>\n",
       "      <td>0.768924</td>\n",
       "      <td>4.286243</td>\n",
       "      <td>-0.620383</td>\n",
       "      <td>2021-06-13 13:00:00</td>\n",
       "      <td>4.255461</td>\n",
       "      <td>-1.334086</td>\n",
       "      <td>2021-06-13 14:00:00</td>\n",
       "      <td>4.266046</td>\n",
       "      <td>-1.088661</td>\n",
       "      <td>2021-06-13 15:00:00</td>\n",
       "    </tr>\n",
       "    <tr>\n",
       "      <th>15940</th>\n",
       "      <td>BUY</td>\n",
       "      <td>MASKBUSD</td>\n",
       "      <td>2021-06-13T21:00:00</td>\n",
       "      <td>12</td>\n",
       "      <td>0</td>\n",
       "      <td>3600</td>\n",
       "      <td>4.484000</td>\n",
       "      <td>0.29</td>\n",
       "      <td>-0.47</td>\n",
       "      <td>3.10</td>\n",
       "      <td>-0.47</td>\n",
       "      <td>3.61</td>\n",
       "      <td>0.13</td>\n",
       "      <td>8.76</td>\n",
       "      <td>0.67</td>\n",
       "      <td>3.32</td>\n",
       "      <td>-0.47</td>\n",
       "      <td>3.61</td>\n",
       "      <td>-0.47</td>\n",
       "      <td>4.82</td>\n",
       "      <td>-0.47</td>\n",
       "      <td>True</td>\n",
       "      <td>True</td>\n",
       "      <td>False</td>\n",
       "      <td>True</td>\n",
       "      <td>False</td>\n",
       "      <td>-52787.06</td>\n",
       "      <td>9.36</td>\n",
       "      <td>False</td>\n",
       "      <td>True</td>\n",
       "      <td>-0.723214</td>\n",
       "      <td>False</td>\n",
       "      <td>False</td>\n",
       "      <td>False</td>\n",
       "      <td>False</td>\n",
       "      <td>True</td>\n",
       "      <td>True</td>\n",
       "      <td>55.271151</td>\n",
       "      <td>66.832875</td>\n",
       "      <td>57.312951</td>\n",
       "      <td>0.627808</td>\n",
       "      <td>0.358025</td>\n",
       "      <td>4.580164</td>\n",
       "      <td>2.144603</td>\n",
       "      <td>2021-06-13 22:00:00</td>\n",
       "      <td>4.566504</td>\n",
       "      <td>1.839973</td>\n",
       "      <td>2021-06-13 23:00:00</td>\n",
       "      <td>4.564657</td>\n",
       "      <td>1.798784</td>\n",
       "      <td>2021-06-14 00:00:00</td>\n",
       "    </tr>\n",
       "    <tr>\n",
       "      <th>15941</th>\n",
       "      <td>BUY</td>\n",
       "      <td>MASKBUSD</td>\n",
       "      <td>2021-06-14T00:00:00</td>\n",
       "      <td>17</td>\n",
       "      <td>0</td>\n",
       "      <td>3600</td>\n",
       "      <td>4.569000</td>\n",
       "      <td>1.40</td>\n",
       "      <td>0.15</td>\n",
       "      <td>1.40</td>\n",
       "      <td>-1.73</td>\n",
       "      <td>2.87</td>\n",
       "      <td>-1.20</td>\n",
       "      <td>6.74</td>\n",
       "      <td>-1.20</td>\n",
       "      <td>1.69</td>\n",
       "      <td>-1.73</td>\n",
       "      <td>2.87</td>\n",
       "      <td>-1.73</td>\n",
       "      <td>4.25</td>\n",
       "      <td>-1.73</td>\n",
       "      <td>True</td>\n",
       "      <td>False</td>\n",
       "      <td>False</td>\n",
       "      <td>True</td>\n",
       "      <td>False</td>\n",
       "      <td>-50941.59</td>\n",
       "      <td>4.04</td>\n",
       "      <td>False</td>\n",
       "      <td>True</td>\n",
       "      <td>-0.981481</td>\n",
       "      <td>True</td>\n",
       "      <td>False</td>\n",
       "      <td>True</td>\n",
       "      <td>True</td>\n",
       "      <td>True</td>\n",
       "      <td>True</td>\n",
       "      <td>59.654119</td>\n",
       "      <td>63.551267</td>\n",
       "      <td>54.704949</td>\n",
       "      <td>0.768903</td>\n",
       "      <td>0.155620</td>\n",
       "      <td>4.570520</td>\n",
       "      <td>0.033266</td>\n",
       "      <td>2021-06-14 01:00:00</td>\n",
       "      <td>4.543566</td>\n",
       "      <td>-0.556674</td>\n",
       "      <td>2021-06-14 02:00:00</td>\n",
       "      <td>4.562118</td>\n",
       "      <td>-0.150629</td>\n",
       "      <td>2021-06-14 03:00:00</td>\n",
       "    </tr>\n",
       "    <tr>\n",
       "      <th>15942</th>\n",
       "      <td>BUY</td>\n",
       "      <td>MASKBUSD</td>\n",
       "      <td>2021-06-14T08:00:00</td>\n",
       "      <td>17</td>\n",
       "      <td>0</td>\n",
       "      <td>3600</td>\n",
       "      <td>4.514000</td>\n",
       "      <td>3.37</td>\n",
       "      <td>0.29</td>\n",
       "      <td>5.52</td>\n",
       "      <td>0.29</td>\n",
       "      <td>8.04</td>\n",
       "      <td>3.10</td>\n",
       "      <td>7.11</td>\n",
       "      <td>3.21</td>\n",
       "      <td>8.04</td>\n",
       "      <td>0.29</td>\n",
       "      <td>8.04</td>\n",
       "      <td>0.29</td>\n",
       "      <td>8.04</td>\n",
       "      <td>0.29</td>\n",
       "      <td>True</td>\n",
       "      <td>False</td>\n",
       "      <td>False</td>\n",
       "      <td>True</td>\n",
       "      <td>False</td>\n",
       "      <td>-60659.08</td>\n",
       "      <td>4.15</td>\n",
       "      <td>False</td>\n",
       "      <td>True</td>\n",
       "      <td>-0.954128</td>\n",
       "      <td>True</td>\n",
       "      <td>False</td>\n",
       "      <td>True</td>\n",
       "      <td>True</td>\n",
       "      <td>False</td>\n",
       "      <td>False</td>\n",
       "      <td>50.199664</td>\n",
       "      <td>62.564682</td>\n",
       "      <td>63.057767</td>\n",
       "      <td>0.000000</td>\n",
       "      <td>0.678832</td>\n",
       "      <td>4.626346</td>\n",
       "      <td>2.488826</td>\n",
       "      <td>2021-06-14 09:00:00</td>\n",
       "      <td>4.615216</td>\n",
       "      <td>2.242277</td>\n",
       "      <td>2021-06-14 10:00:00</td>\n",
       "      <td>4.613194</td>\n",
       "      <td>2.197478</td>\n",
       "      <td>2021-06-14 11:00:00</td>\n",
       "    </tr>\n",
       "  </tbody>\n",
       "</table>\n",
       "<p>15943 rows × 51 columns</p>\n",
       "</div>"
      ],
      "text/plain": [
       "      action coin_pair            timestamp  buy_score  candle_stick_score  \\\n",
       "0        BUY    WTCBNB  2021-06-02T13:00:00         11                   0   \n",
       "1        BUY    WTCBNB  2021-06-02T19:00:00         12                   0   \n",
       "2        BUY    WTCBNB  2021-06-02T21:00:00         12                   0   \n",
       "3        BUY    WTCBNB  2021-06-03T02:00:00         16                   0   \n",
       "4        BUY    WTCBNB  2021-06-03T03:00:00          9                   0   \n",
       "...      ...       ...                  ...        ...                 ...   \n",
       "15938    BUY  MASKBUSD  2021-06-13T02:00:00         16                   0   \n",
       "15939    BUY  MASKBUSD  2021-06-13T12:00:00         12                   0   \n",
       "15940    BUY  MASKBUSD  2021-06-13T21:00:00         12                   0   \n",
       "15941    BUY  MASKBUSD  2021-06-14T00:00:00         17                   0   \n",
       "15942    BUY  MASKBUSD  2021-06-14T08:00:00         17                   0   \n",
       "\n",
       "       granularity     price  one_hr_high  one_hr_low  three_hr_high  \\\n",
       "0             3600  0.002120         2.88        0.52           2.88   \n",
       "1             3600  0.002165         2.49       -0.46           2.49   \n",
       "2             3600  0.002184         0.05       -1.33           2.75   \n",
       "3             3600  0.002237        -0.31       -2.10          -0.31   \n",
       "4             3600  0.002190         1.46       -0.55           1.46   \n",
       "...            ...       ...          ...         ...            ...   \n",
       "15938         3600  4.379000        -0.16       -2.83          -0.16   \n",
       "15939         3600  4.313000         0.19       -0.65           0.77   \n",
       "15940         3600  4.484000         0.29       -0.47           3.10   \n",
       "15941         3600  4.569000         1.40        0.15           1.40   \n",
       "15942         3600  4.514000         3.37        0.29           5.52   \n",
       "\n",
       "       three_hr_low  three_six_high  three_six_low  six_12_high  six_12_low  \\\n",
       "0             -1.42            5.42          -0.66         7.12        1.60   \n",
       "1             -0.46            4.90           0.60         4.90       -2.68   \n",
       "2             -1.33            3.98          -1.37         2.01       -3.57   \n",
       "3             -3.71           -0.40          -5.81        -1.70       -5.86   \n",
       "4             -1.64            1.74          -3.79         0.00       -3.84   \n",
       "...             ...             ...            ...          ...         ...   \n",
       "15938         -2.83            1.26          -2.83         5.05       -2.35   \n",
       "15939         -0.86            6.65           0.02         7.72        2.62   \n",
       "15940         -0.47            3.61           0.13         8.76        0.67   \n",
       "15941         -1.73            2.87          -1.20         6.74       -1.20   \n",
       "15942          0.29            8.04           3.10         7.11        3.21   \n",
       "\n",
       "       six_hr_high  six_hr_low  nine_hr_high  nine_hr_low  twelve_hr_high  \\\n",
       "0             5.42       -1.42          5.42        -1.42            5.85   \n",
       "1             3.65       -0.46          4.90        -0.46            4.90   \n",
       "2             3.98       -1.33          3.98        -1.37            3.98   \n",
       "3            -0.31       -3.71         -0.31        -5.81           -0.31   \n",
       "4             1.74       -1.64          1.74        -3.79            1.74   \n",
       "...            ...         ...           ...          ...             ...   \n",
       "15938        -0.16       -2.83          1.26        -2.83            1.26   \n",
       "15939         3.32       -0.86          6.65        -0.86            7.19   \n",
       "15940         3.32       -0.47          3.61        -0.47            4.82   \n",
       "15941         1.69       -1.73          2.87        -1.73            4.25   \n",
       "15942         8.04        0.29          8.04         0.29            8.04   \n",
       "\n",
       "       twelve_hr_low  ema12gtema26  ema12gtema26co  goldencross  macdgtsignal  \\\n",
       "0              -1.42         False           False        False         False   \n",
       "1              -0.51         False           False        False          True   \n",
       "2              -1.37         False           False        False          True   \n",
       "3              -5.81          True            True        False          True   \n",
       "4              -3.84         False           False        False          True   \n",
       "...              ...           ...             ...          ...           ...   \n",
       "15938          -2.83         False           False        False          True   \n",
       "15939          -0.86         False           False        False          True   \n",
       "15940          -0.47          True            True        False          True   \n",
       "15941          -1.73          True           False        False          True   \n",
       "15942           0.29          True           False        False          True   \n",
       "\n",
       "       macdgtsignalco       obv  obv_pc  elder_ray_buy  elder_ray_sell  \\\n",
       "0               False -17359.00   10.03           True           False   \n",
       "1                True  19300.30  -23.69          False            True   \n",
       "2               False  25717.80   -1.14          False            True   \n",
       "3               False  29270.60   13.20           True           False   \n",
       "4               False  27679.10   -5.44          False            True   \n",
       "...               ...       ...     ...            ...             ...   \n",
       "15938           False -76653.31    1.10           True           False   \n",
       "15939           False -71817.99    1.37          False            True   \n",
       "15940           False -52787.06    9.36          False            True   \n",
       "15941           False -50941.59    4.04          False            True   \n",
       "15942           False -60659.08    4.15          False            True   \n",
       "\n",
       "            rri  rri_buy  rri_sell  last_3_rri_buy  last_5_rri_buy  \\\n",
       "0     -0.852459     True     False            True            True   \n",
       "1     -1.000000     True     False            True            True   \n",
       "2     -0.833333     True     False            True            True   \n",
       "3     -0.181818    False     False           False           False   \n",
       "4     -1.000000     True     False            True            True   \n",
       "...         ...      ...       ...             ...             ...   \n",
       "15938 -0.969697     True     False            True            True   \n",
       "15939 -0.928571     True     False            True            True   \n",
       "15940 -0.723214    False     False           False           False   \n",
       "15941 -0.981481     True     False            True            True   \n",
       "15942 -0.954128     True     False            True            True   \n",
       "\n",
       "       last_3_rri_sell  last_5_rri_sell        rsi   rsi_last   rsi_prev  \\\n",
       "0                False            False  50.000000  50.000000  50.000000   \n",
       "1                False            False  44.683392  50.000000  50.000000   \n",
       "2                False            False  48.961119  53.632353  44.683392   \n",
       "3                False             True  57.793028  51.274015  55.350505   \n",
       "4                False             True  48.852053  57.793028  51.274015   \n",
       "...                ...              ...        ...        ...        ...   \n",
       "15938            False            False  35.031988  36.466493  37.457281   \n",
       "15939            False            False  38.376306  39.519095  41.314297   \n",
       "15940             True             True  55.271151  66.832875  57.312951   \n",
       "15941             True             True  59.654119  63.551267  54.704949   \n",
       "15942            False            False  50.199664  62.564682  63.057767   \n",
       "\n",
       "       stochrsi14  williamsr14  sarima_1  sarima_1_margin  \\\n",
       "0        0.500000   -50.000000       NaN              NaN   \n",
       "1        0.000000     0.568966       NaN              NaN   \n",
       "2        0.478014     0.351724       NaN              NaN   \n",
       "3        1.000000     0.187845       NaN              NaN   \n",
       "4        0.317985     0.447514       NaN              NaN   \n",
       "...           ...          ...       ...              ...   \n",
       "15938    0.000000     0.981203  4.399786         0.474671   \n",
       "15939    0.770394     0.768924  4.286243        -0.620383   \n",
       "15940    0.627808     0.358025  4.580164         2.144603   \n",
       "15941    0.768903     0.155620  4.570520         0.033266   \n",
       "15942    0.000000     0.678832  4.626346         2.488826   \n",
       "\n",
       "               sarima_1_dt  sarima_2  sarima_2_margin          sarima_2_dt  \\\n",
       "0                     None       NaN              NaN                 None   \n",
       "1                     None       NaN              NaN                 None   \n",
       "2                     None       NaN              NaN                 None   \n",
       "3                     None       NaN              NaN                 None   \n",
       "4                     None       NaN              NaN                 None   \n",
       "...                    ...       ...              ...                  ...   \n",
       "15938  2021-06-13 03:00:00  4.381730         0.062342  2021-06-13 04:00:00   \n",
       "15939  2021-06-13 13:00:00  4.255461        -1.334086  2021-06-13 14:00:00   \n",
       "15940  2021-06-13 22:00:00  4.566504         1.839973  2021-06-13 23:00:00   \n",
       "15941  2021-06-14 01:00:00  4.543566        -0.556674  2021-06-14 02:00:00   \n",
       "15942  2021-06-14 09:00:00  4.615216         2.242277  2021-06-14 10:00:00   \n",
       "\n",
       "       sarima_3  sarima_3_margin          sarima_3_dt  \n",
       "0           NaN              NaN                 None  \n",
       "1           NaN              NaN                 None  \n",
       "2           NaN              NaN                 None  \n",
       "3           NaN              NaN                 None  \n",
       "4           NaN              NaN                 None  \n",
       "...         ...              ...                  ...  \n",
       "15938  4.390593         0.264751  2021-06-13 05:00:00  \n",
       "15939  4.266046        -1.088661  2021-06-13 15:00:00  \n",
       "15940  4.564657         1.798784  2021-06-14 00:00:00  \n",
       "15941  4.562118        -0.150629  2021-06-14 03:00:00  \n",
       "15942  4.613194         2.197478  2021-06-14 11:00:00  \n",
       "\n",
       "[15943 rows x 51 columns]"
      ]
     },
     "execution_count": 4,
     "metadata": {},
     "output_type": "execute_result"
    }
   ],
   "source": [
    "buy_dataframe"
   ]
  },
  {
   "cell_type": "code",
   "execution_count": 5,
   "id": "5115b631",
   "metadata": {},
   "outputs": [
    {
     "data": {
      "text/html": [
       "<div>\n",
       "<style scoped>\n",
       "    .dataframe tbody tr th:only-of-type {\n",
       "        vertical-align: middle;\n",
       "    }\n",
       "\n",
       "    .dataframe tbody tr th {\n",
       "        vertical-align: top;\n",
       "    }\n",
       "\n",
       "    .dataframe thead th {\n",
       "        text-align: right;\n",
       "    }\n",
       "</style>\n",
       "<table border=\"1\" class=\"dataframe\">\n",
       "  <thead>\n",
       "    <tr style=\"text-align: right;\">\n",
       "      <th></th>\n",
       "      <th>buy_score</th>\n",
       "      <th>candle_stick_score</th>\n",
       "      <th>granularity</th>\n",
       "      <th>price</th>\n",
       "      <th>one_hr_high</th>\n",
       "      <th>one_hr_low</th>\n",
       "      <th>three_hr_high</th>\n",
       "      <th>three_hr_low</th>\n",
       "      <th>three_six_high</th>\n",
       "      <th>three_six_low</th>\n",
       "      <th>six_12_high</th>\n",
       "      <th>six_12_low</th>\n",
       "      <th>six_hr_high</th>\n",
       "      <th>six_hr_low</th>\n",
       "      <th>nine_hr_high</th>\n",
       "      <th>nine_hr_low</th>\n",
       "      <th>twelve_hr_high</th>\n",
       "      <th>twelve_hr_low</th>\n",
       "      <th>obv</th>\n",
       "      <th>obv_pc</th>\n",
       "      <th>rri</th>\n",
       "      <th>rsi</th>\n",
       "      <th>rsi_last</th>\n",
       "      <th>rsi_prev</th>\n",
       "      <th>stochrsi14</th>\n",
       "      <th>williamsr14</th>\n",
       "      <th>sarima_1</th>\n",
       "      <th>sarima_1_margin</th>\n",
       "      <th>sarima_2</th>\n",
       "      <th>sarima_2_margin</th>\n",
       "      <th>sarima_3</th>\n",
       "      <th>sarima_3_margin</th>\n",
       "    </tr>\n",
       "  </thead>\n",
       "  <tbody>\n",
       "    <tr>\n",
       "      <th>count</th>\n",
       "      <td>15943.000000</td>\n",
       "      <td>15943.000000</td>\n",
       "      <td>15943.0</td>\n",
       "      <td>15943.000000</td>\n",
       "      <td>15879.000000</td>\n",
       "      <td>15879.000000</td>\n",
       "      <td>15879.000000</td>\n",
       "      <td>15879.000000</td>\n",
       "      <td>15671.000000</td>\n",
       "      <td>15671.000000</td>\n",
       "      <td>15437.000000</td>\n",
       "      <td>15437.000000</td>\n",
       "      <td>15879.000000</td>\n",
       "      <td>15879.000000</td>\n",
       "      <td>15879.000000</td>\n",
       "      <td>15879.000000</td>\n",
       "      <td>15879.000000</td>\n",
       "      <td>15879.000000</td>\n",
       "      <td>1.594300e+04</td>\n",
       "      <td>15943.000000</td>\n",
       "      <td>15931.000000</td>\n",
       "      <td>15943.000000</td>\n",
       "      <td>15943.000000</td>\n",
       "      <td>15669.000000</td>\n",
       "      <td>15943.000000</td>\n",
       "      <td>15943.000000</td>\n",
       "      <td>12872.000000</td>\n",
       "      <td>12872.000000</td>\n",
       "      <td>9621.000000</td>\n",
       "      <td>9621.000000</td>\n",
       "      <td>6275.000000</td>\n",
       "      <td>6275.000000</td>\n",
       "    </tr>\n",
       "    <tr>\n",
       "      <th>mean</th>\n",
       "      <td>12.427774</td>\n",
       "      <td>-0.002383</td>\n",
       "      <td>3600.0</td>\n",
       "      <td>320.727951</td>\n",
       "      <td>1.317442</td>\n",
       "      <td>-1.191743</td>\n",
       "      <td>2.315825</td>\n",
       "      <td>-2.078038</td>\n",
       "      <td>3.333870</td>\n",
       "      <td>-3.036269</td>\n",
       "      <td>4.632260</td>\n",
       "      <td>-4.327599</td>\n",
       "      <td>3.395867</td>\n",
       "      <td>-2.977907</td>\n",
       "      <td>4.198102</td>\n",
       "      <td>-3.668296</td>\n",
       "      <td>4.833710</td>\n",
       "      <td>-4.261362</td>\n",
       "      <td>-8.299903e+06</td>\n",
       "      <td>0.277449</td>\n",
       "      <td>-0.536571</td>\n",
       "      <td>47.287560</td>\n",
       "      <td>50.661659</td>\n",
       "      <td>49.010041</td>\n",
       "      <td>0.425002</td>\n",
       "      <td>-2.201259</td>\n",
       "      <td>318.777874</td>\n",
       "      <td>1.744369</td>\n",
       "      <td>281.693352</td>\n",
       "      <td>2.314333</td>\n",
       "      <td>300.503722</td>\n",
       "      <td>-0.514538</td>\n",
       "    </tr>\n",
       "    <tr>\n",
       "      <th>std</th>\n",
       "      <td>3.763260</td>\n",
       "      <td>0.337873</td>\n",
       "      <td>0.0</td>\n",
       "      <td>3239.519221</td>\n",
       "      <td>2.085551</td>\n",
       "      <td>1.370945</td>\n",
       "      <td>3.255968</td>\n",
       "      <td>2.134749</td>\n",
       "      <td>6.378091</td>\n",
       "      <td>4.064619</td>\n",
       "      <td>10.058856</td>\n",
       "      <td>5.710884</td>\n",
       "      <td>4.680569</td>\n",
       "      <td>2.906886</td>\n",
       "      <td>6.178606</td>\n",
       "      <td>3.527809</td>\n",
       "      <td>8.332731</td>\n",
       "      <td>4.087430</td>\n",
       "      <td>1.151079e+09</td>\n",
       "      <td>1092.086786</td>\n",
       "      <td>0.601915</td>\n",
       "      <td>11.208320</td>\n",
       "      <td>9.955801</td>\n",
       "      <td>9.948751</td>\n",
       "      <td>0.358246</td>\n",
       "      <td>11.571354</td>\n",
       "      <td>3219.901097</td>\n",
       "      <td>169.121274</td>\n",
       "      <td>2956.070899</td>\n",
       "      <td>206.143539</td>\n",
       "      <td>3086.173066</td>\n",
       "      <td>149.262294</td>\n",
       "    </tr>\n",
       "    <tr>\n",
       "      <th>min</th>\n",
       "      <td>4.000000</td>\n",
       "      <td>-5.000000</td>\n",
       "      <td>3600.0</td>\n",
       "      <td>0.000100</td>\n",
       "      <td>-1.480000</td>\n",
       "      <td>-24.010000</td>\n",
       "      <td>-1.430000</td>\n",
       "      <td>-24.640000</td>\n",
       "      <td>-12.690000</td>\n",
       "      <td>-78.180000</td>\n",
       "      <td>-13.370000</td>\n",
       "      <td>-78.740000</td>\n",
       "      <td>-1.300000</td>\n",
       "      <td>-24.640000</td>\n",
       "      <td>-1.300000</td>\n",
       "      <td>-78.180000</td>\n",
       "      <td>-1.300000</td>\n",
       "      <td>-78.740000</td>\n",
       "      <td>-4.591466e+10</td>\n",
       "      <td>-63815.260000</td>\n",
       "      <td>-1.000000</td>\n",
       "      <td>10.760062</td>\n",
       "      <td>12.382410</td>\n",
       "      <td>11.336908</td>\n",
       "      <td>0.000000</td>\n",
       "      <td>-50.000000</td>\n",
       "      <td>-0.042859</td>\n",
       "      <td>-5252.611534</td>\n",
       "      <td>-0.021995</td>\n",
       "      <td>-4281.618240</td>\n",
       "      <td>-0.022373</td>\n",
       "      <td>-10139.164926</td>\n",
       "    </tr>\n",
       "    <tr>\n",
       "      <th>25%</th>\n",
       "      <td>9.000000</td>\n",
       "      <td>0.000000</td>\n",
       "      <td>3600.0</td>\n",
       "      <td>0.062290</td>\n",
       "      <td>0.410000</td>\n",
       "      <td>-1.690000</td>\n",
       "      <td>0.680000</td>\n",
       "      <td>-2.840000</td>\n",
       "      <td>0.360000</td>\n",
       "      <td>-4.835000</td>\n",
       "      <td>0.460000</td>\n",
       "      <td>-7.260000</td>\n",
       "      <td>1.010000</td>\n",
       "      <td>-4.040000</td>\n",
       "      <td>1.230000</td>\n",
       "      <td>-5.120000</td>\n",
       "      <td>1.360000</td>\n",
       "      <td>-6.040000</td>\n",
       "      <td>-1.874278e+05</td>\n",
       "      <td>-7.500000</td>\n",
       "      <td>-0.893990</td>\n",
       "      <td>39.433370</td>\n",
       "      <td>44.804375</td>\n",
       "      <td>43.335926</td>\n",
       "      <td>0.010586</td>\n",
       "      <td>0.283354</td>\n",
       "      <td>0.062336</td>\n",
       "      <td>0.051529</td>\n",
       "      <td>0.061459</td>\n",
       "      <td>-0.054852</td>\n",
       "      <td>0.060251</td>\n",
       "      <td>-0.125073</td>\n",
       "    </tr>\n",
       "    <tr>\n",
       "      <th>50%</th>\n",
       "      <td>12.000000</td>\n",
       "      <td>0.000000</td>\n",
       "      <td>3600.0</td>\n",
       "      <td>0.789000</td>\n",
       "      <td>0.920000</td>\n",
       "      <td>-0.830000</td>\n",
       "      <td>1.500000</td>\n",
       "      <td>-1.470000</td>\n",
       "      <td>2.320000</td>\n",
       "      <td>-2.250000</td>\n",
       "      <td>3.140000</td>\n",
       "      <td>-3.200000</td>\n",
       "      <td>2.240000</td>\n",
       "      <td>-2.090000</td>\n",
       "      <td>2.750000</td>\n",
       "      <td>-2.580000</td>\n",
       "      <td>3.130000</td>\n",
       "      <td>-2.960000</td>\n",
       "      <td>2.896147e+03</td>\n",
       "      <td>0.000000</td>\n",
       "      <td>-0.810924</td>\n",
       "      <td>48.169160</td>\n",
       "      <td>50.868723</td>\n",
       "      <td>50.000000</td>\n",
       "      <td>0.437557</td>\n",
       "      <td>0.595975</td>\n",
       "      <td>0.759933</td>\n",
       "      <td>1.199905</td>\n",
       "      <td>0.709803</td>\n",
       "      <td>1.150519</td>\n",
       "      <td>0.698279</td>\n",
       "      <td>1.122161</td>\n",
       "    </tr>\n",
       "    <tr>\n",
       "      <th>75%</th>\n",
       "      <td>16.000000</td>\n",
       "      <td>0.000000</td>\n",
       "      <td>3600.0</td>\n",
       "      <td>6.435500</td>\n",
       "      <td>1.650000</td>\n",
       "      <td>-0.300000</td>\n",
       "      <td>2.900000</td>\n",
       "      <td>-0.610000</td>\n",
       "      <td>4.760000</td>\n",
       "      <td>-0.590000</td>\n",
       "      <td>6.710000</td>\n",
       "      <td>-0.670000</td>\n",
       "      <td>4.270000</td>\n",
       "      <td>-0.910000</td>\n",
       "      <td>5.080000</td>\n",
       "      <td>-1.160000</td>\n",
       "      <td>5.760000</td>\n",
       "      <td>-1.360000</td>\n",
       "      <td>6.806838e+05</td>\n",
       "      <td>7.665000</td>\n",
       "      <td>-0.651091</td>\n",
       "      <td>55.364912</td>\n",
       "      <td>56.962046</td>\n",
       "      <td>55.105160</td>\n",
       "      <td>0.722408</td>\n",
       "      <td>0.890230</td>\n",
       "      <td>6.282759</td>\n",
       "      <td>2.375440</td>\n",
       "      <td>6.057921</td>\n",
       "      <td>2.398833</td>\n",
       "      <td>6.064644</td>\n",
       "      <td>2.327623</td>\n",
       "    </tr>\n",
       "    <tr>\n",
       "      <th>max</th>\n",
       "      <td>28.000000</td>\n",
       "      <td>5.000000</td>\n",
       "      <td>3600.0</td>\n",
       "      <td>46991.950000</td>\n",
       "      <td>140.260000</td>\n",
       "      <td>2.110000</td>\n",
       "      <td>140.260000</td>\n",
       "      <td>1.720000</td>\n",
       "      <td>185.200000</td>\n",
       "      <td>39.760000</td>\n",
       "      <td>397.840000</td>\n",
       "      <td>51.990000</td>\n",
       "      <td>140.260000</td>\n",
       "      <td>1.720000</td>\n",
       "      <td>185.200000</td>\n",
       "      <td>1.720000</td>\n",
       "      <td>397.840000</td>\n",
       "      <td>1.720000</td>\n",
       "      <td>1.647208e+10</td>\n",
       "      <td>60413.430000</td>\n",
       "      <td>1.000000</td>\n",
       "      <td>89.267453</td>\n",
       "      <td>94.705191</td>\n",
       "      <td>90.348025</td>\n",
       "      <td>1.000000</td>\n",
       "      <td>1.000000</td>\n",
       "      <td>45411.979372</td>\n",
       "      <td>16994.051195</td>\n",
       "      <td>44854.896137</td>\n",
       "      <td>18812.818602</td>\n",
       "      <td>40629.670147</td>\n",
       "      <td>4230.002230</td>\n",
       "    </tr>\n",
       "  </tbody>\n",
       "</table>\n",
       "</div>"
      ],
      "text/plain": [
       "          buy_score  candle_stick_score  granularity         price  \\\n",
       "count  15943.000000        15943.000000      15943.0  15943.000000   \n",
       "mean      12.427774           -0.002383       3600.0    320.727951   \n",
       "std        3.763260            0.337873          0.0   3239.519221   \n",
       "min        4.000000           -5.000000       3600.0      0.000100   \n",
       "25%        9.000000            0.000000       3600.0      0.062290   \n",
       "50%       12.000000            0.000000       3600.0      0.789000   \n",
       "75%       16.000000            0.000000       3600.0      6.435500   \n",
       "max       28.000000            5.000000       3600.0  46991.950000   \n",
       "\n",
       "        one_hr_high    one_hr_low  three_hr_high  three_hr_low  \\\n",
       "count  15879.000000  15879.000000   15879.000000  15879.000000   \n",
       "mean       1.317442     -1.191743       2.315825     -2.078038   \n",
       "std        2.085551      1.370945       3.255968      2.134749   \n",
       "min       -1.480000    -24.010000      -1.430000    -24.640000   \n",
       "25%        0.410000     -1.690000       0.680000     -2.840000   \n",
       "50%        0.920000     -0.830000       1.500000     -1.470000   \n",
       "75%        1.650000     -0.300000       2.900000     -0.610000   \n",
       "max      140.260000      2.110000     140.260000      1.720000   \n",
       "\n",
       "       three_six_high  three_six_low   six_12_high    six_12_low  \\\n",
       "count    15671.000000   15671.000000  15437.000000  15437.000000   \n",
       "mean         3.333870      -3.036269      4.632260     -4.327599   \n",
       "std          6.378091       4.064619     10.058856      5.710884   \n",
       "min        -12.690000     -78.180000    -13.370000    -78.740000   \n",
       "25%          0.360000      -4.835000      0.460000     -7.260000   \n",
       "50%          2.320000      -2.250000      3.140000     -3.200000   \n",
       "75%          4.760000      -0.590000      6.710000     -0.670000   \n",
       "max        185.200000      39.760000    397.840000     51.990000   \n",
       "\n",
       "        six_hr_high    six_hr_low  nine_hr_high   nine_hr_low  twelve_hr_high  \\\n",
       "count  15879.000000  15879.000000  15879.000000  15879.000000    15879.000000   \n",
       "mean       3.395867     -2.977907      4.198102     -3.668296        4.833710   \n",
       "std        4.680569      2.906886      6.178606      3.527809        8.332731   \n",
       "min       -1.300000    -24.640000     -1.300000    -78.180000       -1.300000   \n",
       "25%        1.010000     -4.040000      1.230000     -5.120000        1.360000   \n",
       "50%        2.240000     -2.090000      2.750000     -2.580000        3.130000   \n",
       "75%        4.270000     -0.910000      5.080000     -1.160000        5.760000   \n",
       "max      140.260000      1.720000    185.200000      1.720000      397.840000   \n",
       "\n",
       "       twelve_hr_low           obv        obv_pc           rri           rsi  \\\n",
       "count   15879.000000  1.594300e+04  15943.000000  15931.000000  15943.000000   \n",
       "mean       -4.261362 -8.299903e+06      0.277449     -0.536571     47.287560   \n",
       "std         4.087430  1.151079e+09   1092.086786      0.601915     11.208320   \n",
       "min       -78.740000 -4.591466e+10 -63815.260000     -1.000000     10.760062   \n",
       "25%        -6.040000 -1.874278e+05     -7.500000     -0.893990     39.433370   \n",
       "50%        -2.960000  2.896147e+03      0.000000     -0.810924     48.169160   \n",
       "75%        -1.360000  6.806838e+05      7.665000     -0.651091     55.364912   \n",
       "max         1.720000  1.647208e+10  60413.430000      1.000000     89.267453   \n",
       "\n",
       "           rsi_last      rsi_prev    stochrsi14   williamsr14      sarima_1  \\\n",
       "count  15943.000000  15669.000000  15943.000000  15943.000000  12872.000000   \n",
       "mean      50.661659     49.010041      0.425002     -2.201259    318.777874   \n",
       "std        9.955801      9.948751      0.358246     11.571354   3219.901097   \n",
       "min       12.382410     11.336908      0.000000    -50.000000     -0.042859   \n",
       "25%       44.804375     43.335926      0.010586      0.283354      0.062336   \n",
       "50%       50.868723     50.000000      0.437557      0.595975      0.759933   \n",
       "75%       56.962046     55.105160      0.722408      0.890230      6.282759   \n",
       "max       94.705191     90.348025      1.000000      1.000000  45411.979372   \n",
       "\n",
       "       sarima_1_margin      sarima_2  sarima_2_margin      sarima_3  \\\n",
       "count     12872.000000   9621.000000      9621.000000   6275.000000   \n",
       "mean          1.744369    281.693352         2.314333    300.503722   \n",
       "std         169.121274   2956.070899       206.143539   3086.173066   \n",
       "min       -5252.611534     -0.021995     -4281.618240     -0.022373   \n",
       "25%           0.051529      0.061459        -0.054852      0.060251   \n",
       "50%           1.199905      0.709803         1.150519      0.698279   \n",
       "75%           2.375440      6.057921         2.398833      6.064644   \n",
       "max       16994.051195  44854.896137     18812.818602  40629.670147   \n",
       "\n",
       "       sarima_3_margin  \n",
       "count      6275.000000  \n",
       "mean         -0.514538  \n",
       "std         149.262294  \n",
       "min      -10139.164926  \n",
       "25%          -0.125073  \n",
       "50%           1.122161  \n",
       "75%           2.327623  \n",
       "max        4230.002230  "
      ]
     },
     "execution_count": 5,
     "metadata": {},
     "output_type": "execute_result"
    }
   ],
   "source": [
    "buy_dataframe.describe()"
   ]
  },
  {
   "cell_type": "code",
   "execution_count": 6,
   "id": "9c690f2d",
   "metadata": {},
   "outputs": [
    {
     "data": {
      "text/html": [
       "<div>\n",
       "<style scoped>\n",
       "    .dataframe tbody tr th:only-of-type {\n",
       "        vertical-align: middle;\n",
       "    }\n",
       "\n",
       "    .dataframe tbody tr th {\n",
       "        vertical-align: top;\n",
       "    }\n",
       "\n",
       "    .dataframe thead th {\n",
       "        text-align: right;\n",
       "    }\n",
       "</style>\n",
       "<table border=\"1\" class=\"dataframe\">\n",
       "  <thead>\n",
       "    <tr style=\"text-align: right;\">\n",
       "      <th></th>\n",
       "      <th>buy_score</th>\n",
       "      <th>candle_stick_score</th>\n",
       "      <th>granularity</th>\n",
       "      <th>price</th>\n",
       "      <th>one_hr_high</th>\n",
       "      <th>one_hr_low</th>\n",
       "      <th>three_hr_high</th>\n",
       "      <th>three_hr_low</th>\n",
       "      <th>three_six_high</th>\n",
       "      <th>three_six_low</th>\n",
       "      <th>six_12_high</th>\n",
       "      <th>six_12_low</th>\n",
       "      <th>six_hr_high</th>\n",
       "      <th>six_hr_low</th>\n",
       "      <th>nine_hr_high</th>\n",
       "      <th>nine_hr_low</th>\n",
       "      <th>twelve_hr_high</th>\n",
       "      <th>twelve_hr_low</th>\n",
       "      <th>obv</th>\n",
       "      <th>obv_pc</th>\n",
       "      <th>rri</th>\n",
       "      <th>rsi</th>\n",
       "      <th>rsi_last</th>\n",
       "      <th>rsi_prev</th>\n",
       "      <th>stochrsi14</th>\n",
       "      <th>williamsr14</th>\n",
       "      <th>sarima_1</th>\n",
       "      <th>sarima_1_margin</th>\n",
       "      <th>sarima_2</th>\n",
       "      <th>sarima_2_margin</th>\n",
       "      <th>sarima_3</th>\n",
       "      <th>sarima_3_margin</th>\n",
       "    </tr>\n",
       "  </thead>\n",
       "  <tbody>\n",
       "    <tr>\n",
       "      <th>count</th>\n",
       "      <td>1063.000000</td>\n",
       "      <td>1063.000000</td>\n",
       "      <td>1063.0</td>\n",
       "      <td>1063.000000</td>\n",
       "      <td>1063.000000</td>\n",
       "      <td>1063.000000</td>\n",
       "      <td>1063.000000</td>\n",
       "      <td>1063.000000</td>\n",
       "      <td>1063.000000</td>\n",
       "      <td>1063.000000</td>\n",
       "      <td>1063.000000</td>\n",
       "      <td>1063.000000</td>\n",
       "      <td>1063.000000</td>\n",
       "      <td>1063.000000</td>\n",
       "      <td>1063.000000</td>\n",
       "      <td>1063.000000</td>\n",
       "      <td>1063.000000</td>\n",
       "      <td>1063.000000</td>\n",
       "      <td>1.063000e+03</td>\n",
       "      <td>1063.000000</td>\n",
       "      <td>1063.000000</td>\n",
       "      <td>1063.000000</td>\n",
       "      <td>1063.000000</td>\n",
       "      <td>1063.000000</td>\n",
       "      <td>1063.000000</td>\n",
       "      <td>1063.000000</td>\n",
       "      <td>960.000000</td>\n",
       "      <td>960.000000</td>\n",
       "      <td>911.000000</td>\n",
       "      <td>911.000000</td>\n",
       "      <td>316.000000</td>\n",
       "      <td>316.000000</td>\n",
       "    </tr>\n",
       "    <tr>\n",
       "      <th>mean</th>\n",
       "      <td>8.439323</td>\n",
       "      <td>-0.035748</td>\n",
       "      <td>3600.0</td>\n",
       "      <td>336.519369</td>\n",
       "      <td>1.686914</td>\n",
       "      <td>-1.731872</td>\n",
       "      <td>2.691148</td>\n",
       "      <td>-2.679454</td>\n",
       "      <td>3.756557</td>\n",
       "      <td>-3.724186</td>\n",
       "      <td>5.707488</td>\n",
       "      <td>-5.117404</td>\n",
       "      <td>3.778852</td>\n",
       "      <td>-3.610602</td>\n",
       "      <td>4.494826</td>\n",
       "      <td>-4.585729</td>\n",
       "      <td>5.320837</td>\n",
       "      <td>-5.232352</td>\n",
       "      <td>-8.456646e+07</td>\n",
       "      <td>-57.654826</td>\n",
       "      <td>-0.848768</td>\n",
       "      <td>25.039066</td>\n",
       "      <td>30.201702</td>\n",
       "      <td>29.914280</td>\n",
       "      <td>0.111086</td>\n",
       "      <td>0.944664</td>\n",
       "      <td>330.134284</td>\n",
       "      <td>2.983068</td>\n",
       "      <td>343.919533</td>\n",
       "      <td>2.824062</td>\n",
       "      <td>34.356784</td>\n",
       "      <td>2.208917</td>\n",
       "    </tr>\n",
       "    <tr>\n",
       "      <th>std</th>\n",
       "      <td>2.355791</td>\n",
       "      <td>0.275561</td>\n",
       "      <td>0.0</td>\n",
       "      <td>3215.621220</td>\n",
       "      <td>1.403807</td>\n",
       "      <td>1.448536</td>\n",
       "      <td>2.339309</td>\n",
       "      <td>2.224266</td>\n",
       "      <td>4.224944</td>\n",
       "      <td>3.743394</td>\n",
       "      <td>7.682018</td>\n",
       "      <td>5.006013</td>\n",
       "      <td>3.304783</td>\n",
       "      <td>2.897633</td>\n",
       "      <td>3.881906</td>\n",
       "      <td>3.226783</td>\n",
       "      <td>5.172707</td>\n",
       "      <td>3.347977</td>\n",
       "      <td>1.880930e+09</td>\n",
       "      <td>1710.989575</td>\n",
       "      <td>0.074653</td>\n",
       "      <td>3.859906</td>\n",
       "      <td>4.861595</td>\n",
       "      <td>6.225699</td>\n",
       "      <td>0.203830</td>\n",
       "      <td>0.055008</td>\n",
       "      <td>3150.208835</td>\n",
       "      <td>2.260514</td>\n",
       "      <td>3196.394647</td>\n",
       "      <td>2.395351</td>\n",
       "      <td>214.219297</td>\n",
       "      <td>2.157537</td>\n",
       "    </tr>\n",
       "    <tr>\n",
       "      <th>min</th>\n",
       "      <td>4.000000</td>\n",
       "      <td>-3.000000</td>\n",
       "      <td>3600.0</td>\n",
       "      <td>0.000106</td>\n",
       "      <td>-0.630000</td>\n",
       "      <td>-8.290000</td>\n",
       "      <td>-0.580000</td>\n",
       "      <td>-15.440000</td>\n",
       "      <td>-5.270000</td>\n",
       "      <td>-16.730000</td>\n",
       "      <td>-9.660000</td>\n",
       "      <td>-22.870000</td>\n",
       "      <td>-0.290000</td>\n",
       "      <td>-15.440000</td>\n",
       "      <td>-0.270000</td>\n",
       "      <td>-16.730000</td>\n",
       "      <td>-0.090000</td>\n",
       "      <td>-22.550000</td>\n",
       "      <td>-4.352730e+10</td>\n",
       "      <td>-55253.900000</td>\n",
       "      <td>-1.000000</td>\n",
       "      <td>10.760062</td>\n",
       "      <td>12.382410</td>\n",
       "      <td>11.336908</td>\n",
       "      <td>0.000000</td>\n",
       "      <td>0.576375</td>\n",
       "      <td>0.000106</td>\n",
       "      <td>-2.414302</td>\n",
       "      <td>0.000151</td>\n",
       "      <td>-3.449603</td>\n",
       "      <td>0.000147</td>\n",
       "      <td>-6.394982</td>\n",
       "    </tr>\n",
       "    <tr>\n",
       "      <th>25%</th>\n",
       "      <td>7.000000</td>\n",
       "      <td>0.000000</td>\n",
       "      <td>3600.0</td>\n",
       "      <td>0.156050</td>\n",
       "      <td>0.730000</td>\n",
       "      <td>-2.460000</td>\n",
       "      <td>1.110000</td>\n",
       "      <td>-3.825000</td>\n",
       "      <td>1.145000</td>\n",
       "      <td>-6.350000</td>\n",
       "      <td>2.260000</td>\n",
       "      <td>-8.470000</td>\n",
       "      <td>1.610000</td>\n",
       "      <td>-5.510000</td>\n",
       "      <td>2.065000</td>\n",
       "      <td>-6.920000</td>\n",
       "      <td>2.445000</td>\n",
       "      <td>-7.485000</td>\n",
       "      <td>-1.254510e+06</td>\n",
       "      <td>-5.025000</td>\n",
       "      <td>-0.893661</td>\n",
       "      <td>22.665144</td>\n",
       "      <td>27.040686</td>\n",
       "      <td>25.768184</td>\n",
       "      <td>0.000000</td>\n",
       "      <td>0.923023</td>\n",
       "      <td>0.169590</td>\n",
       "      <td>1.271800</td>\n",
       "      <td>0.178191</td>\n",
       "      <td>0.994263</td>\n",
       "      <td>0.079864</td>\n",
       "      <td>0.729898</td>\n",
       "    </tr>\n",
       "    <tr>\n",
       "      <th>50%</th>\n",
       "      <td>9.000000</td>\n",
       "      <td>0.000000</td>\n",
       "      <td>3600.0</td>\n",
       "      <td>1.405900</td>\n",
       "      <td>1.380000</td>\n",
       "      <td>-1.570000</td>\n",
       "      <td>2.160000</td>\n",
       "      <td>-2.160000</td>\n",
       "      <td>3.180000</td>\n",
       "      <td>-3.210000</td>\n",
       "      <td>4.660000</td>\n",
       "      <td>-5.360000</td>\n",
       "      <td>3.160000</td>\n",
       "      <td>-2.730000</td>\n",
       "      <td>3.700000</td>\n",
       "      <td>-4.030000</td>\n",
       "      <td>4.210000</td>\n",
       "      <td>-5.260000</td>\n",
       "      <td>-3.870556e+04</td>\n",
       "      <td>3.290000</td>\n",
       "      <td>-0.833333</td>\n",
       "      <td>25.960524</td>\n",
       "      <td>30.485785</td>\n",
       "      <td>30.090741</td>\n",
       "      <td>0.000000</td>\n",
       "      <td>0.959450</td>\n",
       "      <td>1.511436</td>\n",
       "      <td>2.447328</td>\n",
       "      <td>1.576754</td>\n",
       "      <td>2.544076</td>\n",
       "      <td>1.199062</td>\n",
       "      <td>2.007103</td>\n",
       "    </tr>\n",
       "    <tr>\n",
       "      <th>75%</th>\n",
       "      <td>11.000000</td>\n",
       "      <td>0.000000</td>\n",
       "      <td>3600.0</td>\n",
       "      <td>9.206500</td>\n",
       "      <td>2.370000</td>\n",
       "      <td>-0.550000</td>\n",
       "      <td>3.730000</td>\n",
       "      <td>-1.065000</td>\n",
       "      <td>5.480000</td>\n",
       "      <td>-1.130000</td>\n",
       "      <td>7.455000</td>\n",
       "      <td>-1.530000</td>\n",
       "      <td>4.935000</td>\n",
       "      <td>-1.480000</td>\n",
       "      <td>5.710000</td>\n",
       "      <td>-2.020000</td>\n",
       "      <td>6.485000</td>\n",
       "      <td>-2.480000</td>\n",
       "      <td>9.107928e+04</td>\n",
       "      <td>13.045000</td>\n",
       "      <td>-0.787469</td>\n",
       "      <td>28.191843</td>\n",
       "      <td>33.439841</td>\n",
       "      <td>34.166085</td>\n",
       "      <td>0.134695</td>\n",
       "      <td>0.983881</td>\n",
       "      <td>9.805720</td>\n",
       "      <td>4.551434</td>\n",
       "      <td>9.963491</td>\n",
       "      <td>4.384304</td>\n",
       "      <td>8.095913</td>\n",
       "      <td>3.265921</td>\n",
       "    </tr>\n",
       "    <tr>\n",
       "      <th>max</th>\n",
       "      <td>19.000000</td>\n",
       "      <td>0.000000</td>\n",
       "      <td>3600.0</td>\n",
       "      <td>42602.150000</td>\n",
       "      <td>18.550000</td>\n",
       "      <td>1.710000</td>\n",
       "      <td>20.150000</td>\n",
       "      <td>1.080000</td>\n",
       "      <td>40.990000</td>\n",
       "      <td>9.590000</td>\n",
       "      <td>114.510000</td>\n",
       "      <td>10.530000</td>\n",
       "      <td>40.990000</td>\n",
       "      <td>1.080000</td>\n",
       "      <td>40.990000</td>\n",
       "      <td>0.930000</td>\n",
       "      <td>60.180000</td>\n",
       "      <td>0.930000</td>\n",
       "      <td>5.701408e+09</td>\n",
       "      <td>2453.090000</td>\n",
       "      <td>-0.750000</td>\n",
       "      <td>29.991608</td>\n",
       "      <td>50.000000</td>\n",
       "      <td>52.978440</td>\n",
       "      <td>0.924922</td>\n",
       "      <td>1.000000</td>\n",
       "      <td>40635.919279</td>\n",
       "      <td>14.007992</td>\n",
       "      <td>40556.219379</td>\n",
       "      <td>14.599309</td>\n",
       "      <td>2857.772845</td>\n",
       "      <td>13.130761</td>\n",
       "    </tr>\n",
       "  </tbody>\n",
       "</table>\n",
       "</div>"
      ],
      "text/plain": [
       "         buy_score  candle_stick_score  granularity         price  \\\n",
       "count  1063.000000         1063.000000       1063.0   1063.000000   \n",
       "mean      8.439323           -0.035748       3600.0    336.519369   \n",
       "std       2.355791            0.275561          0.0   3215.621220   \n",
       "min       4.000000           -3.000000       3600.0      0.000106   \n",
       "25%       7.000000            0.000000       3600.0      0.156050   \n",
       "50%       9.000000            0.000000       3600.0      1.405900   \n",
       "75%      11.000000            0.000000       3600.0      9.206500   \n",
       "max      19.000000            0.000000       3600.0  42602.150000   \n",
       "\n",
       "       one_hr_high   one_hr_low  three_hr_high  three_hr_low  three_six_high  \\\n",
       "count  1063.000000  1063.000000    1063.000000   1063.000000     1063.000000   \n",
       "mean      1.686914    -1.731872       2.691148     -2.679454        3.756557   \n",
       "std       1.403807     1.448536       2.339309      2.224266        4.224944   \n",
       "min      -0.630000    -8.290000      -0.580000    -15.440000       -5.270000   \n",
       "25%       0.730000    -2.460000       1.110000     -3.825000        1.145000   \n",
       "50%       1.380000    -1.570000       2.160000     -2.160000        3.180000   \n",
       "75%       2.370000    -0.550000       3.730000     -1.065000        5.480000   \n",
       "max      18.550000     1.710000      20.150000      1.080000       40.990000   \n",
       "\n",
       "       three_six_low  six_12_high   six_12_low  six_hr_high   six_hr_low  \\\n",
       "count    1063.000000  1063.000000  1063.000000  1063.000000  1063.000000   \n",
       "mean       -3.724186     5.707488    -5.117404     3.778852    -3.610602   \n",
       "std         3.743394     7.682018     5.006013     3.304783     2.897633   \n",
       "min       -16.730000    -9.660000   -22.870000    -0.290000   -15.440000   \n",
       "25%        -6.350000     2.260000    -8.470000     1.610000    -5.510000   \n",
       "50%        -3.210000     4.660000    -5.360000     3.160000    -2.730000   \n",
       "75%        -1.130000     7.455000    -1.530000     4.935000    -1.480000   \n",
       "max         9.590000   114.510000    10.530000    40.990000     1.080000   \n",
       "\n",
       "       nine_hr_high  nine_hr_low  twelve_hr_high  twelve_hr_low           obv  \\\n",
       "count   1063.000000  1063.000000     1063.000000    1063.000000  1.063000e+03   \n",
       "mean       4.494826    -4.585729        5.320837      -5.232352 -8.456646e+07   \n",
       "std        3.881906     3.226783        5.172707       3.347977  1.880930e+09   \n",
       "min       -0.270000   -16.730000       -0.090000     -22.550000 -4.352730e+10   \n",
       "25%        2.065000    -6.920000        2.445000      -7.485000 -1.254510e+06   \n",
       "50%        3.700000    -4.030000        4.210000      -5.260000 -3.870556e+04   \n",
       "75%        5.710000    -2.020000        6.485000      -2.480000  9.107928e+04   \n",
       "max       40.990000     0.930000       60.180000       0.930000  5.701408e+09   \n",
       "\n",
       "             obv_pc          rri          rsi     rsi_last     rsi_prev  \\\n",
       "count   1063.000000  1063.000000  1063.000000  1063.000000  1063.000000   \n",
       "mean     -57.654826    -0.848768    25.039066    30.201702    29.914280   \n",
       "std     1710.989575     0.074653     3.859906     4.861595     6.225699   \n",
       "min   -55253.900000    -1.000000    10.760062    12.382410    11.336908   \n",
       "25%       -5.025000    -0.893661    22.665144    27.040686    25.768184   \n",
       "50%        3.290000    -0.833333    25.960524    30.485785    30.090741   \n",
       "75%       13.045000    -0.787469    28.191843    33.439841    34.166085   \n",
       "max     2453.090000    -0.750000    29.991608    50.000000    52.978440   \n",
       "\n",
       "        stochrsi14  williamsr14      sarima_1  sarima_1_margin      sarima_2  \\\n",
       "count  1063.000000  1063.000000    960.000000       960.000000    911.000000   \n",
       "mean      0.111086     0.944664    330.134284         2.983068    343.919533   \n",
       "std       0.203830     0.055008   3150.208835         2.260514   3196.394647   \n",
       "min       0.000000     0.576375      0.000106        -2.414302      0.000151   \n",
       "25%       0.000000     0.923023      0.169590         1.271800      0.178191   \n",
       "50%       0.000000     0.959450      1.511436         2.447328      1.576754   \n",
       "75%       0.134695     0.983881      9.805720         4.551434      9.963491   \n",
       "max       0.924922     1.000000  40635.919279        14.007992  40556.219379   \n",
       "\n",
       "       sarima_2_margin     sarima_3  sarima_3_margin  \n",
       "count       911.000000   316.000000       316.000000  \n",
       "mean          2.824062    34.356784         2.208917  \n",
       "std           2.395351   214.219297         2.157537  \n",
       "min          -3.449603     0.000147        -6.394982  \n",
       "25%           0.994263     0.079864         0.729898  \n",
       "50%           2.544076     1.199062         2.007103  \n",
       "75%           4.384304     8.095913         3.265921  \n",
       "max          14.599309  2857.772845        13.130761  "
      ]
     },
     "execution_count": 6,
     "metadata": {},
     "output_type": "execute_result"
    }
   ],
   "source": [
    "buy_dataframe.query(\"rsi<30\").describe()"
   ]
  },
  {
   "cell_type": "code",
   "execution_count": 7,
   "id": "607faaa8",
   "metadata": {},
   "outputs": [
    {
     "data": {
      "text/html": [
       "<div>\n",
       "<style scoped>\n",
       "    .dataframe tbody tr th:only-of-type {\n",
       "        vertical-align: middle;\n",
       "    }\n",
       "\n",
       "    .dataframe tbody tr th {\n",
       "        vertical-align: top;\n",
       "    }\n",
       "\n",
       "    .dataframe thead th {\n",
       "        text-align: right;\n",
       "    }\n",
       "</style>\n",
       "<table border=\"1\" class=\"dataframe\">\n",
       "  <thead>\n",
       "    <tr style=\"text-align: right;\">\n",
       "      <th></th>\n",
       "      <th>buy_score</th>\n",
       "      <th>candle_stick_score</th>\n",
       "      <th>granularity</th>\n",
       "      <th>price</th>\n",
       "      <th>one_hr_high</th>\n",
       "      <th>one_hr_low</th>\n",
       "      <th>three_hr_high</th>\n",
       "      <th>three_hr_low</th>\n",
       "      <th>three_six_high</th>\n",
       "      <th>three_six_low</th>\n",
       "      <th>six_12_high</th>\n",
       "      <th>six_12_low</th>\n",
       "      <th>six_hr_high</th>\n",
       "      <th>six_hr_low</th>\n",
       "      <th>nine_hr_high</th>\n",
       "      <th>nine_hr_low</th>\n",
       "      <th>twelve_hr_high</th>\n",
       "      <th>twelve_hr_low</th>\n",
       "      <th>obv</th>\n",
       "      <th>obv_pc</th>\n",
       "      <th>rri</th>\n",
       "      <th>rsi</th>\n",
       "      <th>rsi_last</th>\n",
       "      <th>rsi_prev</th>\n",
       "      <th>stochrsi14</th>\n",
       "      <th>williamsr14</th>\n",
       "      <th>sarima_1</th>\n",
       "      <th>sarima_1_margin</th>\n",
       "      <th>sarima_2</th>\n",
       "      <th>sarima_2_margin</th>\n",
       "      <th>sarima_3</th>\n",
       "      <th>sarima_3_margin</th>\n",
       "    </tr>\n",
       "  </thead>\n",
       "  <tbody>\n",
       "    <tr>\n",
       "      <th>count</th>\n",
       "      <td>534.000000</td>\n",
       "      <td>534.000000</td>\n",
       "      <td>534.0</td>\n",
       "      <td>534.000000</td>\n",
       "      <td>534.000000</td>\n",
       "      <td>534.000000</td>\n",
       "      <td>534.000000</td>\n",
       "      <td>534.000000</td>\n",
       "      <td>519.000000</td>\n",
       "      <td>519.000000</td>\n",
       "      <td>511.000000</td>\n",
       "      <td>511.000000</td>\n",
       "      <td>534.000000</td>\n",
       "      <td>534.000000</td>\n",
       "      <td>534.000000</td>\n",
       "      <td>534.000000</td>\n",
       "      <td>534.000000</td>\n",
       "      <td>534.000000</td>\n",
       "      <td>5.340000e+02</td>\n",
       "      <td>534.000000</td>\n",
       "      <td>534.000000</td>\n",
       "      <td>534.000000</td>\n",
       "      <td>534.000000</td>\n",
       "      <td>534.000000</td>\n",
       "      <td>534.000000</td>\n",
       "      <td>534.000000</td>\n",
       "      <td>534.000000</td>\n",
       "      <td>534.000000</td>\n",
       "      <td>534.000000</td>\n",
       "      <td>534.000000</td>\n",
       "      <td>534.000000</td>\n",
       "      <td>534.000000</td>\n",
       "    </tr>\n",
       "    <tr>\n",
       "      <th>mean</th>\n",
       "      <td>12.142322</td>\n",
       "      <td>-0.018727</td>\n",
       "      <td>3600.0</td>\n",
       "      <td>11.447528</td>\n",
       "      <td>2.281423</td>\n",
       "      <td>-1.854532</td>\n",
       "      <td>3.938895</td>\n",
       "      <td>-2.916498</td>\n",
       "      <td>4.881079</td>\n",
       "      <td>-4.746224</td>\n",
       "      <td>5.427339</td>\n",
       "      <td>-6.723033</td>\n",
       "      <td>5.319401</td>\n",
       "      <td>-4.288745</td>\n",
       "      <td>6.306049</td>\n",
       "      <td>-5.310899</td>\n",
       "      <td>7.038521</td>\n",
       "      <td>-6.346067</td>\n",
       "      <td>-2.101135e+07</td>\n",
       "      <td>-2.777491</td>\n",
       "      <td>-0.866890</td>\n",
       "      <td>45.537009</td>\n",
       "      <td>54.284640</td>\n",
       "      <td>52.883131</td>\n",
       "      <td>0.136386</td>\n",
       "      <td>0.769641</td>\n",
       "      <td>12.059978</td>\n",
       "      <td>13.720198</td>\n",
       "      <td>12.089635</td>\n",
       "      <td>14.227831</td>\n",
       "      <td>12.118112</td>\n",
       "      <td>14.738223</td>\n",
       "    </tr>\n",
       "    <tr>\n",
       "      <th>std</th>\n",
       "      <td>3.866240</td>\n",
       "      <td>0.220066</td>\n",
       "      <td>0.0</td>\n",
       "      <td>66.724504</td>\n",
       "      <td>2.739231</td>\n",
       "      <td>1.656795</td>\n",
       "      <td>5.213727</td>\n",
       "      <td>2.557559</td>\n",
       "      <td>9.692223</td>\n",
       "      <td>4.987044</td>\n",
       "      <td>11.371620</td>\n",
       "      <td>7.297808</td>\n",
       "      <td>7.341631</td>\n",
       "      <td>3.552594</td>\n",
       "      <td>9.157001</td>\n",
       "      <td>4.144619</td>\n",
       "      <td>9.783051</td>\n",
       "      <td>5.025505</td>\n",
       "      <td>1.861725e+09</td>\n",
       "      <td>82.262741</td>\n",
       "      <td>0.086589</td>\n",
       "      <td>10.980876</td>\n",
       "      <td>12.645662</td>\n",
       "      <td>12.065895</td>\n",
       "      <td>0.208466</td>\n",
       "      <td>0.217795</td>\n",
       "      <td>70.457532</td>\n",
       "      <td>177.795815</td>\n",
       "      <td>70.724176</td>\n",
       "      <td>180.779256</td>\n",
       "      <td>70.822401</td>\n",
       "      <td>183.162216</td>\n",
       "    </tr>\n",
       "    <tr>\n",
       "      <th>min</th>\n",
       "      <td>4.000000</td>\n",
       "      <td>-2.000000</td>\n",
       "      <td>3600.0</td>\n",
       "      <td>0.000119</td>\n",
       "      <td>-0.760000</td>\n",
       "      <td>-10.270000</td>\n",
       "      <td>-0.450000</td>\n",
       "      <td>-23.880000</td>\n",
       "      <td>-11.190000</td>\n",
       "      <td>-24.660000</td>\n",
       "      <td>-10.130000</td>\n",
       "      <td>-31.440000</td>\n",
       "      <td>-0.450000</td>\n",
       "      <td>-23.880000</td>\n",
       "      <td>-0.450000</td>\n",
       "      <td>-24.660000</td>\n",
       "      <td>-0.450000</td>\n",
       "      <td>-27.480000</td>\n",
       "      <td>-4.044723e+10</td>\n",
       "      <td>-609.070000</td>\n",
       "      <td>-1.000000</td>\n",
       "      <td>15.179948</td>\n",
       "      <td>20.169277</td>\n",
       "      <td>21.690141</td>\n",
       "      <td>0.000000</td>\n",
       "      <td>0.230769</td>\n",
       "      <td>0.000124</td>\n",
       "      <td>0.025774</td>\n",
       "      <td>0.000124</td>\n",
       "      <td>0.491567</td>\n",
       "      <td>0.000124</td>\n",
       "      <td>4.002084</td>\n",
       "    </tr>\n",
       "    <tr>\n",
       "      <th>25%</th>\n",
       "      <td>9.000000</td>\n",
       "      <td>0.000000</td>\n",
       "      <td>3600.0</td>\n",
       "      <td>0.056370</td>\n",
       "      <td>0.882500</td>\n",
       "      <td>-2.537500</td>\n",
       "      <td>1.200000</td>\n",
       "      <td>-4.140000</td>\n",
       "      <td>0.355000</td>\n",
       "      <td>-7.660000</td>\n",
       "      <td>-0.610000</td>\n",
       "      <td>-10.810000</td>\n",
       "      <td>1.602500</td>\n",
       "      <td>-5.852500</td>\n",
       "      <td>1.895000</td>\n",
       "      <td>-7.540000</td>\n",
       "      <td>2.200000</td>\n",
       "      <td>-9.270000</td>\n",
       "      <td>-6.967627e+04</td>\n",
       "      <td>-10.367500</td>\n",
       "      <td>-0.925506</td>\n",
       "      <td>38.426397</td>\n",
       "      <td>45.815065</td>\n",
       "      <td>45.096489</td>\n",
       "      <td>0.000000</td>\n",
       "      <td>0.576968</td>\n",
       "      <td>0.060358</td>\n",
       "      <td>3.826758</td>\n",
       "      <td>0.059792</td>\n",
       "      <td>4.004312</td>\n",
       "      <td>0.059905</td>\n",
       "      <td>4.391277</td>\n",
       "    </tr>\n",
       "    <tr>\n",
       "      <th>50%</th>\n",
       "      <td>12.000000</td>\n",
       "      <td>0.000000</td>\n",
       "      <td>3600.0</td>\n",
       "      <td>0.283180</td>\n",
       "      <td>1.635000</td>\n",
       "      <td>-1.540000</td>\n",
       "      <td>2.370000</td>\n",
       "      <td>-2.315000</td>\n",
       "      <td>2.870000</td>\n",
       "      <td>-4.440000</td>\n",
       "      <td>3.240000</td>\n",
       "      <td>-5.830000</td>\n",
       "      <td>3.195000</td>\n",
       "      <td>-3.440000</td>\n",
       "      <td>3.655000</td>\n",
       "      <td>-4.555000</td>\n",
       "      <td>4.110000</td>\n",
       "      <td>-5.355000</td>\n",
       "      <td>6.497761e+05</td>\n",
       "      <td>-3.285000</td>\n",
       "      <td>-0.872232</td>\n",
       "      <td>46.936869</td>\n",
       "      <td>54.417657</td>\n",
       "      <td>52.634211</td>\n",
       "      <td>0.000000</td>\n",
       "      <td>0.837424</td>\n",
       "      <td>0.296156</td>\n",
       "      <td>4.747398</td>\n",
       "      <td>0.296014</td>\n",
       "      <td>5.076741</td>\n",
       "      <td>0.297993</td>\n",
       "      <td>5.265632</td>\n",
       "    </tr>\n",
       "    <tr>\n",
       "      <th>75%</th>\n",
       "      <td>14.000000</td>\n",
       "      <td>0.000000</td>\n",
       "      <td>3600.0</td>\n",
       "      <td>3.044300</td>\n",
       "      <td>2.725000</td>\n",
       "      <td>-0.612500</td>\n",
       "      <td>4.712500</td>\n",
       "      <td>-0.985000</td>\n",
       "      <td>5.900000</td>\n",
       "      <td>-1.500000</td>\n",
       "      <td>7.240000</td>\n",
       "      <td>-1.900000</td>\n",
       "      <td>6.012500</td>\n",
       "      <td>-1.622500</td>\n",
       "      <td>6.792500</td>\n",
       "      <td>-2.140000</td>\n",
       "      <td>7.370000</td>\n",
       "      <td>-2.395000</td>\n",
       "      <td>3.084365e+07</td>\n",
       "      <td>2.352500</td>\n",
       "      <td>-0.809790</td>\n",
       "      <td>53.836358</td>\n",
       "      <td>63.077253</td>\n",
       "      <td>61.225647</td>\n",
       "      <td>0.237018</td>\n",
       "      <td>0.971507</td>\n",
       "      <td>3.196439</td>\n",
       "      <td>6.382537</td>\n",
       "      <td>3.191314</td>\n",
       "      <td>6.766647</td>\n",
       "      <td>3.189003</td>\n",
       "      <td>6.929820</td>\n",
       "    </tr>\n",
       "    <tr>\n",
       "      <th>max</th>\n",
       "      <td>23.000000</td>\n",
       "      <td>1.000000</td>\n",
       "      <td>3600.0</td>\n",
       "      <td>1120.050000</td>\n",
       "      <td>36.000000</td>\n",
       "      <td>1.560000</td>\n",
       "      <td>58.250000</td>\n",
       "      <td>0.920000</td>\n",
       "      <td>87.020000</td>\n",
       "      <td>20.600000</td>\n",
       "      <td>87.020000</td>\n",
       "      <td>33.390000</td>\n",
       "      <td>83.440000</td>\n",
       "      <td>0.170000</td>\n",
       "      <td>87.020000</td>\n",
       "      <td>0.170000</td>\n",
       "      <td>87.020000</td>\n",
       "      <td>0.170000</td>\n",
       "      <td>2.430124e+09</td>\n",
       "      <td>1161.620000</td>\n",
       "      <td>-0.084661</td>\n",
       "      <td>73.104446</td>\n",
       "      <td>90.712825</td>\n",
       "      <td>89.605997</td>\n",
       "      <td>0.919776</td>\n",
       "      <td>1.000000</td>\n",
       "      <td>1185.908719</td>\n",
       "      <td>4103.256846</td>\n",
       "      <td>1192.976670</td>\n",
       "      <td>4173.272402</td>\n",
       "      <td>1192.055949</td>\n",
       "      <td>4230.002230</td>\n",
       "    </tr>\n",
       "  </tbody>\n",
       "</table>\n",
       "</div>"
      ],
      "text/plain": [
       "        buy_score  candle_stick_score  granularity        price  one_hr_high  \\\n",
       "count  534.000000          534.000000        534.0   534.000000   534.000000   \n",
       "mean    12.142322           -0.018727       3600.0    11.447528     2.281423   \n",
       "std      3.866240            0.220066          0.0    66.724504     2.739231   \n",
       "min      4.000000           -2.000000       3600.0     0.000119    -0.760000   \n",
       "25%      9.000000            0.000000       3600.0     0.056370     0.882500   \n",
       "50%     12.000000            0.000000       3600.0     0.283180     1.635000   \n",
       "75%     14.000000            0.000000       3600.0     3.044300     2.725000   \n",
       "max     23.000000            1.000000       3600.0  1120.050000    36.000000   \n",
       "\n",
       "       one_hr_low  three_hr_high  three_hr_low  three_six_high  three_six_low  \\\n",
       "count  534.000000     534.000000    534.000000      519.000000     519.000000   \n",
       "mean    -1.854532       3.938895     -2.916498        4.881079      -4.746224   \n",
       "std      1.656795       5.213727      2.557559        9.692223       4.987044   \n",
       "min    -10.270000      -0.450000    -23.880000      -11.190000     -24.660000   \n",
       "25%     -2.537500       1.200000     -4.140000        0.355000      -7.660000   \n",
       "50%     -1.540000       2.370000     -2.315000        2.870000      -4.440000   \n",
       "75%     -0.612500       4.712500     -0.985000        5.900000      -1.500000   \n",
       "max      1.560000      58.250000      0.920000       87.020000      20.600000   \n",
       "\n",
       "       six_12_high  six_12_low  six_hr_high  six_hr_low  nine_hr_high  \\\n",
       "count   511.000000  511.000000   534.000000  534.000000    534.000000   \n",
       "mean      5.427339   -6.723033     5.319401   -4.288745      6.306049   \n",
       "std      11.371620    7.297808     7.341631    3.552594      9.157001   \n",
       "min     -10.130000  -31.440000    -0.450000  -23.880000     -0.450000   \n",
       "25%      -0.610000  -10.810000     1.602500   -5.852500      1.895000   \n",
       "50%       3.240000   -5.830000     3.195000   -3.440000      3.655000   \n",
       "75%       7.240000   -1.900000     6.012500   -1.622500      6.792500   \n",
       "max      87.020000   33.390000    83.440000    0.170000     87.020000   \n",
       "\n",
       "       nine_hr_low  twelve_hr_high  twelve_hr_low           obv       obv_pc  \\\n",
       "count   534.000000      534.000000     534.000000  5.340000e+02   534.000000   \n",
       "mean     -5.310899        7.038521      -6.346067 -2.101135e+07    -2.777491   \n",
       "std       4.144619        9.783051       5.025505  1.861725e+09    82.262741   \n",
       "min     -24.660000       -0.450000     -27.480000 -4.044723e+10  -609.070000   \n",
       "25%      -7.540000        2.200000      -9.270000 -6.967627e+04   -10.367500   \n",
       "50%      -4.555000        4.110000      -5.355000  6.497761e+05    -3.285000   \n",
       "75%      -2.140000        7.370000      -2.395000  3.084365e+07     2.352500   \n",
       "max       0.170000       87.020000       0.170000  2.430124e+09  1161.620000   \n",
       "\n",
       "              rri         rsi    rsi_last    rsi_prev  stochrsi14  \\\n",
       "count  534.000000  534.000000  534.000000  534.000000  534.000000   \n",
       "mean    -0.866890   45.537009   54.284640   52.883131    0.136386   \n",
       "std      0.086589   10.980876   12.645662   12.065895    0.208466   \n",
       "min     -1.000000   15.179948   20.169277   21.690141    0.000000   \n",
       "25%     -0.925506   38.426397   45.815065   45.096489    0.000000   \n",
       "50%     -0.872232   46.936869   54.417657   52.634211    0.000000   \n",
       "75%     -0.809790   53.836358   63.077253   61.225647    0.237018   \n",
       "max     -0.084661   73.104446   90.712825   89.605997    0.919776   \n",
       "\n",
       "       williamsr14     sarima_1  sarima_1_margin     sarima_2  \\\n",
       "count   534.000000   534.000000       534.000000   534.000000   \n",
       "mean      0.769641    12.059978        13.720198    12.089635   \n",
       "std       0.217795    70.457532       177.795815    70.724176   \n",
       "min       0.230769     0.000124         0.025774     0.000124   \n",
       "25%       0.576968     0.060358         3.826758     0.059792   \n",
       "50%       0.837424     0.296156         4.747398     0.296014   \n",
       "75%       0.971507     3.196439         6.382537     3.191314   \n",
       "max       1.000000  1185.908719      4103.256846  1192.976670   \n",
       "\n",
       "       sarima_2_margin     sarima_3  sarima_3_margin  \n",
       "count       534.000000   534.000000       534.000000  \n",
       "mean         14.227831    12.118112        14.738223  \n",
       "std         180.779256    70.822401       183.162216  \n",
       "min           0.491567     0.000124         4.002084  \n",
       "25%           4.004312     0.059905         4.391277  \n",
       "50%           5.076741     0.297993         5.265632  \n",
       "75%           6.766647     3.189003         6.929820  \n",
       "max        4173.272402  1192.055949      4230.002230  "
      ]
     },
     "execution_count": 7,
     "metadata": {},
     "output_type": "execute_result"
    }
   ],
   "source": [
    "buy_dataframe.query(\"sarima_3_margin==sarima_3_margin\").query(\"sarima_3_margin>4\").describe()"
   ]
  },
  {
   "cell_type": "code",
   "execution_count": null,
   "id": "802d46be",
   "metadata": {},
   "outputs": [],
   "source": []
  },
  {
   "cell_type": "code",
   "execution_count": null,
   "id": "cd505d8f",
   "metadata": {},
   "outputs": [],
   "source": []
  },
  {
   "cell_type": "code",
   "execution_count": null,
   "id": "1ea1e704",
   "metadata": {},
   "outputs": [],
   "source": []
  },
  {
   "cell_type": "code",
   "execution_count": 8,
   "id": "0c41a9c2",
   "metadata": {},
   "outputs": [],
   "source": [
    "buy_dataframe.to_csv(\"buy_df_1hr_ema_rri_sarima_1236_rules.csv\")"
   ]
  },
  {
   "cell_type": "markdown",
   "id": "aa763156",
   "metadata": {},
   "source": [
    "### Observation\n",
    "\n",
    "**In the first hour,** \n",
    "\n",
    "- 50% of the BUY signals give 1.11% profit. Setting sellupprpcnt with 1% will get 50% success rate in first hour\n",
    "- 75% of the buy signals give 0.45% profit. Setting sellupprpcnt with 0.4% will get 75% success rate in first hour\n",
    "\n",
    "\n",
    "- If invested Rs.100 and for 100 buy signals sellupprpcnt is 0.45, definite chance of making Rs.139 if 75% is succesful\n",
    "- If invested Rs.100 and for 100 buy signals sellupprpcnt is 1.11, definite chance of making Rs.171 if 50% is succesful\n",
    "\n",
    "- Filterd by ones that makes < 0.05 in first hour and six_hr_high is also less than 0.00 margin, there is none. Which means, even if it does. not make more than 0.05 margin in first hour, at some point it makes more than 0% profit\n",
    "\n",
    "**In the three hours,**\n",
    "\n",
    "- 50% of the BUY signals give 2.0% profit. Setting sellupprpcnt with 1% will get 50% success rate in first hour\n",
    "- 75% of the buy signals give 0.8% profit. Setting sellupprpcnt with 0.4% will get 75% success rate in first hour\n",
    "\n"
   ]
  }
 ],
 "metadata": {
  "kernelspec": {
   "display_name": "Python 3",
   "language": "python",
   "name": "python3"
  },
  "language_info": {
   "codemirror_mode": {
    "name": "ipython",
    "version": 3
   },
   "file_extension": ".py",
   "mimetype": "text/x-python",
   "name": "python",
   "nbconvert_exporter": "python",
   "pygments_lexer": "ipython3",
   "version": "3.7.4"
  }
 },
 "nbformat": 4,
 "nbformat_minor": 5
}
