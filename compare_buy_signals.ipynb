{
 "cells": [
  {
   "cell_type": "code",
   "execution_count": 82,
   "id": "98a369c7",
   "metadata": {},
   "outputs": [],
   "source": [
    "import pandas as pd\n",
    "from datetime import datetime\n",
    "pd.set_option(\"display.max_columns\", None)"
   ]
  },
  {
   "cell_type": "code",
   "execution_count": 165,
   "id": "522bbd47",
   "metadata": {},
   "outputs": [],
   "source": [
    "def print_profit_losses_from_df(filtered_df, sellupperpcnt=1, selllowerpcnt=-3):\n",
    "    global total_count\n",
    "    filtered_count = filtered_df.count()[0]\n",
    "    filtered_pcnt = filtered_count/total_count*100\n",
    "    loss_trades_count = filtered_df.query(f\"one_hr_high<{sellupperpcnt}\").query(\"three_six_high<0.05\").count()[0]\n",
    "    loss_trades_pcnt = loss_trades_count/filtered_count*100\n",
    "    profit_trades_count = filtered_df.query(f\"one_hr_high>{sellupperpcnt}\").count()[0]\n",
    "    profit_trades_pcnt = profit_trades_count/filtered_count*100\n",
    "    first_hour_fail_count = filtered_df.query(f\"one_hr_low<{selllowerpcnt}\").count()[0]\n",
    "    first_hour_fail_pcnt = first_hour_fail_count/filtered_count*100\n",
    "    three_hour_fail_count = filtered_df.query(f\"three_hr_low<{selllowerpcnt}\").count()[0]\n",
    "    three_hour_fail_pcnt = three_hour_fail_count/filtered_count*100\n",
    "    one_hr_high_mean = filtered_df['one_hr_high'].mean()\n",
    "    one_hr_low_mean = filtered_df['one_hr_low'].mean()\n",
    "    \n",
    "    print(f\"Qualifying buy signals = {filtered_count} ({round(filtered_pcnt,2)}%)\",)\n",
    "    print(f\"Profit bank trades     = {profit_trades_count} ({round(profit_trades_pcnt,2)}%)\")\n",
    "    print(f\"Loss trades            = {loss_trades_count} ({round(loss_trades_pcnt, 2)}%)\")\n",
    "    print(f\"Failsafe      First hr = {first_hour_fail_count} ({round(first_hour_fail_pcnt,2)}%)\")\n",
    "    print(f\"Failsafe      Three hr = {three_hour_fail_count} ({round(three_hour_fail_pcnt,2)}%)\")\n",
    "    print(f\"One hr high mean = {one_hr_high_mean}  One hr low = {one_hr_low_mean}\")"
   ]
  },
  {
   "cell_type": "code",
   "execution_count": 197,
   "id": "4650f134",
   "metadata": {},
   "outputs": [
    {
     "name": "stdout",
     "output_type": "stream",
     "text": [
      "=======================1 HR EMA RRI BUYS===========================\n",
      "*****Non RRI Buys*****\n",
      "Qualifying buy signals = 4617 (29.55%)\n",
      "Profit bank trades     = 3120 (67.58%)\n",
      "Loss trades            = 504 (10.92%)\n",
      "Failsafe      First hr = 187 (4.05%)\n",
      "Failsafe      Three hr = 828 (17.93%)\n",
      "One hr high mean = 1.4946866189546737  One hr low = -1.372363912383431\n",
      "\n",
      "*****RRI Buys*****\n",
      "Qualifying buy signals = 11007 (70.45%)\n",
      "Profit bank trades     = 8079 (73.4%)\n",
      "Loss trades            = 875 (7.95%)\n",
      "Failsafe      First hr = 422 (3.83%)\n",
      "Failsafe      Three hr = 1484 (13.48%)\n",
      "One hr high mean = 1.3112385028685911  One hr low = -1.1315636098715964\n",
      "\n",
      "*****RSI Buys***\n",
      "Qualifying buy signals = 885 (5.66%)\n",
      "Profit bank trades     = 715 (80.79%)\n",
      "Loss trades            = 58 (6.55%)\n",
      "Failsafe      First hr = 63 (7.12%)\n",
      "Failsafe      Three hr = 232 (26.21%)\n",
      "One hr high mean = 1.6197853107344633  One hr low = -1.8109717514124295\n"
     ]
    }
   ],
   "source": [
    "print(\"=======================1 HR EMA RRI BUYS===========================\")\n",
    "df = pd.read_csv('buy_df_1hr_ema_rri_rules.csv', index_col=0)\n",
    "df_total_count = df.count()\n",
    "total_count = df_total_count[0]\n",
    "print(\"*****Non RRI Buys*****\")\n",
    "non_rri_buys = df.query(\"rri_buy==False\")\n",
    "print_profit_losses_from_df(non_rri_buys, sellupperpcnt=0.5, selllowerpcnt=-4)\n",
    "print(\"\\n*****RRI Buys*****\")\n",
    "rri_buys = df.query(\"rri_buy==True\")\n",
    "print_profit_losses_from_df(rri_buys, sellupperpcnt=0.5, selllowerpcnt=-4)\n",
    "rri_buys.describe()\n",
    "print(\"\\n*****RSI Buys***\")\n",
    "rsi_buys = df.query(\"rsi<30\")\n",
    "print_profit_losses_from_df(rsi_buys, sellupperpcnt=0.5, selllowerpcnt=-4)"
   ]
  },
  {
   "cell_type": "code",
   "execution_count": 233,
   "id": "80eb3b32",
   "metadata": {},
   "outputs": [
    {
     "name": "stdout",
     "output_type": "stream",
     "text": [
      "=======================15 M EMA RRI BUYS===========================\n",
      "*****Non RRI Buys*****\n",
      "Qualifying buy signals = 3815 (24.26%)\n",
      "Profit bank trades     = 2479 (64.98%)\n",
      "Loss trades            = 498 (13.05%)\n",
      "Failsafe      First hr = 183 (4.8%)\n",
      "Failsafe      Three hr = 694 (18.19%)\n",
      "One hr high mean = 1.5147627785058977  One hr low = -1.4336749672346003\n",
      "\n",
      "*****RRI Buys*****\n",
      "Qualifying buy signals = 11910 (75.74%)\n",
      "Profit bank trades     = 8594 (72.16%)\n",
      "Loss trades            = 1164 (9.77%)\n",
      "Failsafe      First hr = 507 (4.26%)\n",
      "Failsafe      Three hr = 1754 (14.73%)\n",
      "One hr high mean = 1.3047404291123266  One hr low = -1.1974960033655868\n",
      "\n",
      "*****RSI Buys***\n",
      "Qualifying buy signals = 1164 (7.4%)\n",
      "Profit bank trades     = 932 (80.07%)\n",
      "Loss trades            = 83 (7.13%)\n",
      "Failsafe      First hr = 79 (6.79%)\n",
      "Failsafe      Three hr = 268 (23.02%)\n",
      "One hr high mean = 1.5992838654012078  One hr low = -1.6989042277825712\n"
     ]
    }
   ],
   "source": [
    "print(\"=======================15 M EMA RRI BUYS===========================\")\n",
    "df = pd.read_csv('buy_df_15m_ema_rri_rules.csv', index_col=0)\n",
    "df_total_count = df.count()\n",
    "total_count = df_total_count[0]\n",
    "print(\"*****Non RRI Buys*****\")\n",
    "non_rri_buys = df.query(\"rri_buy==False\")\n",
    "print_profit_losses_from_df(non_rri_buys, sellupperpcnt=0.5, selllowerpcnt=-4)\n",
    "print(\"\\n*****RRI Buys*****\")\n",
    "rri_buys = df.query(\"rri_buy==True\")\n",
    "print_profit_losses_from_df(rri_buys, sellupperpcnt=0.5, selllowerpcnt=-4)\n",
    "rri_buys.describe()\n",
    "print(\"\\n*****RSI Buys***\")\n",
    "rsi_buys = df.query(\"rsi<30\")\n",
    "print_profit_losses_from_df(rsi_buys, sellupperpcnt=0.5, selllowerpcnt=-4)"
   ]
  },
  {
   "cell_type": "code",
   "execution_count": 234,
   "id": "8b293555",
   "metadata": {},
   "outputs": [
    {
     "name": "stdout",
     "output_type": "stream",
     "text": [
      "Qualifying buy signals = 37 (0.24%)\n",
      "Profit bank trades     = 28 (75.68%)\n",
      "Loss trades            = 2 (5.41%)\n",
      "Failsafe      First hr = 1 (2.7%)\n",
      "Failsafe      Three hr = 2 (5.41%)\n",
      "One hr high mean = 1.392702702702703  One hr low = -0.5824324324324325\n"
     ]
    }
   ],
   "source": [
    "print_profit_losses_from_df(df.query(\"rri_buy==True and (ema12gtema26 or ema12gtema26co) and (ema12gtema26co or macdgtsignalco)\"), sellupperpcnt=0.5, selllowerpcnt=-4)"
   ]
  },
  {
   "cell_type": "code",
   "execution_count": 236,
   "id": "dbfbf362",
   "metadata": {},
   "outputs": [
    {
     "name": "stdout",
     "output_type": "stream",
     "text": [
      "=======================5 M EMA RRI BUYS===========================\n",
      "*****Non RRI Buys*****\n",
      "Qualifying buy signals = 3894 (24.74%)\n",
      "Profit bank trades     = 2502 (64.25%)\n",
      "Loss trades            = 522 (13.41%)\n",
      "Failsafe      First hr = 174 (4.47%)\n",
      "Failsafe      Three hr = 688 (17.67%)\n",
      "One hr high mean = 1.4674370826913201  One hr low = -1.425472521828454\n",
      "\n",
      "*****RRI Buys*****\n",
      "Qualifying buy signals = 11845 (75.26%)\n",
      "Profit bank trades     = 8554 (72.22%)\n",
      "Loss trades            = 1158 (9.78%)\n",
      "Failsafe      First hr = 507 (4.28%)\n",
      "Failsafe      Three hr = 1754 (14.81%)\n",
      "One hr high mean = 1.3062858108679118  One hr low = -1.1969593509676328\n",
      "\n",
      "*****RSI Buys***\n",
      "Qualifying buy signals = 1160 (7.37%)\n",
      "Profit bank trades     = 932 (80.34%)\n",
      "Loss trades            = 83 (7.16%)\n",
      "Failsafe      First hr = 79 (6.81%)\n",
      "Failsafe      Three hr = 269 (23.19%)\n",
      "One hr high mean = 1.5982844827586207  One hr low = -1.7031724137931037\n"
     ]
    }
   ],
   "source": [
    "print(\"=======================5 M EMA RRI BUYS===========================\")\n",
    "df = pd.read_csv('buy_df_5m_ema_rri_rules.csv', index_col=0)\n",
    "df_total_count = df.count()\n",
    "total_count = df_total_count[0]\n",
    "print(\"*****Non RRI Buys*****\")\n",
    "non_rri_buys = df.query(\"rri_buy==False\")\n",
    "print_profit_losses_from_df(non_rri_buys, sellupperpcnt=0.5, selllowerpcnt=-4)\n",
    "print(\"\\n*****RRI Buys*****\")\n",
    "rri_buys = df.query(\"rri_buy==True\")\n",
    "print_profit_losses_from_df(rri_buys, sellupperpcnt=0.5, selllowerpcnt=-4)\n",
    "rri_buys.describe()\n",
    "print(\"\\n*****RSI Buys***\")\n",
    "rsi_buys = df.query(\"rsi<30\")\n",
    "print_profit_losses_from_df(rsi_buys, sellupperpcnt=0.5, selllowerpcnt=-4)"
   ]
  },
  {
   "cell_type": "code",
   "execution_count": null,
   "id": "774a3599",
   "metadata": {},
   "outputs": [],
   "source": []
  }
 ],
 "metadata": {
  "kernelspec": {
   "display_name": "Python 3",
   "language": "python",
   "name": "python3"
  },
  "language_info": {
   "codemirror_mode": {
    "name": "ipython",
    "version": 3
   },
   "file_extension": ".py",
   "mimetype": "text/x-python",
   "name": "python",
   "nbconvert_exporter": "python",
   "pygments_lexer": "ipython3",
   "version": "3.7.4"
  }
 },
 "nbformat": 4,
 "nbformat_minor": 5
}
