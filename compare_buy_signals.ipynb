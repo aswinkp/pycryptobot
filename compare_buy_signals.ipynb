{
 "cells": [
  {
   "cell_type": "code",
   "execution_count": 3,
   "id": "98a369c7",
   "metadata": {},
   "outputs": [],
   "source": [
    "import pandas as pd\n",
    "from datetime import datetime\n",
    "pd.set_option(\"display.max_columns\", None)"
   ]
  },
  {
   "cell_type": "code",
   "execution_count": 10,
   "id": "aa18b12f",
   "metadata": {},
   "outputs": [],
   "source": [
    "def print_profit_losses_from_df(filtered_df, sellupperpcnt=1, selllowerpcnt=-3):\n",
    "    global total_count\n",
    "    filtered_count = filtered_df.count()[0]\n",
    "    filtered_pcnt = filtered_count/total_count*100\n",
    "    loss_trades_count = filtered_df.query(f\"one_hr_high<{sellupperpcnt}\").query(\"three_six_high<0.05\").count()[0]\n",
    "    loss_trades_pcnt = loss_trades_count/filtered_count*100\n",
    "    profit_trades_count = filtered_df.query(f\"one_hr_high>{sellupperpcnt}\").count()[0]\n",
    "    profit_trades_pcnt = profit_trades_count/filtered_count*100\n",
    "    first_hour_fail_count = filtered_df.query(f\"one_hr_low<{selllowerpcnt}\").count()[0]\n",
    "    first_hour_fail_pcnt = first_hour_fail_count/filtered_count*100\n",
    "    three_hour_fail_count = filtered_df.query(f\"three_hr_low<{selllowerpcnt}\").count()[0]\n",
    "    three_hour_fail_pcnt = three_hour_fail_count/filtered_count*100\n",
    "    one_hr_high_mean = filtered_df['one_hr_high'].mean()\n",
    "    one_hr_low_mean = filtered_df['one_hr_low'].mean()\n",
    "    beyond_12_hr_loss = filtered_df.query(f\"twelve_hr_high<0.05\").count()[0]\n",
    "    beyond_12_hr_loss_pcnt = beyond_12_hr_loss/filtered_count*100\n",
    "    \n",
    "    print(f\"Qualifying buy signals = {filtered_count} ({round(filtered_pcnt,2)}%)\",)\n",
    "    print(f\"Profit bank trades     = {profit_trades_count} ({round(profit_trades_pcnt,2)}%)\")\n",
    "    print(f\"Loss trades            = {loss_trades_count} ({round(loss_trades_pcnt, 2)}%)\")\n",
    "    print(f\"Failsafe      First hr = {first_hour_fail_count} ({round(first_hour_fail_pcnt,2)}%)\")\n",
    "    print(f\"Failsafe      Three hr = {three_hour_fail_count} ({round(three_hour_fail_pcnt,2)}%)\")\n",
    "    print(f\"One hr high mean       = {one_hr_high_mean}  One hr low = {one_hr_low_mean}\")\n",
    "    print(f\"12 hr loss             = {beyond_12_hr_loss} ({round(beyond_12_hr_loss_pcnt, 2)}%)\")"
   ]
  },
  {
   "cell_type": "code",
   "execution_count": 11,
   "id": "4650f134",
   "metadata": {},
   "outputs": [
    {
     "name": "stdout",
     "output_type": "stream",
     "text": [
      "=======================1 HR EMA RRI BUYS===========================\n",
      "*****Non RRI Buys*****\n",
      "Qualifying buy signals = 4617 (29.55%)\n",
      "Profit bank trades     = 3120 (67.58%)\n",
      "Loss trades            = 504 (10.92%)\n",
      "Failsafe      First hr = 187 (4.05%)\n",
      "Failsafe      Three hr = 828 (17.93%)\n",
      "One hr high mean       = 1.4946866189546737  One hr low = -1.372363912383431\n",
      "12 hr loss             = 134 (2.9%)\n",
      "\n",
      "*****RRI Buys*****\n",
      "Qualifying buy signals = 11007 (70.45%)\n",
      "Profit bank trades     = 8079 (73.4%)\n",
      "Loss trades            = 875 (7.95%)\n",
      "Failsafe      First hr = 422 (3.83%)\n",
      "Failsafe      Three hr = 1484 (13.48%)\n",
      "One hr high mean       = 1.3112385028685911  One hr low = -1.1315636098715964\n",
      "12 hr loss             = 265 (2.41%)\n",
      "\n",
      "*****RSI Buys***\n",
      "Qualifying buy signals = 885 (5.66%)\n",
      "Profit bank trades     = 715 (80.79%)\n",
      "Loss trades            = 58 (6.55%)\n",
      "Failsafe      First hr = 63 (7.12%)\n",
      "Failsafe      Three hr = 232 (26.21%)\n",
      "One hr high mean       = 1.6197853107344633  One hr low = -1.8109717514124295\n",
      "12 hr loss             = 20 (2.26%)\n"
     ]
    }
   ],
   "source": [
    "print(\"=======================1 HR EMA RRI BUYS===========================\")\n",
    "df = pd.read_csv('buy_df_1hr_ema_rri_rules.csv', index_col=0)\n",
    "df_total_count = df.count()\n",
    "total_count = df_total_count[0]\n",
    "print(\"*****Non RRI Buys*****\")\n",
    "non_rri_buys = df.query(\"rri_buy==False\")\n",
    "print_profit_losses_from_df(non_rri_buys, sellupperpcnt=0.5, selllowerpcnt=-4)\n",
    "print(\"\\n*****RRI Buys*****\")\n",
    "rri_buys = df.query(\"rri_buy==True\")\n",
    "print_profit_losses_from_df(rri_buys, sellupperpcnt=0.5, selllowerpcnt=-4)\n",
    "rri_buys.describe()\n",
    "print(\"\\n*****RSI Buys***\")\n",
    "rsi_buys = df.query(\"rsi<30\")\n",
    "print_profit_losses_from_df(rsi_buys, sellupperpcnt=0.5, selllowerpcnt=-4)"
   ]
  },
  {
   "cell_type": "code",
   "execution_count": 13,
   "id": "80eb3b32",
   "metadata": {},
   "outputs": [
    {
     "name": "stdout",
     "output_type": "stream",
     "text": [
      "=======================15 M EMA RRI BUYS===========================\n",
      "*****Non RRI Buys*****\n",
      "Qualifying buy signals = 3815 (24.26%)\n",
      "Profit bank trades     = 2479 (64.98%)\n",
      "Loss trades            = 498 (13.05%)\n",
      "Failsafe      First hr = 183 (4.8%)\n",
      "Failsafe      Three hr = 694 (18.19%)\n",
      "One hr high mean       = 1.5147627785058977  One hr low = -1.4336749672346003\n",
      "12 hr loss             = 127 (3.33%)\n",
      "\n",
      "*****RRI Buys*****\n",
      "Qualifying buy signals = 11910 (75.74%)\n",
      "Profit bank trades     = 8594 (72.16%)\n",
      "Loss trades            = 1164 (9.77%)\n",
      "Failsafe      First hr = 507 (4.26%)\n",
      "Failsafe      Three hr = 1754 (14.73%)\n",
      "One hr high mean       = 1.3047404291123266  One hr low = -1.1974960033655868\n",
      "12 hr loss             = 367 (3.08%)\n",
      "\n",
      "*****RSI Buys***\n",
      "Qualifying buy signals = 1164 (7.4%)\n",
      "Profit bank trades     = 932 (80.07%)\n",
      "Loss trades            = 83 (7.13%)\n",
      "Failsafe      First hr = 79 (6.79%)\n",
      "Failsafe      Three hr = 268 (23.02%)\n",
      "One hr high mean       = 1.5992838654012078  One hr low = -1.6989042277825712\n",
      "12 hr loss             = 30 (2.58%)\n"
     ]
    }
   ],
   "source": [
    "print(\"=======================15 M EMA RRI BUYS===========================\")\n",
    "df = pd.read_csv('buy_df_15m_ema_rri_rules.csv', index_col=0)\n",
    "df_total_count = df.count()\n",
    "total_count = df_total_count[0]\n",
    "print(\"*****Non RRI Buys*****\")\n",
    "non_rri_buys = df.query(\"rri_buy==False\")\n",
    "print_profit_losses_from_df(non_rri_buys, sellupperpcnt=0.5, selllowerpcnt=-4)\n",
    "print(\"\\n*****RRI Buys*****\")\n",
    "rri_buys = df.query(\"rri_buy==True\")\n",
    "print_profit_losses_from_df(rri_buys, sellupperpcnt=0.5, selllowerpcnt=-4)\n",
    "rri_buys.describe()\n",
    "print(\"\\n*****RSI Buys***\")\n",
    "rsi_buys = df.query(\"rsi<30\")\n",
    "print_profit_losses_from_df(rsi_buys, sellupperpcnt=0.5, selllowerpcnt=-4)"
   ]
  },
  {
   "cell_type": "code",
   "execution_count": 15,
   "id": "234e4113",
   "metadata": {},
   "outputs": [
    {
     "name": "stdout",
     "output_type": "stream",
     "text": [
      "=======================5 M EMA RRI BUYS===========================\n",
      "*****Non RRI Buys*****\n",
      "Qualifying buy signals = 193 (24.4%)\n",
      "Profit bank trades     = 125 (64.77%)\n",
      "Loss trades            = 26 (13.47%)\n",
      "Failsafe      First hr = 2 (1.04%)\n",
      "Failsafe      Three hr = 23 (11.92%)\n",
      "One hr high mean       = 1.0384455958549221  One hr low = -1.04860103626943\n",
      "12 hr loss             = 8 (4.15%)\n",
      "\n",
      "*****RRI Buys*****\n",
      "Qualifying buy signals = 598 (75.6%)\n",
      "Profit bank trades     = 397 (66.39%)\n",
      "Loss trades            = 61 (10.2%)\n",
      "Failsafe      First hr = 9 (1.51%)\n",
      "Failsafe      Three hr = 45 (7.53%)\n",
      "One hr high mean       = 1.0108710217755443  One hr low = -0.9131658291457287\n",
      "12 hr loss             = 22 (3.68%)\n",
      "\n",
      "*****RSI Buys***\n",
      "Qualifying buy signals = 39 (4.93%)\n",
      "Profit bank trades     = 30 (76.92%)\n",
      "Loss trades            = 2 (5.13%)\n",
      "Failsafe      First hr = 2 (5.13%)\n",
      "Failsafe      Three hr = 6 (15.38%)\n",
      "One hr high mean       = 1.3382051282051282  One hr low = -1.5330769230769232\n",
      "12 hr loss             = 2 (5.13%)\n"
     ]
    }
   ],
   "source": [
    "print(\"=======================5 M EMA RRI BUYS===========================\")\n",
    "df = pd.read_csv('buy_df_5m_ema_rri_rules.csv', index_col=0)\n",
    "df_total_count = df.count()\n",
    "total_count = df_total_count[0]\n",
    "print(\"*****Non RRI Buys*****\")\n",
    "non_rri_buys = df.query(\"rri_buy==False\")\n",
    "print_profit_losses_from_df(non_rri_buys, sellupperpcnt=0.5, selllowerpcnt=-4)\n",
    "print(\"\\n*****RRI Buys*****\")\n",
    "rri_buys = df.query(\"rri_buy==True\")\n",
    "print_profit_losses_from_df(rri_buys, sellupperpcnt=0.5, selllowerpcnt=-4)\n",
    "rri_buys.describe()\n",
    "print(\"\\n*****RSI Buys***\")\n",
    "rsi_buys = df.query(\"rsi<30\")\n",
    "print_profit_losses_from_df(rsi_buys, sellupperpcnt=0.5, selllowerpcnt=-4)"
   ]
  },
  {
   "cell_type": "code",
   "execution_count": null,
   "id": "7df0819c",
   "metadata": {},
   "outputs": [],
   "source": []
  }
 ],
 "metadata": {
  "kernelspec": {
   "display_name": "Python 3",
   "language": "python",
   "name": "python3"
  },
  "language_info": {
   "codemirror_mode": {
    "name": "ipython",
    "version": 3
   },
   "file_extension": ".py",
   "mimetype": "text/x-python",
   "name": "python",
   "nbconvert_exporter": "python",
   "pygments_lexer": "ipython3",
   "version": "3.7.4"
  }
 },
 "nbformat": 4,
 "nbformat_minor": 5
}
